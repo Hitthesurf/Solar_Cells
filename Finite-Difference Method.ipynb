{
 "cells": [
  {
   "cell_type": "markdown",
   "metadata": {
    "toc": true
   },
   "source": [
    "<h1>Table of Contents<span class=\"tocSkip\"></span></h1>\n",
    "<div class=\"toc\"><ul class=\"toc-item\"><li><span><a href=\"#Finite-Difference-Method-Recap\" data-toc-modified-id=\"Finite-Difference-Method-Recap-1\"><span class=\"toc-item-num\">1&nbsp;&nbsp;</span>Finite-Difference Method Recap</a></span><ul class=\"toc-item\"><li><span><a href=\"#Taylor-Series-(1-var-General-Idea-of-what-needs-doing)\" data-toc-modified-id=\"Taylor-Series-(1-var-General-Idea-of-what-needs-doing)-1.1\"><span class=\"toc-item-num\">1.1&nbsp;&nbsp;</span>Taylor Series (1 var General Idea of what needs doing)</a></span><ul class=\"toc-item\"><li><ul class=\"toc-item\"><li><span><a href=\"#Backward-Difference\" data-toc-modified-id=\"Backward-Difference-1.1.0.1\"><span class=\"toc-item-num\">1.1.0.1&nbsp;&nbsp;</span>Backward Difference</a></span></li></ul></li></ul></li><li><span><a href=\"#Taylor-Series-(Partial)\" data-toc-modified-id=\"Taylor-Series-(Partial)-1.2\"><span class=\"toc-item-num\">1.2&nbsp;&nbsp;</span>Taylor Series (Partial)</a></span><ul class=\"toc-item\"><li><span><a href=\"#Find-partials-of-$u$-in-terms-of-$u$-(In-this-case-4)\" data-toc-modified-id=\"Find-partials-of-$u$-in-terms-of-$u$-(In-this-case-4)-1.2.1\"><span class=\"toc-item-num\">1.2.1&nbsp;&nbsp;</span>Find partials of $u$ in terms of $u$ (In this case 4)</a></span></li><li><span><a href=\"#Use-Grid\" data-toc-modified-id=\"Use-Grid-1.2.2\"><span class=\"toc-item-num\">1.2.2&nbsp;&nbsp;</span>Use Grid</a></span></li><li><span><a href=\"#Example-1-Dirichlet-Laplace-with-extra-bit\" data-toc-modified-id=\"Example-1-Dirichlet-Laplace-with-extra-bit-1.2.3\"><span class=\"toc-item-num\">1.2.3&nbsp;&nbsp;</span>Example 1 Dirichlet Laplace with extra bit</a></span></li><li><span><a href=\"#Example-2-Neumann-Laplace-with-extra-bit\" data-toc-modified-id=\"Example-2-Neumann-Laplace-with-extra-bit-1.2.4\"><span class=\"toc-item-num\">1.2.4&nbsp;&nbsp;</span>Example 2 Neumann Laplace with extra bit</a></span></li><li><span><a href=\"#Coupled-PDE\" data-toc-modified-id=\"Coupled-PDE-1.2.5\"><span class=\"toc-item-num\">1.2.5&nbsp;&nbsp;</span>Coupled PDE</a></span></li><li><span><a href=\"#Method\" data-toc-modified-id=\"Method-1.2.6\"><span class=\"toc-item-num\">1.2.6&nbsp;&nbsp;</span>Method</a></span></li><li><span><a href=\"#Example-Coupled-Laplace-Equation\" data-toc-modified-id=\"Example-Coupled-Laplace-Equation-1.2.7\"><span class=\"toc-item-num\">1.2.7&nbsp;&nbsp;</span>Example Coupled Laplace Equation</a></span><ul class=\"toc-item\"><li><span><a href=\"#Check\" data-toc-modified-id=\"Check-1.2.7.1\"><span class=\"toc-item-num\">1.2.7.1&nbsp;&nbsp;</span>Check</a></span></li></ul></li></ul></li><li><span><a href=\"#Time-Dependence\" data-toc-modified-id=\"Time-Dependence-1.3\"><span class=\"toc-item-num\">1.3&nbsp;&nbsp;</span>Time Dependence</a></span><ul class=\"toc-item\"><li><span><a href=\"#Example-1D-Heat-Equation\" data-toc-modified-id=\"Example-1D-Heat-Equation-1.3.1\"><span class=\"toc-item-num\">1.3.1&nbsp;&nbsp;</span>Example 1D Heat Equation</a></span></li><li><span><a href=\"#Example-2D-Wave-Equation\" data-toc-modified-id=\"Example-2D-Wave-Equation-1.3.2\"><span class=\"toc-item-num\">1.3.2&nbsp;&nbsp;</span>Example 2D Wave Equation</a></span><ul class=\"toc-item\"><li><span><a href=\"#Compare-to-Analytic-Solution\" data-toc-modified-id=\"Compare-to-Analytic-Solution-1.3.2.1\"><span class=\"toc-item-num\">1.3.2.1&nbsp;&nbsp;</span>Compare to Analytic Solution</a></span></li><li><span><a href=\"#Compute-On-GPU-(CUDA)\" data-toc-modified-id=\"Compute-On-GPU-(CUDA)-1.3.2.2\"><span class=\"toc-item-num\">1.3.2.2&nbsp;&nbsp;</span>Compute On GPU (CUDA)</a></span></li></ul></li></ul></li><li><span><a href=\"#Coupled-Time-Dependence\" data-toc-modified-id=\"Coupled-Time-Dependence-1.4\"><span class=\"toc-item-num\">1.4&nbsp;&nbsp;</span>Coupled Time Dependence</a></span><ul class=\"toc-item\"><li><span><a href=\"#Example-Coupled-Time-Dependence-(Heat)\" data-toc-modified-id=\"Example-Coupled-Time-Dependence-(Heat)-1.4.1\"><span class=\"toc-item-num\">1.4.1&nbsp;&nbsp;</span>Example Coupled Time Dependence (Heat)</a></span><ul class=\"toc-item\"><li><span><a href=\"#Method-1\" data-toc-modified-id=\"Method-1-1.4.1.1\"><span class=\"toc-item-num\">1.4.1.1&nbsp;&nbsp;</span>Method 1</a></span></li><li><span><a href=\"#Analytic-Solution\" data-toc-modified-id=\"Analytic-Solution-1.4.1.2\"><span class=\"toc-item-num\">1.4.1.2&nbsp;&nbsp;</span>Analytic Solution</a></span></li></ul></li><li><span><a href=\"#Example-Coupled-Time-Dependence-(Wave)\" data-toc-modified-id=\"Example-Coupled-Time-Dependence-(Wave)-1.4.2\"><span class=\"toc-item-num\">1.4.2&nbsp;&nbsp;</span>Example Coupled Time Dependence (Wave)</a></span></li></ul></li></ul></li></ul></div>"
   ]
  },
  {
   "cell_type": "markdown",
   "metadata": {},
   "source": [
    "Latex Commands\n",
    "$\\newcommand{\\L}{\\mathcal{L}}$"
   ]
  },
  {
   "cell_type": "code",
   "execution_count": 1,
   "metadata": {
    "ExecuteTime": {
     "end_time": "2021-09-17T14:15:30.947077Z",
     "start_time": "2021-09-17T14:15:30.224844Z"
    }
   },
   "outputs": [],
   "source": [
    "%matplotlib notebook\n",
    "# For matplotlib animations"
   ]
  },
  {
   "cell_type": "code",
   "execution_count": 2,
   "metadata": {
    "ExecuteTime": {
     "end_time": "2021-09-17T14:15:34.490300Z",
     "start_time": "2021-09-17T14:15:32.191905Z"
    }
   },
   "outputs": [],
   "source": [
    "import numpy as np\n",
    "import matplotlib\n",
    "import matplotlib.pyplot as plt\n",
    "import matplotlib.animation as animation\n",
    "\n",
    "import Grid as GridClass"
   ]
  },
  {
   "cell_type": "code",
   "execution_count": 3,
   "metadata": {
    "ExecuteTime": {
     "end_time": "2021-09-17T14:15:35.543792Z",
     "start_time": "2021-09-17T14:15:35.534795Z"
    }
   },
   "outputs": [],
   "source": [
    "import ipyvolume as ipv  # Does not come with default anaconda #Used to show 3D graphs\n",
    "import ipywidgets as widgets"
   ]
  },
  {
   "cell_type": "code",
   "execution_count": 4,
   "metadata": {
    "ExecuteTime": {
     "end_time": "2021-09-17T14:15:36.592367Z",
     "start_time": "2021-09-17T14:15:36.575381Z"
    }
   },
   "outputs": [],
   "source": [
    "GridS = GridClass.GridS\n",
    "GridD = GridClass.GridD"
   ]
  },
  {
   "cell_type": "markdown",
   "metadata": {},
   "source": [
    "# Finite-Difference Method Recap"
   ]
  },
  {
   "cell_type": "markdown",
   "metadata": {},
   "source": [
    "Parabolic (Heat flow, diffusion)($\\frac{\\partial u}{\\partial t} =$ ...)\n",
    "\n",
    "Hyperbolic (Waves, vibrating systems)($\\frac{\\partial ^2u}{\\partial t^2} = $...)\n",
    "\n",
    "Elliptic Equations (Time is not involved, steady state)\n",
    "\n",
    "Explicit Methods, Calculate state of system later in time from the current state\n",
    "$Y(t +\\delta t)=F(Y(t))$\n",
    "\n",
    "Implicit Methods, Find a solution by solving a set of equations involving the current state and later one\n",
    "$G(Y(t),Y(t+\\delta t))=0$"
   ]
  },
  {
   "cell_type": "markdown",
   "metadata": {},
   "source": [
    "## Taylor Series (1 var General Idea of what needs doing)\n",
    "IDEA = Find $f^\\prime(x)$ and $f^{\\prime\\prime}(x)$ as functions of $f(x)$\n",
    "\n",
    "> $f(x+h) = f(x) + f^\\prime(x)h + ... = \\sum^{\\inf}_{n=0}{\\frac{1}{n!}f^{(n)}(x)h^n}$\n",
    "\n",
    "\n",
    "##### For $f^\\prime(x)$ Central\n",
    "Take first two terms of expansion, and take the difference.\n",
    "\n",
    "> \\begin{align*}\n",
    "f(x \\pm h) &= f(x) \\pm f^\\prime(x)h \\\\\n",
    "\\ f^\\prime(x) &= \\frac{1}{2h}[f(x+h)-f(x-h)] \n",
    "\\end{align*}\n",
    "\n",
    "##### For $f^{\\prime\\prime}(x)$ Central\n",
    "Take first 3 terms of exansion, and add the together for positive and negative h\n",
    "\n",
    "> \\begin{align*}\n",
    "  f(x + h) &= f(x) + f^\\prime(x)h + \\frac{1}{2}f^{\\prime\\prime}(x)h^2\\\\\n",
    "\\ f(x - h) &= f(x) - f^\\prime(x)h + \\frac{1}{2}f^{\\prime\\prime}(x)h^2\\\\\n",
    "\\ f^{\\prime\\prime}(x) &= \\frac{1}{h^2}[f(x+h) - 2f(x) + f(x-h)]\n",
    "\\end{align*}\n",
    "\n",
    "##### For $f^{\\prime\\prime\\prime}(x)$ Central\n",
    "\n",
    "Take first 4 terms of the expansion for $f(x \\pm h)$ and $f(x \\pm 2h)$.\n",
    "\n",
    "> \\begin{align*}\n",
    "  f(x \\pm h) &= f(x) \\pm f^\\prime(x)h + \\frac{1}{2}f^{\\prime\\prime}(x)h^2 \\pm \\frac{1}{6}f^{\\prime\\prime\\prime}(x)h^3\\\\\n",
    "\\ f(x \\pm 2h) &= f(x) \\pm 2f^\\prime(x)h + \\frac{4}{2}f^{\\prime\\prime}(x)h^2 \\pm \\frac{8}{6}f^{\\prime\\prime\\prime}(x)h^3\\\\\n",
    "\\ f(x+h)-f(x-h) &=  2f^\\prime(x)h + \\frac{1}{3}f^{\\prime\\prime\\prime}h^3\\\\\n",
    "\\ f(x+2h)-f(x-2h) &= 4f^\\prime(x)h + \\frac{8}{3}f^{\\prime\\prime\\prime}h^3\\\\\n",
    "\\ f^{\\prime\\prime\\prime}(x) &= \\frac{1}{2h^3}[f(x+2h)-2f(x+h)+2f(x-h)-f(x-2h)]\n",
    "\\end{align*}\n",
    "\n",
    "\n",
    "If on boundary, we will have to use a forward/backward difference equation"
   ]
  },
  {
   "cell_type": "markdown",
   "metadata": {},
   "source": [
    "#### Backward Difference\n",
    "We use this on upper boundaries or when the variable is time as we can't see into the future. No we use forward one as we need to see into future.\n",
    "\n",
    "> $f^{\\prime}(x) = \\frac{1}{h}[f(x)-f(x-h)]$\n",
    "\n",
    "> $f^{\\prime\\prime}(x) = \\frac{1}{h^2}[f(x-2h)-2f(x-h)+f(x)]$\n"
   ]
  },
  {
   "cell_type": "markdown",
   "metadata": {},
   "source": [
    "## Taylor Series (Partial)\n",
    "At $(a,b)$\n",
    "\n",
    "> \\begin{align*}\n",
    "f(x+a,y+b) &= f(x,y)(a)^0(b)^0 + f_x(x,y)(a)^1(b)^0 + f_y(x,y)(a)^0(b)^1\\\\\n",
    "\\ &+ \\frac{1}{2!}(f_{xx}(x,y)a^2+2f_{xy}(x,y)ab+f_{yy}(x,y)b^2) + ...\\\\\n",
    "\\ f(x+a,y+b) &= \\sum_{n=0}^{\\inf}\\frac{1}{n!}\\sum^{n}_{j=0}{N\\choose k}f_{x^jy^{n-j}}(x,y)a^jb^{n-j}\n",
    "\\end{align*}\n",
    "\n",
    "This will be good enough for 2D models (no time dependence), and 1D models with time dependence\n",
    "\n",
    "Could try 2D model with time dependence but python could be too slow, also application isn't for 2D model."
   ]
  },
  {
   "cell_type": "markdown",
   "metadata": {},
   "source": [
    "### Find partials of $u$ in terms of $u$ (In this case 4)\n",
    "\n",
    "##### $u_x$ and $u_y$\n",
    "Take the difference of the difference equations\n",
    "> \\begin{align*}\n",
    "  u(x \\pm h,y) &= u(x,y) \\pm u_x(x,y)h \\\\\n",
    "\\ u_x(x,y) &= \\frac{1}{2h}[u(x+h,y) - u(x-h,y)]\n",
    "\\end{align*}\n",
    "\n",
    "Similar for $u_y$\n",
    ">  $u_y(x,y) = \\frac{1}{2k}[u(x,y+k) - u(x,y-k)]$\n"
   ]
  },
  {
   "cell_type": "markdown",
   "metadata": {},
   "source": [
    "##### $u_{xx}$ and $u_{yy}$\n",
    "Extremely similar to the derivation for $f(x)$, note as we are doing extension in one direction, we will only get partial derivatives of the variable of extension.\n",
    "> $u_{xx}(x,y) = \\frac{1}{h^2}[u(x+h,y)-2u(x,y)+u(x-h,y)]$\n",
    "\n",
    "> $u_{yy}(x,y) = \\frac{1}{k^2}[u(x,y+k)-2u(x,y)+u(x,y-k)]$\n"
   ]
  },
  {
   "cell_type": "markdown",
   "metadata": {},
   "source": [
    "###  Use Grid\n",
    "Have points on a 2D grid (to keep things simple we will use a square), run iterations over the points with equations.\n",
    "\n",
    "Let $u_{i,j}$ represent the grid point $x=ih$ from the left side of the square, and $y=jk$ from the bottom of the square. The edges of the square will fit our boundary conditions."
   ]
  },
  {
   "cell_type": "markdown",
   "metadata": {},
   "source": [
    "###### Our Equations for the Grid\n",
    "We will use these grid points to define our equation\n",
    "> \\begin{align*}\n",
    "  u(x,y) &= u_{i,j}\\\\\n",
    "\\ u(x+h,y) &= u_{i+1,j}\\\\\n",
    "\\ u(x,y+k) &= u_{i,j+1}\\\\\n",
    "\\ u(x-h,y) &= u_{i-1,j}\n",
    "\\end{align*}\n",
    "\n",
    "This gives us\n",
    "> \\begin{align*}\n",
    "  u_x(x,y) &= \\frac{1}{2h}(u_{i+1,j}-u_{i-1,j})\\\\\n",
    "\\ u_y(x,y) &= \\frac{1}{2k}(u_{i,j+1}-u_{i,j-1})\\\\\n",
    "\\ u_{xx}(x,y) &= \\frac{1}{h^2}(u_{i+1,j}-2u_{i,j}+u_{i-1,j})\\\\\n",
    "\\ u_{yy}(x,y) &= \\frac{1}{k^2}(u_{i,j+1}-2u_{i,j}+u_{i,j-1})\n",
    "\\end{align*}\n",
    "\n",
    "We also have the backward equations, (used for time) where we can take $y=t$\n",
    "\n"
   ]
  },
  {
   "cell_type": "markdown",
   "metadata": {},
   "source": [
    "### Example 1 Dirichlet Laplace with extra bit"
   ]
  },
  {
   "cell_type": "markdown",
   "metadata": {},
   "source": [
    "> \\begin{align*}\n",
    "  PDE \\text{  } & u_{xx} + u_{yy} + \\alpha u = 0, 0<x<1, 0<y<1\\\\\n",
    "\\ BC \\text{  }&  sin(y\\pi) \\text{ on the right, $0$ elsewhere}\n",
    "\\end{align*}"
   ]
  },
  {
   "cell_type": "markdown",
   "metadata": {},
   "source": [
    "Set $k=h$, we can deal with the boundary conditions by not changing them each cycle\n",
    "> \\begin{align*}\n",
    "  u_{xx} + u_{yy} + \\alpha u &= 0\\\\\n",
    "\\ \\frac{1}{h^2}(u_{i+1,j}-2u_{i,j}+u_{i-1,j}) + \\frac{1}{h^2}(u_{i,j+1}-2u_{i,j}+u_{i,j-1}) + \\alpha u_{i,j} &= 0\\\\\n",
    "\\ \\frac{1}{h^2}(u_{i+1,j}+u_{i-1,j} +u_{i,j+1}+u_{i,j-1}) &= u_{i,j}(\\frac{4}{h^2}-\\alpha) \\\\\n",
    "\\ \\frac{1}{4-\\alpha h^2}(u_{i+1,j}+u_{i-1,j} +u_{i,j+1}+u_{i,j-1})  &= u_{i,j}\n",
    "\\end{align*}\n",
    "\n",
    "You should calculate for every grid-point before moving to the next grid iteration, but for steady state questions it does not matter.\n",
    "\n",
    "Implement in code"
   ]
  },
  {
   "cell_type": "markdown",
   "metadata": {},
   "source": [
    "##### 2 Grid/Buffers Method\n",
    "This code method uses two Grids (Which are a form of buffers) takes longer but this method is required for solutions involving time, i.e. the output image is not static. Runs above maths equation on all grid points and outputs the answer for each grid point to the other grid. Then swaps the grids over and repeats."
   ]
  },
  {
   "cell_type": "code",
   "execution_count": 5,
   "metadata": {
    "ExecuteTime": {
     "end_time": "2021-09-17T14:15:51.636380Z",
     "start_time": "2021-09-17T14:15:49.688585Z"
    }
   },
   "outputs": [
    {
     "name": "stdout",
     "output_type": "stream",
     "text": [
      "693\n"
     ]
    }
   ],
   "source": [
    "# x and y start at zero\n",
    "h = 0.05\n",
    "Num = 21\n",
    "alpha = 6\n",
    "Grid = np.zeros([Num, Num])\n",
    "Grid_Old = Grid.copy()\n",
    "\n",
    "\n",
    "# Boundary Conditions\n",
    "sin_bound = np.array([np.sin(j*h*np.pi) for j in range(0, Num)])\n",
    "Grid_Old[:, len(Grid_Old[0])-1] = sin_bound\n",
    "Grid[:, len(Grid[0])-1] = sin_bound\n",
    "\n",
    "\n",
    "def u_(i, j):\n",
    "    return Grid_Old[len(Grid_Old)-j-1][i]\n",
    "\n",
    "\n",
    "def new_u_(i, j):\n",
    "    temp = u_(i+1, j) + u_(i-1, j)+u_(i, j+1)+u_(i, j-1)\n",
    "    return temp/(4-alpha*h**2)\n",
    "\n",
    "\n",
    "def Set_u_(i, j):\n",
    "    Grid[len(Grid)-j-1][i] = new_u_(i, j)\n",
    "\n",
    "\n",
    "# for t in range(20):\n",
    "count = 0\n",
    "while True:\n",
    "\n",
    "    # For each cell not in the boundary\n",
    "    for i in range(1, len(Grid_Old[0])-1):\n",
    "        # Possible to parrelle process. However, for short tasks like this python overhead\n",
    "        for j in range(1, len(Grid_Old)-1):\n",
    "            # would lead to worse performace! (Better option would be to thread)\n",
    "            Set_u_(i, j)\n",
    "\n",
    "    if np.max(np.abs(Grid-Grid_Old)) < 0.00001:\n",
    "        # Steady state has been reached\n",
    "        print(count)\n",
    "        break\n",
    "\n",
    "    # very important to have copy otherwise, it will set by reference to ram\n",
    "    Grid_Old = Grid.copy()\n",
    "    count += 1"
   ]
  },
  {
   "cell_type": "markdown",
   "metadata": {},
   "source": [
    "##### Single Buffer Method\n",
    "This reads and writes to the same grid. A lot faster than double buffer method."
   ]
  },
  {
   "cell_type": "code",
   "execution_count": 6,
   "metadata": {
    "ExecuteTime": {
     "end_time": "2021-09-17T14:16:05.002030Z",
     "start_time": "2021-09-17T14:16:03.901430Z"
    }
   },
   "outputs": [
    {
     "name": "stdout",
     "output_type": "stream",
     "text": [
      "391\n"
     ]
    }
   ],
   "source": [
    "# x and y start at zero\n",
    "h = 0.05\n",
    "Num = 21\n",
    "alpha = 6\n",
    "Grid_S = np.zeros([Num, Num])  # S means single buffer\n",
    "\n",
    "\n",
    "# Boundary Conditions\n",
    "sin_bound = np.array([np.sin(j*h*np.pi) for j in range(0, Num)])\n",
    "Grid_S[:, len(Grid_S[0])-1] = sin_bound\n",
    "\n",
    "\n",
    "def u_(i, j):\n",
    "    return Grid_S[len(Grid_S)-j-1][i]\n",
    "\n",
    "\n",
    "def new_u_(i, j):\n",
    "    temp = u_(i+1, j) + u_(i-1, j)+u_(i, j+1)+u_(i, j-1)\n",
    "    return temp/(4-alpha*h**2)\n",
    "\n",
    "\n",
    "def Set_u_(i, j):\n",
    "    Grid_S[len(Grid_S)-j-1][i] = new_u_(i, j)\n",
    "\n",
    "\n",
    "# for t in range(20):\n",
    "count = 0\n",
    "while True:\n",
    "\n",
    "    # For each cell not in the boundary\n",
    "    for i in range(1, len(Grid_S[0])-1):\n",
    "        # Possible to parrelle process as race errors here don't matter\n",
    "        for j in range(1, len(Grid_S)-1):\n",
    "            Set_u_(i, j)\n",
    "\n",
    "    if np.max(np.abs(Grid_S-Grid_Old)) < 0.00001:\n",
    "        # Steady state has been reached\n",
    "        print(count)\n",
    "        break\n",
    "\n",
    "    # very important to have copy otherwise, it will set by reference to ram\n",
    "    Grid_Old = Grid_S.copy()\n",
    "    count += 1  # This part is double buffer but this is for checking that we have reached steady state,\n",
    "    # We are still reading from and to the same grid, to make true single buffer, when writing to a grid point\n",
    "    # Compare to the value that is about to be overwritten if not similar return False to indicate to the loop another\n",
    "    # interation is needed."
   ]
  },
  {
   "cell_type": "code",
   "execution_count": 7,
   "metadata": {
    "ExecuteTime": {
     "end_time": "2021-09-17T14:16:07.920224Z",
     "start_time": "2021-09-17T14:16:07.900953Z"
    }
   },
   "outputs": [],
   "source": [
    "# Check same answer\n",
    "# But why is the difference so high?\n",
    "assert np.max(np.abs(Grid_S-Grid)) < 0.001"
   ]
  },
  {
   "cell_type": "code",
   "execution_count": 8,
   "metadata": {
    "ExecuteTime": {
     "end_time": "2021-09-17T14:16:11.582292Z",
     "start_time": "2021-09-17T14:16:11.561300Z"
    }
   },
   "outputs": [
    {
     "data": {
      "text/plain": [
       "0.000572530556341877"
      ]
     },
     "execution_count": 8,
     "metadata": {},
     "output_type": "execute_result"
    }
   ],
   "source": [
    "np.max(np.abs(Grid_S-Grid))"
   ]
  },
  {
   "cell_type": "code",
   "execution_count": 9,
   "metadata": {
    "ExecuteTime": {
     "end_time": "2021-09-17T14:16:16.257219Z",
     "start_time": "2021-09-17T14:16:16.241228Z"
    }
   },
   "outputs": [],
   "source": [
    "# As can be seen the single buffer method requires many less cycles."
   ]
  },
  {
   "cell_type": "code",
   "execution_count": 11,
   "metadata": {
    "ExecuteTime": {
     "end_time": "2021-09-17T14:16:36.871897Z",
     "start_time": "2021-09-17T14:16:36.706004Z"
    }
   },
   "outputs": [
    {
     "data": {
      "application/vnd.jupyter.widget-view+json": {
       "model_id": "60ba483530a5414bbca4d5615e3ef69e",
       "version_major": 2,
       "version_minor": 0
      },
      "text/plain": [
       "VBox(children=(Figure(camera=PerspectiveCamera(fov=46.0, position=(0.0, 0.0, 2.0), projectionMatrix=(1.0, 0.0,…"
      ]
     },
     "metadata": {},
     "output_type": "display_data"
    }
   ],
   "source": [
    "# Now visulaise the data\n",
    "a = np.arange(0, 1.0001, h)\n",
    "U, V = np.meshgrid(a, a)\n",
    "X = U\n",
    "Y = V\n",
    "Z = Grid\n",
    "\n",
    "ipv.figure()\n",
    "ipv.plot_surface(X, Y, Z, color=\"orange\")\n",
    "ipv.plot_wireframe(X, Y, Z, color=\"red\")\n",
    "ipv.show()"
   ]
  },
  {
   "cell_type": "markdown",
   "metadata": {},
   "source": [
    "$\\alpha = 3$, Num $=21$, $h=0.05$ a picture in-case ipyvolume is not installed\n",
    "\n",
    "![title](Finite_DifferenceExample1Solution.png)"
   ]
  },
  {
   "cell_type": "markdown",
   "metadata": {},
   "source": [
    "### Example 2 Neumann Laplace with extra bit"
   ]
  },
  {
   "cell_type": "markdown",
   "metadata": {},
   "source": [
    "> \\begin{align*}\n",
    "  PDE \\text{  } & u_{xx} + u_{yy} + \\alpha u = 0, 0<x<1, 0<y<1\\\\\n",
    "\\ BC \\text{  }&  \\frac{\\partial u}{\\partial x}(1,y)=1 \\text{ on the right, $0$ elsewhere}\n",
    "\\end{align*}"
   ]
  },
  {
   "cell_type": "markdown",
   "metadata": {},
   "source": [
    "We must find equation for boundary, as anything outside the boundary is unknown. This is done by taking the backwards difference formula. (We take this one as we only have information behind x ie (x<1))\n",
    "\n",
    "> \\begin{align*}\n",
    "  u_x(x,y) &= \\frac{1}{h}(u(x,y)-u(x-h,y))\\\\\n",
    "\\ u_x(x,y) &= \\frac{1}{h}(u_{i,j} - u_{i-1,j})\\\\\n",
    "\\ 1 = u_x(1,y) &= \\frac{1}{h}(u_{n,j} - u_{n-1,j})\\\\\n",
    "\\ u_{n,j} &= u_{n-1,j} + h\n",
    "\\end{align*}\n"
   ]
  },
  {
   "cell_type": "code",
   "execution_count": 12,
   "metadata": {
    "ExecuteTime": {
     "end_time": "2021-09-17T14:17:03.139899Z",
     "start_time": "2021-09-17T14:16:57.931108Z"
    }
   },
   "outputs": [
    {
     "name": "stdout",
     "output_type": "stream",
     "text": [
      "1912\n"
     ]
    }
   ],
   "source": [
    "# x and y start at zero\n",
    "h = 0.05\n",
    "Num = 21\n",
    "alpha = 10\n",
    "Grid_S = np.zeros([Num, Num])  # S means single buffer\n",
    "\n",
    "\n",
    "# Boundary Conditions\n",
    "sin_bound = np.array([np.sin(j*h*np.pi) for j in range(0, Num)])\n",
    "Grid_S[:, len(Grid_S[0])-1] = sin_bound\n",
    "\n",
    "\n",
    "def u_(i, j):\n",
    "    return Grid_S[len(Grid_S)-j-1][i]\n",
    "\n",
    "\n",
    "def new_u_(i, j):\n",
    "    temp = u_(i+1, j) + u_(i-1, j)+u_(i, j+1)+u_(i, j-1)\n",
    "    return temp/(4-alpha*h**2)\n",
    "\n",
    "\n",
    "def Set_u_(i, j):\n",
    "    Grid_S[len(Grid_S)-j-1][i] = new_u_(i, j)\n",
    "\n",
    "\n",
    "def new_u_b(n, j):\n",
    "    # i is fixxed to n\n",
    "    return u_(n-1, j) + h\n",
    "\n",
    "\n",
    "def Set_u_b(n, j):  # b for bound\n",
    "    Grid_S[len(Grid_S)-j-1][n] = new_u_b(n, j)\n",
    "\n",
    "\n",
    "# for t in range(20):\n",
    "count = 0\n",
    "while True:\n",
    "\n",
    "    # For each cell not in the boundary\n",
    "    for i in range(1, len(Grid_S[0])-1):\n",
    "        # Possible to parrelle process as race errors here don't matter\n",
    "        for j in range(1, len(Grid_S)-1):\n",
    "            Set_u_(i, j)\n",
    "\n",
    "    # For each cell in neumann boundary\n",
    "    i = len(Grid_S[0])-1  # i=n\n",
    "    for j in range(1, len(Grid_S)-1):\n",
    "        Set_u_b(i, j)\n",
    "\n",
    "    if np.max(np.abs(Grid_S-Grid_Old)) < 0.00001:\n",
    "        # Steady state has been reached\n",
    "        print(count)\n",
    "        break\n",
    "\n",
    "    # very important to have copy otherwise, it will set by reference to ram\n",
    "    Grid_Old = Grid_S.copy()\n",
    "    count += 1  # This part is double buffer but this is for checking that we have reached steady state,\n",
    "    # We are still reading from and to the same grid, to make true single buffer, when writing to a grid point\n",
    "    # Compare to the value that is about to be overwritten if not similar return False to indicate to the loop another\n",
    "    # interation is needed."
   ]
  },
  {
   "cell_type": "code",
   "execution_count": 13,
   "metadata": {
    "ExecuteTime": {
     "end_time": "2021-09-17T14:17:06.912526Z",
     "start_time": "2021-09-17T14:17:06.764616Z"
    }
   },
   "outputs": [
    {
     "data": {
      "application/vnd.jupyter.widget-view+json": {
       "model_id": "e43c9526b92742e390056316cd5c4453",
       "version_major": 2,
       "version_minor": 0
      },
      "text/plain": [
       "VBox(children=(Figure(camera=PerspectiveCamera(fov=46.0, position=(0.0, 0.0, 2.0), projectionMatrix=(1.0, 0.0,…"
      ]
     },
     "metadata": {},
     "output_type": "display_data"
    }
   ],
   "source": [
    "# Now visulaise the data\n",
    "a = np.arange(0, 1.0001, h)\n",
    "U, V = np.meshgrid(a, a)\n",
    "X = U\n",
    "Y = V\n",
    "Z = Grid_S\n",
    "\n",
    "ipv.figure()\n",
    "ipv.plot_surface(X, Y, Z, color=\"orange\")\n",
    "ipv.plot_wireframe(X, Y, Z, color=\"red\")\n",
    "ipv.show()"
   ]
  },
  {
   "cell_type": "markdown",
   "metadata": {},
   "source": [
    "### Coupled PDE"
   ]
  },
  {
   "cell_type": "markdown",
   "metadata": {},
   "source": [
    "### Method\n",
    "We will use a segregation method, IDEA is we solve the PDE for $\\phi_1$ while keeping the other $\\phi$'s frozen. Then we solve the next PDE. Once solved all the PDE's we start again with are up to date frozen $\\phi$'s. This keeps on repeating untill there is convergence. Here is a picture demonstrating this idea.\n",
    "\n",
    "![title](SegregatedSolutionPic.PNG)\n",
    "\n",
    "There are two main strategies,\n",
    "\n",
    "##### Strategy 1\n",
    "Do a fixed number of iterations for each PDE. (We will use this method)\n",
    "\n",
    "##### Strategy 2\n",
    "Keep iterating each PDE until it converges\n",
    "\n"
   ]
  },
  {
   "cell_type": "markdown",
   "metadata": {},
   "source": [
    "### Example Coupled Laplace Equation\n",
    "\n",
    "> \\begin{align*}\n",
    "  PDE \\text{  } & u_{xx} + u_{yy} + \\alpha g = 0, 0<x<1, 0<y<1\\\\\n",
    "\\ BC \\text{  }&  \\frac{\\partial u}{\\partial x}(1,y)=1 \\text{ on the right, $0$ elsewhere}\n",
    "\\end{align*}\n",
    "\n",
    "> \\begin{align*}\n",
    "  PDE \\text{  } & g_{xx} + g_{yy} + \\alpha u = 0, 0<x<1, 0<y<1\\\\\n",
    "\\ BC \\text{  }&  sin(y\\pi) \\text{ on the right, $0$ elsewhere}\n",
    "\\end{align*}"
   ]
  },
  {
   "cell_type": "markdown",
   "metadata": {},
   "source": [
    "We first find the finite difference method version taking $\\delta x = \\delta y = h$\n",
    "\n",
    "> \\begin{align*}\n",
    "  u_{i,j} &= \\frac{1}{4}(u_{i+1,j}+u_{i-1,j} +u_{i,j+1}+u_{i,j-1})+\\frac{1}{4}\\alpha g_{i,j}h^2\\\\\n",
    "\\ g_{i,j} &= \\frac{1}{4}(g_{i+1,j}+g_{i-1,j} +g_{i,j+1}+g_{i,j-1})+\\frac{1}{4}\\alpha u_{i,j}h^2\\\\\n",
    "\\end{align*}\n",
    "\n",
    "And Know the boundary conditions\n",
    "\n",
    "> \\begin{align*}\n",
    "  u_{n,j} &= sin(\\frac{j\\pi}{n})\\\\\n",
    "\\ g_{n,j} &= g_{n-1,j} + h\\\\\n",
    "\\end{align*}\n"
   ]
  },
  {
   "cell_type": "code",
   "execution_count": 14,
   "metadata": {
    "ExecuteTime": {
     "end_time": "2021-09-17T14:17:43.122130Z",
     "start_time": "2021-09-17T14:17:43.080152Z"
    }
   },
   "outputs": [],
   "source": [
    "h = 0.05\n",
    "Num = 21\n",
    "alpha = 6\n",
    "\n",
    "Grid_u = np.zeros([Num, Num])\n",
    "Grid_g = np.zeros([Num, Num])\n",
    "\n",
    "# Boundary Conditions\n",
    "sin_bound = np.array([np.sin(j*h*np.pi) for j in range(0, Num)])\n",
    "Grid_u[:, len(Grid_u[0])-1] = sin_bound\n",
    "\n",
    "Grid_g = GridS(Grid_g)\n",
    "Grid_u = GridS(Grid_u)\n",
    "u_ = Grid_u.u_\n",
    "g_ = Grid_g.u_\n",
    "\n",
    "# Solve PDE u, with frozen g\n",
    "\n",
    "\n",
    "def new_u_(i, j):\n",
    "    temp = u_(i+1, j) + u_(i-1, j)+u_(i, j+1)+u_(i, j-1)\n",
    "    temp *= 1/4\n",
    "    temp += (1/4)*(alpha*g_(i, j)*h**2)\n",
    "    return temp\n",
    "\n",
    "\n",
    "def solve_u():\n",
    "\n",
    "    for t in range(5):\n",
    "        # Only update non boundary conditions\n",
    "        for i in range(1, len(Grid_u.Grid[0])-1):\n",
    "            for j in range(1, len(Grid_u.Grid)-1):\n",
    "                Grid_u.Set_u_(i, j, new_u_(i, j))\n",
    "\n",
    "\n",
    "# Solve PDE g, with frozen u\n",
    "def new_g_(i, j):\n",
    "    temp = g_(i+1, j) + g_(i-1, j)+g_(i, j+1)+g_(i, j-1)\n",
    "    temp *= 1/4\n",
    "    temp += (1/4)*(alpha*u_(i, j)*h**2)\n",
    "    return temp\n",
    "\n",
    "\n",
    "def new_g_b(n, j):\n",
    "    # i is fixxed to n\n",
    "    return g_(n-1, j) + h\n",
    "\n",
    "\n",
    "def solve_g():\n",
    "    for t in range(5):\n",
    "        # Only update non boundary conditions\n",
    "        for i in range(1, len(Grid_g.Grid[0])-1):\n",
    "            # Possible to parrelle process as race errors here don't matter\n",
    "            for j in range(1, len(Grid_g.Grid)-1):\n",
    "                Grid_g.Set_u_(i, j, new_g_(i, j))\n",
    "\n",
    "        # For each cell in neumann boundary\n",
    "        i = len(Grid_g.Grid[0])-1  # i=n\n",
    "        for j in range(1, len(Grid_g.Grid)-1):\n",
    "            Grid_g.Set_u_(i, j, new_g_b(i, j))"
   ]
  },
  {
   "cell_type": "code",
   "execution_count": 15,
   "metadata": {
    "ExecuteTime": {
     "end_time": "2021-09-17T14:17:58.367987Z",
     "start_time": "2021-09-17T14:17:51.888015Z"
    }
   },
   "outputs": [
    {
     "name": "stdout",
     "output_type": "stream",
     "text": [
      "139\n"
     ]
    }
   ],
   "source": [
    "# Now solve both\n",
    "Grid_g_old = Grid_g.Grid.copy()\n",
    "Grid_u_old = Grid_u.Grid.copy()\n",
    "count = 0\n",
    "while True:\n",
    "    solve_u()\n",
    "    solve_g()\n",
    "    count += 1\n",
    "    g_max = np.max(np.abs(Grid_g_old-Grid_g.Grid))\n",
    "    u_max = np.max(np.abs(Grid_u_old-Grid_u.Grid))\n",
    "\n",
    "    if (g_max < 0.00001) and (u_max < 0.00001):\n",
    "        print(count)\n",
    "        break\n",
    "\n",
    "    Grid_g_old = Grid_g.Grid.copy()\n",
    "    Grid_u_old = Grid_u.Grid.copy()"
   ]
  },
  {
   "cell_type": "code",
   "execution_count": 16,
   "metadata": {
    "ExecuteTime": {
     "end_time": "2021-09-17T14:18:10.092330Z",
     "start_time": "2021-09-17T14:18:09.960414Z"
    }
   },
   "outputs": [
    {
     "data": {
      "application/vnd.jupyter.widget-view+json": {
       "model_id": "364226a6787f467599a16d3e3198192c",
       "version_major": 2,
       "version_minor": 0
      },
      "text/plain": [
       "VBox(children=(Figure(camera=PerspectiveCamera(fov=46.0, position=(0.0, 0.0, 2.0), projectionMatrix=(1.0, 0.0,…"
      ]
     },
     "metadata": {},
     "output_type": "display_data"
    }
   ],
   "source": [
    "# Now visulaise the data\n",
    "Grid_g.Plot(1, h)"
   ]
  },
  {
   "cell_type": "code",
   "execution_count": 17,
   "metadata": {
    "ExecuteTime": {
     "end_time": "2021-09-17T14:18:27.662443Z",
     "start_time": "2021-09-17T14:18:27.513542Z"
    }
   },
   "outputs": [
    {
     "data": {
      "application/vnd.jupyter.widget-view+json": {
       "model_id": "4c380c006a5348dcadc87a7953c4cbc3",
       "version_major": 2,
       "version_minor": 0
      },
      "text/plain": [
       "VBox(children=(Figure(camera=PerspectiveCamera(fov=46.0, position=(0.0, 0.0, 2.0), projectionMatrix=(1.0, 0.0,…"
      ]
     },
     "metadata": {},
     "output_type": "display_data"
    }
   ],
   "source": [
    "Grid_u.Plot(1, h)"
   ]
  },
  {
   "cell_type": "markdown",
   "metadata": {},
   "source": [
    "#### Check \n",
    "The best way to check these numerical solutions is to solve them analytically for the simple cases."
   ]
  },
  {
   "cell_type": "markdown",
   "metadata": {},
   "source": [
    "## Time Dependence\n",
    "The key idea here is, we cannot access data from the future, but we need to find that data. So time part must be a forward difference equation. We could also use a central \n",
    "\n",
    "We will also use a different form of notation (N,E,S,W,O) for (North, East, South, West, Origin). Which other people sometimes use. Also, we note the step size in t must be much smaller than dx(h), dy(h)."
   ]
  },
  {
   "cell_type": "markdown",
   "metadata": {},
   "source": [
    "### Example 1D Heat Equation"
   ]
  },
  {
   "cell_type": "markdown",
   "metadata": {},
   "source": [
    "> \\begin{align*}\n",
    "  PDE \\text{  } & u_{t} = Du_{xx}, 0<x<1, 0<t<\\inf\\\\\n",
    "\\ BC \\text{  }&  u(0,t)=0\\\\\n",
    "\\ BC \\text{  }& u(1,t)=cos(t)\\\\\n",
    "\\ IC \\text{  }& u(x,0) = x\n",
    "\\end{align*}\n",
    "\n",
    "We have the analytic solution is, (by eigen function expansion)($\\zeta = Dn^2\\pi^2$)\n",
    "\n",
    "> $u(x,t) = xCos(t) - \\sum_{n=1}^{\\inf}\\frac{2(-1)^n}{\\pi n(1+\\zeta^2)}[\\zeta sin(t) - cos(t) + e^{-\\zeta t}]sin(n \\pi x)$\n",
    "\n",
    "The derivation of the can be found in Q2 of the PDF \"APDE2 Math Cafe Questions Week6.pdf\"\n",
    "\n",
    "We have the difference equations\n",
    "\n",
    "> \\begin{align*}\n",
    "  u_{xx}(x,t) &= \\frac{1}{h^2}[u_E - 2u_O + u_W]\\\\\n",
    "\\ u_t(x,t) &= \\frac{1}{\\delta t}[u_N-u_O]\\\\\n",
    "\\end{align*}\n",
    "\n",
    "Merging these equations\n",
    "\n",
    "> $u_N = u_O + \\frac{\\delta t D}{h^2}[u_E-2u_O+u_W]$"
   ]
  },
  {
   "cell_type": "code",
   "execution_count": 18,
   "metadata": {
    "ExecuteTime": {
     "end_time": "2021-09-17T14:19:28.726145Z",
     "start_time": "2021-09-17T14:19:25.688836Z"
    }
   },
   "outputs": [],
   "source": [
    "D = 0.025\n",
    "h = 0.05\n",
    "dt = 0.001\n",
    "Num_x = int(1/h) + 1\n",
    "t_f = 15\n",
    "Num_t = int(t_f/dt) + 1\n",
    "Grid = np.zeros([Num_t, Num_x])\n",
    "\n",
    "# IC,\n",
    "IC_bound = np.array([j*h for j in range(0, Num_x)])\n",
    "Grid[len(Grid)-1] = IC_bound\n",
    "\n",
    "# Boundary conditions\n",
    "cos_bound = np.array([np.cos(j*dt) for j in range(Num_t-1, 0-1, -1)])\n",
    "Grid[:, len(Grid[0])-1] = cos_bound\n",
    "Grid = GridS(Grid)\n",
    "u_ = Grid.u_\n",
    "\n",
    "\n",
    "def new_u_(i, j):\n",
    "    temp = u_(i+1, j-1) - 2*u_(i, j-1) + u_(i-1, j-1)\n",
    "    temp *= dt*D/h**2\n",
    "    return temp + u_(i, j-1)\n",
    "\n",
    "\n",
    "for j in range(1, Num_t):\n",
    "    t = j*dt\n",
    "    # Run over non boundary points\n",
    "    for i in range(1, Num_x-1):\n",
    "        Grid.Set_u_(i, j, new_u_(i, j))\n",
    "    # print(Grid.Grid[len(Grid.Grid)-j-1])"
   ]
  },
  {
   "cell_type": "code",
   "execution_count": 19,
   "metadata": {
    "ExecuteTime": {
     "end_time": "2021-09-17T14:19:32.341667Z",
     "start_time": "2021-09-17T14:19:31.918753Z"
    }
   },
   "outputs": [
    {
     "data": {
      "application/vnd.jupyter.widget-view+json": {
       "model_id": "03a642010d8f4afeb189ddfa4535fa8a",
       "version_major": 2,
       "version_minor": 0
      },
      "text/plain": [
       "VBox(children=(Figure(camera=PerspectiveCamera(fov=46.0, position=(0.0, 0.0, 2.0), projectionMatrix=(1.0, 0.0,…"
      ]
     },
     "metadata": {},
     "output_type": "display_data"
    }
   ],
   "source": [
    "a = np.arange(0.0, 1.0+0.00001, h)\n",
    "b = np.arange(0.0, t_f+0.00001, dt)\n",
    "U, V = np.meshgrid(a, b)\n",
    "X = U\n",
    "Y = V  # The y-axis is the wrong way around\n",
    "Z = Grid.Grid\n",
    "\n",
    "ipv.figure()\n",
    "ipv.plot_surface(X, Y, Z, color=\"orange\")\n",
    "#ipv.plot_wireframe(X, Y, Z, color=\"red\")\n",
    "ipv.show()"
   ]
  },
  {
   "cell_type": "code",
   "execution_count": 20,
   "metadata": {
    "ExecuteTime": {
     "end_time": "2021-09-17T14:19:49.576332Z",
     "start_time": "2021-09-17T14:19:48.949112Z"
    }
   },
   "outputs": [
    {
     "data": {
      "application/javascript": [
       "/* Put everything inside the global mpl namespace */\n",
       "window.mpl = {};\n",
       "\n",
       "\n",
       "mpl.get_websocket_type = function() {\n",
       "    if (typeof(WebSocket) !== 'undefined') {\n",
       "        return WebSocket;\n",
       "    } else if (typeof(MozWebSocket) !== 'undefined') {\n",
       "        return MozWebSocket;\n",
       "    } else {\n",
       "        alert('Your browser does not have WebSocket support. ' +\n",
       "              'Please try Chrome, Safari or Firefox ≥ 6. ' +\n",
       "              'Firefox 4 and 5 are also supported but you ' +\n",
       "              'have to enable WebSockets in about:config.');\n",
       "    };\n",
       "}\n",
       "\n",
       "mpl.figure = function(figure_id, websocket, ondownload, parent_element) {\n",
       "    this.id = figure_id;\n",
       "\n",
       "    this.ws = websocket;\n",
       "\n",
       "    this.supports_binary = (this.ws.binaryType != undefined);\n",
       "\n",
       "    if (!this.supports_binary) {\n",
       "        var warnings = document.getElementById(\"mpl-warnings\");\n",
       "        if (warnings) {\n",
       "            warnings.style.display = 'block';\n",
       "            warnings.textContent = (\n",
       "                \"This browser does not support binary websocket messages. \" +\n",
       "                    \"Performance may be slow.\");\n",
       "        }\n",
       "    }\n",
       "\n",
       "    this.imageObj = new Image();\n",
       "\n",
       "    this.context = undefined;\n",
       "    this.message = undefined;\n",
       "    this.canvas = undefined;\n",
       "    this.rubberband_canvas = undefined;\n",
       "    this.rubberband_context = undefined;\n",
       "    this.format_dropdown = undefined;\n",
       "\n",
       "    this.image_mode = 'full';\n",
       "\n",
       "    this.root = $('<div/>');\n",
       "    this._root_extra_style(this.root)\n",
       "    this.root.attr('style', 'display: inline-block');\n",
       "\n",
       "    $(parent_element).append(this.root);\n",
       "\n",
       "    this._init_header(this);\n",
       "    this._init_canvas(this);\n",
       "    this._init_toolbar(this);\n",
       "\n",
       "    var fig = this;\n",
       "\n",
       "    this.waiting = false;\n",
       "\n",
       "    this.ws.onopen =  function () {\n",
       "            fig.send_message(\"supports_binary\", {value: fig.supports_binary});\n",
       "            fig.send_message(\"send_image_mode\", {});\n",
       "            if (mpl.ratio != 1) {\n",
       "                fig.send_message(\"set_dpi_ratio\", {'dpi_ratio': mpl.ratio});\n",
       "            }\n",
       "            fig.send_message(\"refresh\", {});\n",
       "        }\n",
       "\n",
       "    this.imageObj.onload = function() {\n",
       "            if (fig.image_mode == 'full') {\n",
       "                // Full images could contain transparency (where diff images\n",
       "                // almost always do), so we need to clear the canvas so that\n",
       "                // there is no ghosting.\n",
       "                fig.context.clearRect(0, 0, fig.canvas.width, fig.canvas.height);\n",
       "            }\n",
       "            fig.context.drawImage(fig.imageObj, 0, 0);\n",
       "        };\n",
       "\n",
       "    this.imageObj.onunload = function() {\n",
       "        fig.ws.close();\n",
       "    }\n",
       "\n",
       "    this.ws.onmessage = this._make_on_message_function(this);\n",
       "\n",
       "    this.ondownload = ondownload;\n",
       "}\n",
       "\n",
       "mpl.figure.prototype._init_header = function() {\n",
       "    var titlebar = $(\n",
       "        '<div class=\"ui-dialog-titlebar ui-widget-header ui-corner-all ' +\n",
       "        'ui-helper-clearfix\"/>');\n",
       "    var titletext = $(\n",
       "        '<div class=\"ui-dialog-title\" style=\"width: 100%; ' +\n",
       "        'text-align: center; padding: 3px;\"/>');\n",
       "    titlebar.append(titletext)\n",
       "    this.root.append(titlebar);\n",
       "    this.header = titletext[0];\n",
       "}\n",
       "\n",
       "\n",
       "\n",
       "mpl.figure.prototype._canvas_extra_style = function(canvas_div) {\n",
       "\n",
       "}\n",
       "\n",
       "\n",
       "mpl.figure.prototype._root_extra_style = function(canvas_div) {\n",
       "\n",
       "}\n",
       "\n",
       "mpl.figure.prototype._init_canvas = function() {\n",
       "    var fig = this;\n",
       "\n",
       "    var canvas_div = $('<div/>');\n",
       "\n",
       "    canvas_div.attr('style', 'position: relative; clear: both; outline: 0');\n",
       "\n",
       "    function canvas_keyboard_event(event) {\n",
       "        return fig.key_event(event, event['data']);\n",
       "    }\n",
       "\n",
       "    canvas_div.keydown('key_press', canvas_keyboard_event);\n",
       "    canvas_div.keyup('key_release', canvas_keyboard_event);\n",
       "    this.canvas_div = canvas_div\n",
       "    this._canvas_extra_style(canvas_div)\n",
       "    this.root.append(canvas_div);\n",
       "\n",
       "    var canvas = $('<canvas/>');\n",
       "    canvas.addClass('mpl-canvas');\n",
       "    canvas.attr('style', \"left: 0; top: 0; z-index: 0; outline: 0\")\n",
       "\n",
       "    this.canvas = canvas[0];\n",
       "    this.context = canvas[0].getContext(\"2d\");\n",
       "\n",
       "    var backingStore = this.context.backingStorePixelRatio ||\n",
       "\tthis.context.webkitBackingStorePixelRatio ||\n",
       "\tthis.context.mozBackingStorePixelRatio ||\n",
       "\tthis.context.msBackingStorePixelRatio ||\n",
       "\tthis.context.oBackingStorePixelRatio ||\n",
       "\tthis.context.backingStorePixelRatio || 1;\n",
       "\n",
       "    mpl.ratio = (window.devicePixelRatio || 1) / backingStore;\n",
       "\n",
       "    var rubberband = $('<canvas/>');\n",
       "    rubberband.attr('style', \"position: absolute; left: 0; top: 0; z-index: 1;\")\n",
       "\n",
       "    var pass_mouse_events = true;\n",
       "\n",
       "    canvas_div.resizable({\n",
       "        start: function(event, ui) {\n",
       "            pass_mouse_events = false;\n",
       "        },\n",
       "        resize: function(event, ui) {\n",
       "            fig.request_resize(ui.size.width, ui.size.height);\n",
       "        },\n",
       "        stop: function(event, ui) {\n",
       "            pass_mouse_events = true;\n",
       "            fig.request_resize(ui.size.width, ui.size.height);\n",
       "        },\n",
       "    });\n",
       "\n",
       "    function mouse_event_fn(event) {\n",
       "        if (pass_mouse_events)\n",
       "            return fig.mouse_event(event, event['data']);\n",
       "    }\n",
       "\n",
       "    rubberband.mousedown('button_press', mouse_event_fn);\n",
       "    rubberband.mouseup('button_release', mouse_event_fn);\n",
       "    // Throttle sequential mouse events to 1 every 20ms.\n",
       "    rubberband.mousemove('motion_notify', mouse_event_fn);\n",
       "\n",
       "    rubberband.mouseenter('figure_enter', mouse_event_fn);\n",
       "    rubberband.mouseleave('figure_leave', mouse_event_fn);\n",
       "\n",
       "    canvas_div.on(\"wheel\", function (event) {\n",
       "        event = event.originalEvent;\n",
       "        event['data'] = 'scroll'\n",
       "        if (event.deltaY < 0) {\n",
       "            event.step = 1;\n",
       "        } else {\n",
       "            event.step = -1;\n",
       "        }\n",
       "        mouse_event_fn(event);\n",
       "    });\n",
       "\n",
       "    canvas_div.append(canvas);\n",
       "    canvas_div.append(rubberband);\n",
       "\n",
       "    this.rubberband = rubberband;\n",
       "    this.rubberband_canvas = rubberband[0];\n",
       "    this.rubberband_context = rubberband[0].getContext(\"2d\");\n",
       "    this.rubberband_context.strokeStyle = \"#000000\";\n",
       "\n",
       "    this._resize_canvas = function(width, height) {\n",
       "        // Keep the size of the canvas, canvas container, and rubber band\n",
       "        // canvas in synch.\n",
       "        canvas_div.css('width', width)\n",
       "        canvas_div.css('height', height)\n",
       "\n",
       "        canvas.attr('width', width * mpl.ratio);\n",
       "        canvas.attr('height', height * mpl.ratio);\n",
       "        canvas.attr('style', 'width: ' + width + 'px; height: ' + height + 'px;');\n",
       "\n",
       "        rubberband.attr('width', width);\n",
       "        rubberband.attr('height', height);\n",
       "    }\n",
       "\n",
       "    // Set the figure to an initial 600x600px, this will subsequently be updated\n",
       "    // upon first draw.\n",
       "    this._resize_canvas(600, 600);\n",
       "\n",
       "    // Disable right mouse context menu.\n",
       "    $(this.rubberband_canvas).bind(\"contextmenu\",function(e){\n",
       "        return false;\n",
       "    });\n",
       "\n",
       "    function set_focus () {\n",
       "        canvas.focus();\n",
       "        canvas_div.focus();\n",
       "    }\n",
       "\n",
       "    window.setTimeout(set_focus, 100);\n",
       "}\n",
       "\n",
       "mpl.figure.prototype._init_toolbar = function() {\n",
       "    var fig = this;\n",
       "\n",
       "    var nav_element = $('<div/>');\n",
       "    nav_element.attr('style', 'width: 100%');\n",
       "    this.root.append(nav_element);\n",
       "\n",
       "    // Define a callback function for later on.\n",
       "    function toolbar_event(event) {\n",
       "        return fig.toolbar_button_onclick(event['data']);\n",
       "    }\n",
       "    function toolbar_mouse_event(event) {\n",
       "        return fig.toolbar_button_onmouseover(event['data']);\n",
       "    }\n",
       "\n",
       "    for(var toolbar_ind in mpl.toolbar_items) {\n",
       "        var name = mpl.toolbar_items[toolbar_ind][0];\n",
       "        var tooltip = mpl.toolbar_items[toolbar_ind][1];\n",
       "        var image = mpl.toolbar_items[toolbar_ind][2];\n",
       "        var method_name = mpl.toolbar_items[toolbar_ind][3];\n",
       "\n",
       "        if (!name) {\n",
       "            // put a spacer in here.\n",
       "            continue;\n",
       "        }\n",
       "        var button = $('<button/>');\n",
       "        button.addClass('ui-button ui-widget ui-state-default ui-corner-all ' +\n",
       "                        'ui-button-icon-only');\n",
       "        button.attr('role', 'button');\n",
       "        button.attr('aria-disabled', 'false');\n",
       "        button.click(method_name, toolbar_event);\n",
       "        button.mouseover(tooltip, toolbar_mouse_event);\n",
       "\n",
       "        var icon_img = $('<span/>');\n",
       "        icon_img.addClass('ui-button-icon-primary ui-icon');\n",
       "        icon_img.addClass(image);\n",
       "        icon_img.addClass('ui-corner-all');\n",
       "\n",
       "        var tooltip_span = $('<span/>');\n",
       "        tooltip_span.addClass('ui-button-text');\n",
       "        tooltip_span.html(tooltip);\n",
       "\n",
       "        button.append(icon_img);\n",
       "        button.append(tooltip_span);\n",
       "\n",
       "        nav_element.append(button);\n",
       "    }\n",
       "\n",
       "    var fmt_picker_span = $('<span/>');\n",
       "\n",
       "    var fmt_picker = $('<select/>');\n",
       "    fmt_picker.addClass('mpl-toolbar-option ui-widget ui-widget-content');\n",
       "    fmt_picker_span.append(fmt_picker);\n",
       "    nav_element.append(fmt_picker_span);\n",
       "    this.format_dropdown = fmt_picker[0];\n",
       "\n",
       "    for (var ind in mpl.extensions) {\n",
       "        var fmt = mpl.extensions[ind];\n",
       "        var option = $(\n",
       "            '<option/>', {selected: fmt === mpl.default_extension}).html(fmt);\n",
       "        fmt_picker.append(option);\n",
       "    }\n",
       "\n",
       "    // Add hover states to the ui-buttons\n",
       "    $( \".ui-button\" ).hover(\n",
       "        function() { $(this).addClass(\"ui-state-hover\");},\n",
       "        function() { $(this).removeClass(\"ui-state-hover\");}\n",
       "    );\n",
       "\n",
       "    var status_bar = $('<span class=\"mpl-message\"/>');\n",
       "    nav_element.append(status_bar);\n",
       "    this.message = status_bar[0];\n",
       "}\n",
       "\n",
       "mpl.figure.prototype.request_resize = function(x_pixels, y_pixels) {\n",
       "    // Request matplotlib to resize the figure. Matplotlib will then trigger a resize in the client,\n",
       "    // which will in turn request a refresh of the image.\n",
       "    this.send_message('resize', {'width': x_pixels, 'height': y_pixels});\n",
       "}\n",
       "\n",
       "mpl.figure.prototype.send_message = function(type, properties) {\n",
       "    properties['type'] = type;\n",
       "    properties['figure_id'] = this.id;\n",
       "    this.ws.send(JSON.stringify(properties));\n",
       "}\n",
       "\n",
       "mpl.figure.prototype.send_draw_message = function() {\n",
       "    if (!this.waiting) {\n",
       "        this.waiting = true;\n",
       "        this.ws.send(JSON.stringify({type: \"draw\", figure_id: this.id}));\n",
       "    }\n",
       "}\n",
       "\n",
       "\n",
       "mpl.figure.prototype.handle_save = function(fig, msg) {\n",
       "    var format_dropdown = fig.format_dropdown;\n",
       "    var format = format_dropdown.options[format_dropdown.selectedIndex].value;\n",
       "    fig.ondownload(fig, format);\n",
       "}\n",
       "\n",
       "\n",
       "mpl.figure.prototype.handle_resize = function(fig, msg) {\n",
       "    var size = msg['size'];\n",
       "    if (size[0] != fig.canvas.width || size[1] != fig.canvas.height) {\n",
       "        fig._resize_canvas(size[0], size[1]);\n",
       "        fig.send_message(\"refresh\", {});\n",
       "    };\n",
       "}\n",
       "\n",
       "mpl.figure.prototype.handle_rubberband = function(fig, msg) {\n",
       "    var x0 = msg['x0'] / mpl.ratio;\n",
       "    var y0 = (fig.canvas.height - msg['y0']) / mpl.ratio;\n",
       "    var x1 = msg['x1'] / mpl.ratio;\n",
       "    var y1 = (fig.canvas.height - msg['y1']) / mpl.ratio;\n",
       "    x0 = Math.floor(x0) + 0.5;\n",
       "    y0 = Math.floor(y0) + 0.5;\n",
       "    x1 = Math.floor(x1) + 0.5;\n",
       "    y1 = Math.floor(y1) + 0.5;\n",
       "    var min_x = Math.min(x0, x1);\n",
       "    var min_y = Math.min(y0, y1);\n",
       "    var width = Math.abs(x1 - x0);\n",
       "    var height = Math.abs(y1 - y0);\n",
       "\n",
       "    fig.rubberband_context.clearRect(\n",
       "        0, 0, fig.canvas.width / mpl.ratio, fig.canvas.height / mpl.ratio);\n",
       "\n",
       "    fig.rubberband_context.strokeRect(min_x, min_y, width, height);\n",
       "}\n",
       "\n",
       "mpl.figure.prototype.handle_figure_label = function(fig, msg) {\n",
       "    // Updates the figure title.\n",
       "    fig.header.textContent = msg['label'];\n",
       "}\n",
       "\n",
       "mpl.figure.prototype.handle_cursor = function(fig, msg) {\n",
       "    var cursor = msg['cursor'];\n",
       "    switch(cursor)\n",
       "    {\n",
       "    case 0:\n",
       "        cursor = 'pointer';\n",
       "        break;\n",
       "    case 1:\n",
       "        cursor = 'default';\n",
       "        break;\n",
       "    case 2:\n",
       "        cursor = 'crosshair';\n",
       "        break;\n",
       "    case 3:\n",
       "        cursor = 'move';\n",
       "        break;\n",
       "    }\n",
       "    fig.rubberband_canvas.style.cursor = cursor;\n",
       "}\n",
       "\n",
       "mpl.figure.prototype.handle_message = function(fig, msg) {\n",
       "    fig.message.textContent = msg['message'];\n",
       "}\n",
       "\n",
       "mpl.figure.prototype.handle_draw = function(fig, msg) {\n",
       "    // Request the server to send over a new figure.\n",
       "    fig.send_draw_message();\n",
       "}\n",
       "\n",
       "mpl.figure.prototype.handle_image_mode = function(fig, msg) {\n",
       "    fig.image_mode = msg['mode'];\n",
       "}\n",
       "\n",
       "mpl.figure.prototype.updated_canvas_event = function() {\n",
       "    // Called whenever the canvas gets updated.\n",
       "    this.send_message(\"ack\", {});\n",
       "}\n",
       "\n",
       "// A function to construct a web socket function for onmessage handling.\n",
       "// Called in the figure constructor.\n",
       "mpl.figure.prototype._make_on_message_function = function(fig) {\n",
       "    return function socket_on_message(evt) {\n",
       "        if (evt.data instanceof Blob) {\n",
       "            /* FIXME: We get \"Resource interpreted as Image but\n",
       "             * transferred with MIME type text/plain:\" errors on\n",
       "             * Chrome.  But how to set the MIME type?  It doesn't seem\n",
       "             * to be part of the websocket stream */\n",
       "            evt.data.type = \"image/png\";\n",
       "\n",
       "            /* Free the memory for the previous frames */\n",
       "            if (fig.imageObj.src) {\n",
       "                (window.URL || window.webkitURL).revokeObjectURL(\n",
       "                    fig.imageObj.src);\n",
       "            }\n",
       "\n",
       "            fig.imageObj.src = (window.URL || window.webkitURL).createObjectURL(\n",
       "                evt.data);\n",
       "            fig.updated_canvas_event();\n",
       "            fig.waiting = false;\n",
       "            return;\n",
       "        }\n",
       "        else if (typeof evt.data === 'string' && evt.data.slice(0, 21) == \"data:image/png;base64\") {\n",
       "            fig.imageObj.src = evt.data;\n",
       "            fig.updated_canvas_event();\n",
       "            fig.waiting = false;\n",
       "            return;\n",
       "        }\n",
       "\n",
       "        var msg = JSON.parse(evt.data);\n",
       "        var msg_type = msg['type'];\n",
       "\n",
       "        // Call the  \"handle_{type}\" callback, which takes\n",
       "        // the figure and JSON message as its only arguments.\n",
       "        try {\n",
       "            var callback = fig[\"handle_\" + msg_type];\n",
       "        } catch (e) {\n",
       "            console.log(\"No handler for the '\" + msg_type + \"' message type: \", msg);\n",
       "            return;\n",
       "        }\n",
       "\n",
       "        if (callback) {\n",
       "            try {\n",
       "                // console.log(\"Handling '\" + msg_type + \"' message: \", msg);\n",
       "                callback(fig, msg);\n",
       "            } catch (e) {\n",
       "                console.log(\"Exception inside the 'handler_\" + msg_type + \"' callback:\", e, e.stack, msg);\n",
       "            }\n",
       "        }\n",
       "    };\n",
       "}\n",
       "\n",
       "// from http://stackoverflow.com/questions/1114465/getting-mouse-location-in-canvas\n",
       "mpl.findpos = function(e) {\n",
       "    //this section is from http://www.quirksmode.org/js/events_properties.html\n",
       "    var targ;\n",
       "    if (!e)\n",
       "        e = window.event;\n",
       "    if (e.target)\n",
       "        targ = e.target;\n",
       "    else if (e.srcElement)\n",
       "        targ = e.srcElement;\n",
       "    if (targ.nodeType == 3) // defeat Safari bug\n",
       "        targ = targ.parentNode;\n",
       "\n",
       "    // jQuery normalizes the pageX and pageY\n",
       "    // pageX,Y are the mouse positions relative to the document\n",
       "    // offset() returns the position of the element relative to the document\n",
       "    var x = e.pageX - $(targ).offset().left;\n",
       "    var y = e.pageY - $(targ).offset().top;\n",
       "\n",
       "    return {\"x\": x, \"y\": y};\n",
       "};\n",
       "\n",
       "/*\n",
       " * return a copy of an object with only non-object keys\n",
       " * we need this to avoid circular references\n",
       " * http://stackoverflow.com/a/24161582/3208463\n",
       " */\n",
       "function simpleKeys (original) {\n",
       "  return Object.keys(original).reduce(function (obj, key) {\n",
       "    if (typeof original[key] !== 'object')\n",
       "        obj[key] = original[key]\n",
       "    return obj;\n",
       "  }, {});\n",
       "}\n",
       "\n",
       "mpl.figure.prototype.mouse_event = function(event, name) {\n",
       "    var canvas_pos = mpl.findpos(event)\n",
       "\n",
       "    if (name === 'button_press')\n",
       "    {\n",
       "        this.canvas.focus();\n",
       "        this.canvas_div.focus();\n",
       "    }\n",
       "\n",
       "    var x = canvas_pos.x * mpl.ratio;\n",
       "    var y = canvas_pos.y * mpl.ratio;\n",
       "\n",
       "    this.send_message(name, {x: x, y: y, button: event.button,\n",
       "                             step: event.step,\n",
       "                             guiEvent: simpleKeys(event)});\n",
       "\n",
       "    /* This prevents the web browser from automatically changing to\n",
       "     * the text insertion cursor when the button is pressed.  We want\n",
       "     * to control all of the cursor setting manually through the\n",
       "     * 'cursor' event from matplotlib */\n",
       "    event.preventDefault();\n",
       "    return false;\n",
       "}\n",
       "\n",
       "mpl.figure.prototype._key_event_extra = function(event, name) {\n",
       "    // Handle any extra behaviour associated with a key event\n",
       "}\n",
       "\n",
       "mpl.figure.prototype.key_event = function(event, name) {\n",
       "\n",
       "    // Prevent repeat events\n",
       "    if (name == 'key_press')\n",
       "    {\n",
       "        if (event.which === this._key)\n",
       "            return;\n",
       "        else\n",
       "            this._key = event.which;\n",
       "    }\n",
       "    if (name == 'key_release')\n",
       "        this._key = null;\n",
       "\n",
       "    var value = '';\n",
       "    if (event.ctrlKey && event.which != 17)\n",
       "        value += \"ctrl+\";\n",
       "    if (event.altKey && event.which != 18)\n",
       "        value += \"alt+\";\n",
       "    if (event.shiftKey && event.which != 16)\n",
       "        value += \"shift+\";\n",
       "\n",
       "    value += 'k';\n",
       "    value += event.which.toString();\n",
       "\n",
       "    this._key_event_extra(event, name);\n",
       "\n",
       "    this.send_message(name, {key: value,\n",
       "                             guiEvent: simpleKeys(event)});\n",
       "    return false;\n",
       "}\n",
       "\n",
       "mpl.figure.prototype.toolbar_button_onclick = function(name) {\n",
       "    if (name == 'download') {\n",
       "        this.handle_save(this, null);\n",
       "    } else {\n",
       "        this.send_message(\"toolbar_button\", {name: name});\n",
       "    }\n",
       "};\n",
       "\n",
       "mpl.figure.prototype.toolbar_button_onmouseover = function(tooltip) {\n",
       "    this.message.textContent = tooltip;\n",
       "};\n",
       "mpl.toolbar_items = [[\"Home\", \"Reset original view\", \"fa fa-home icon-home\", \"home\"], [\"Back\", \"Back to previous view\", \"fa fa-arrow-left icon-arrow-left\", \"back\"], [\"Forward\", \"Forward to next view\", \"fa fa-arrow-right icon-arrow-right\", \"forward\"], [\"\", \"\", \"\", \"\"], [\"Pan\", \"Pan axes with left mouse, zoom with right\", \"fa fa-arrows icon-move\", \"pan\"], [\"Zoom\", \"Zoom to rectangle\", \"fa fa-square-o icon-check-empty\", \"zoom\"], [\"\", \"\", \"\", \"\"], [\"Download\", \"Download plot\", \"fa fa-floppy-o icon-save\", \"download\"]];\n",
       "\n",
       "mpl.extensions = [\"eps\", \"jpeg\", \"pdf\", \"png\", \"ps\", \"raw\", \"svg\", \"tif\"];\n",
       "\n",
       "mpl.default_extension = \"png\";var comm_websocket_adapter = function(comm) {\n",
       "    // Create a \"websocket\"-like object which calls the given IPython comm\n",
       "    // object with the appropriate methods. Currently this is a non binary\n",
       "    // socket, so there is still some room for performance tuning.\n",
       "    var ws = {};\n",
       "\n",
       "    ws.close = function() {\n",
       "        comm.close()\n",
       "    };\n",
       "    ws.send = function(m) {\n",
       "        //console.log('sending', m);\n",
       "        comm.send(m);\n",
       "    };\n",
       "    // Register the callback with on_msg.\n",
       "    comm.on_msg(function(msg) {\n",
       "        //console.log('receiving', msg['content']['data'], msg);\n",
       "        // Pass the mpl event to the overridden (by mpl) onmessage function.\n",
       "        ws.onmessage(msg['content']['data'])\n",
       "    });\n",
       "    return ws;\n",
       "}\n",
       "\n",
       "mpl.mpl_figure_comm = function(comm, msg) {\n",
       "    // This is the function which gets called when the mpl process\n",
       "    // starts-up an IPython Comm through the \"matplotlib\" channel.\n",
       "\n",
       "    var id = msg.content.data.id;\n",
       "    // Get hold of the div created by the display call when the Comm\n",
       "    // socket was opened in Python.\n",
       "    var element = $(\"#\" + id);\n",
       "    var ws_proxy = comm_websocket_adapter(comm)\n",
       "\n",
       "    function ondownload(figure, format) {\n",
       "        window.open(figure.imageObj.src);\n",
       "    }\n",
       "\n",
       "    var fig = new mpl.figure(id, ws_proxy,\n",
       "                           ondownload,\n",
       "                           element.get(0));\n",
       "\n",
       "    // Call onopen now - mpl needs it, as it is assuming we've passed it a real\n",
       "    // web socket which is closed, not our websocket->open comm proxy.\n",
       "    ws_proxy.onopen();\n",
       "\n",
       "    fig.parent_element = element.get(0);\n",
       "    fig.cell_info = mpl.find_output_cell(\"<div id='\" + id + \"'></div>\");\n",
       "    if (!fig.cell_info) {\n",
       "        console.error(\"Failed to find cell for figure\", id, fig);\n",
       "        return;\n",
       "    }\n",
       "\n",
       "    var output_index = fig.cell_info[2]\n",
       "    var cell = fig.cell_info[0];\n",
       "\n",
       "};\n",
       "\n",
       "mpl.figure.prototype.handle_close = function(fig, msg) {\n",
       "    var width = fig.canvas.width/mpl.ratio\n",
       "    fig.root.unbind('remove')\n",
       "\n",
       "    // Update the output cell to use the data from the current canvas.\n",
       "    fig.push_to_output();\n",
       "    var dataURL = fig.canvas.toDataURL();\n",
       "    // Re-enable the keyboard manager in IPython - without this line, in FF,\n",
       "    // the notebook keyboard shortcuts fail.\n",
       "    IPython.keyboard_manager.enable()\n",
       "    $(fig.parent_element).html('<img src=\"' + dataURL + '\" width=\"' + width + '\">');\n",
       "    fig.close_ws(fig, msg);\n",
       "}\n",
       "\n",
       "mpl.figure.prototype.close_ws = function(fig, msg){\n",
       "    fig.send_message('closing', msg);\n",
       "    // fig.ws.close()\n",
       "}\n",
       "\n",
       "mpl.figure.prototype.push_to_output = function(remove_interactive) {\n",
       "    // Turn the data on the canvas into data in the output cell.\n",
       "    var width = this.canvas.width/mpl.ratio\n",
       "    var dataURL = this.canvas.toDataURL();\n",
       "    this.cell_info[1]['text/html'] = '<img src=\"' + dataURL + '\" width=\"' + width + '\">';\n",
       "}\n",
       "\n",
       "mpl.figure.prototype.updated_canvas_event = function() {\n",
       "    // Tell IPython that the notebook contents must change.\n",
       "    IPython.notebook.set_dirty(true);\n",
       "    this.send_message(\"ack\", {});\n",
       "    var fig = this;\n",
       "    // Wait a second, then push the new image to the DOM so\n",
       "    // that it is saved nicely (might be nice to debounce this).\n",
       "    setTimeout(function () { fig.push_to_output() }, 1000);\n",
       "}\n",
       "\n",
       "mpl.figure.prototype._init_toolbar = function() {\n",
       "    var fig = this;\n",
       "\n",
       "    var nav_element = $('<div/>');\n",
       "    nav_element.attr('style', 'width: 100%');\n",
       "    this.root.append(nav_element);\n",
       "\n",
       "    // Define a callback function for later on.\n",
       "    function toolbar_event(event) {\n",
       "        return fig.toolbar_button_onclick(event['data']);\n",
       "    }\n",
       "    function toolbar_mouse_event(event) {\n",
       "        return fig.toolbar_button_onmouseover(event['data']);\n",
       "    }\n",
       "\n",
       "    for(var toolbar_ind in mpl.toolbar_items){\n",
       "        var name = mpl.toolbar_items[toolbar_ind][0];\n",
       "        var tooltip = mpl.toolbar_items[toolbar_ind][1];\n",
       "        var image = mpl.toolbar_items[toolbar_ind][2];\n",
       "        var method_name = mpl.toolbar_items[toolbar_ind][3];\n",
       "\n",
       "        if (!name) { continue; };\n",
       "\n",
       "        var button = $('<button class=\"btn btn-default\" href=\"#\" title=\"' + name + '\"><i class=\"fa ' + image + ' fa-lg\"></i></button>');\n",
       "        button.click(method_name, toolbar_event);\n",
       "        button.mouseover(tooltip, toolbar_mouse_event);\n",
       "        nav_element.append(button);\n",
       "    }\n",
       "\n",
       "    // Add the status bar.\n",
       "    var status_bar = $('<span class=\"mpl-message\" style=\"text-align:right; float: right;\"/>');\n",
       "    nav_element.append(status_bar);\n",
       "    this.message = status_bar[0];\n",
       "\n",
       "    // Add the close button to the window.\n",
       "    var buttongrp = $('<div class=\"btn-group inline pull-right\"></div>');\n",
       "    var button = $('<button class=\"btn btn-mini btn-primary\" href=\"#\" title=\"Stop Interaction\"><i class=\"fa fa-power-off icon-remove icon-large\"></i></button>');\n",
       "    button.click(function (evt) { fig.handle_close(fig, {}); } );\n",
       "    button.mouseover('Stop Interaction', toolbar_mouse_event);\n",
       "    buttongrp.append(button);\n",
       "    var titlebar = this.root.find($('.ui-dialog-titlebar'));\n",
       "    titlebar.prepend(buttongrp);\n",
       "}\n",
       "\n",
       "mpl.figure.prototype._root_extra_style = function(el){\n",
       "    var fig = this\n",
       "    el.on(\"remove\", function(){\n",
       "\tfig.close_ws(fig, {});\n",
       "    });\n",
       "}\n",
       "\n",
       "mpl.figure.prototype._canvas_extra_style = function(el){\n",
       "    // this is important to make the div 'focusable\n",
       "    el.attr('tabindex', 0)\n",
       "    // reach out to IPython and tell the keyboard manager to turn it's self\n",
       "    // off when our div gets focus\n",
       "\n",
       "    // location in version 3\n",
       "    if (IPython.notebook.keyboard_manager) {\n",
       "        IPython.notebook.keyboard_manager.register_events(el);\n",
       "    }\n",
       "    else {\n",
       "        // location in version 2\n",
       "        IPython.keyboard_manager.register_events(el);\n",
       "    }\n",
       "\n",
       "}\n",
       "\n",
       "mpl.figure.prototype._key_event_extra = function(event, name) {\n",
       "    var manager = IPython.notebook.keyboard_manager;\n",
       "    if (!manager)\n",
       "        manager = IPython.keyboard_manager;\n",
       "\n",
       "    // Check for shift+enter\n",
       "    if (event.shiftKey && event.which == 13) {\n",
       "        this.canvas_div.blur();\n",
       "        // select the cell after this one\n",
       "        var index = IPython.notebook.find_cell_index(this.cell_info[0]);\n",
       "        IPython.notebook.select(index + 1);\n",
       "    }\n",
       "}\n",
       "\n",
       "mpl.figure.prototype.handle_save = function(fig, msg) {\n",
       "    fig.ondownload(fig, null);\n",
       "}\n",
       "\n",
       "\n",
       "mpl.find_output_cell = function(html_output) {\n",
       "    // Return the cell and output element which can be found *uniquely* in the notebook.\n",
       "    // Note - this is a bit hacky, but it is done because the \"notebook_saving.Notebook\"\n",
       "    // IPython event is triggered only after the cells have been serialised, which for\n",
       "    // our purposes (turning an active figure into a static one), is too late.\n",
       "    var cells = IPython.notebook.get_cells();\n",
       "    var ncells = cells.length;\n",
       "    for (var i=0; i<ncells; i++) {\n",
       "        var cell = cells[i];\n",
       "        if (cell.cell_type === 'code'){\n",
       "            for (var j=0; j<cell.output_area.outputs.length; j++) {\n",
       "                var data = cell.output_area.outputs[j];\n",
       "                if (data.data) {\n",
       "                    // IPython >= 3 moved mimebundle to data attribute of output\n",
       "                    data = data.data;\n",
       "                }\n",
       "                if (data['text/html'] == html_output) {\n",
       "                    return [cell, data, j];\n",
       "                }\n",
       "            }\n",
       "        }\n",
       "    }\n",
       "}\n",
       "\n",
       "// Register the function which deals with the matplotlib target/channel.\n",
       "// The kernel may be null if the page has been refreshed.\n",
       "if (IPython.notebook.kernel != null) {\n",
       "    IPython.notebook.kernel.comm_manager.register_target('matplotlib', mpl.mpl_figure_comm);\n",
       "}\n"
      ],
      "text/plain": [
       "<IPython.core.display.Javascript object>"
      ]
     },
     "metadata": {},
     "output_type": "display_data"
    },
    {
     "data": {
      "text/html": [
       "<img src=\"data:image/png;base64,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\" width=\"640\">"
      ],
      "text/plain": [
       "<IPython.core.display.HTML object>"
      ]
     },
     "metadata": {},
     "output_type": "display_data"
    }
   ],
   "source": [
    "def u(x, t):\n",
    "    # We will nearest neighbor interpolation\n",
    "    temp_a = np.abs(a - x)\n",
    "    min_a = np.min(temp_a)\n",
    "    x_i = np.where(temp_a == min_a)[0][0]\n",
    "\n",
    "    temp_b = np.abs(b-t)\n",
    "    min_b = np.min(temp_b)\n",
    "    t_i = np.where(temp_b == min_b)[0][0]\n",
    "\n",
    "    return Grid.Grid[len(Grid.Grid)-t_i-1][x_i]\n",
    "\n",
    "# Using MatplotLib as visulisation\n",
    "\n",
    "\n",
    "def dataLD(i, y, line):\n",
    "    t = i/20\n",
    "    y = np.array([u(x_i, t) for x_i in x])\n",
    "    ax.clear()\n",
    "    ax.set_ylim(-1.01, 1.01)\n",
    "    ax.set_title('Heat, D = 0.025, t = ' + \"{:.2f}\".format(t))\n",
    "    line = ax.plot(x, y)\n",
    "    ax.set_ylabel('Temperature')\n",
    "    ax.set_xlabel('X-Position')\n",
    "    #fig.colorbar(line, shrink=0.5, aspect=5)\n",
    "    return line,\n",
    "\n",
    "\n",
    "fig = plt.figure()\n",
    "ax = fig.add_subplot(111)\n",
    "ax.set_title('Heat, D = 0.025, t = 0.00')\n",
    "\n",
    "x = np.linspace(0, 1, 21)\n",
    "y = np.array([u(x_i, 0) for x_i in x])\n",
    "line = ax.plot(x, y)\n",
    "ax.set_ylim(-1.01, 1.01)\n",
    "ax.set_ylabel('Temperature')\n",
    "ax.set_xlabel('X-Position')\n",
    "\n",
    "#fig.colorbar(line, shrink=0.5, aspect=10)\n",
    "ani = animation.FuncAnimation(fig, dataLD, fargs=(\n",
    "    y, line), frames=np.arange(0, 250), interval=40, blit=True)\n",
    "\n",
    "plt.show()"
   ]
  },
  {
   "cell_type": "code",
   "execution_count": 21,
   "metadata": {
    "ExecuteTime": {
     "end_time": "2021-09-17T14:20:08.782267Z",
     "start_time": "2021-09-17T14:20:08.771283Z"
    }
   },
   "outputs": [],
   "source": [
    "#ani.save('animation.gif', writer=animation.PillowWriter(fps=16))"
   ]
  },
  {
   "cell_type": "markdown",
   "metadata": {},
   "source": [
    "##### Difference between analytic solution and numerical solution"
   ]
  },
  {
   "cell_type": "code",
   "execution_count": null,
   "metadata": {},
   "outputs": [],
   "source": []
  },
  {
   "cell_type": "markdown",
   "metadata": {},
   "source": [
    "### Example 2D Wave Equation"
   ]
  },
  {
   "cell_type": "markdown",
   "metadata": {},
   "source": [
    "We want to solve, (Vibrations of square drum skin with air resistance ($\\alpha < \\pi c$))\n",
    "> \\begin{align*}\n",
    "  PDE \\text{  } & u_{tt} +2 \\alpha u_t= c^2u_{xx} + c^2u_{yy}, 0<x<1, 0<y<1, 0<t<\\inf\\\\\n",
    "\\ BC \\text{  }&  u(0,y,t)=u(1,y,t)=0\\\\\n",
    "\\ BC \\text{  }& u(x,0,t)=u(x,1,t)=0\\\\\n",
    "\\ IC \\text{  }& u_t(x,y,0) = 0\\\\\n",
    "\\ IC \\text{  }& u(x,y,0) = xy\n",
    "\\end{align*}\n",
    "\n",
    "\n",
    "Analytic Solution is derived in Q1 of the PDF \"APDE2 Math Cafe Questions Week6.pdf\"\n",
    "\n",
    "We have the analytic solution is, ($n=(n_x,n_y)$)\n",
    "> $u(x,y,t)= \\sum^{\\infty}_{n=1} \\frac{4(-1)^{n_x+n_y}}{\\pi^2n_xn_y}sin(\\pi n_xx)sin(n_y \\pi y)e^{-\\alpha t}\n",
    "(Cos(Q_nt)+ \\frac{\\alpha}{Q_n}sin(Q_nt))$\n",
    "\n",
    "Where\n",
    "> $Q_n = \\sqrt{\\pi^2c^2(n_x^2+n_y^2) - \\alpha^2}$"
   ]
  },
  {
   "cell_type": "markdown",
   "metadata": {},
   "source": [
    "We will use discretization on the PDE\n",
    "\n",
    "Using the key \n",
    "> N,S = +1dy,-1dy in the y direction\n",
    "\n",
    "> E,W = +1dx,-1dx in the x direction\n",
    "\n",
    "> U,D = +1dt,-1dt in the t direction\n",
    "\n",
    "For $u_{tt}$ we will use the difference formula (should not have a factor of a half)\n",
    ">$u_{tt} = \\frac{1}{2(dt)^2}(u_U-2u_O+u_D)$\n",
    "\n",
    "This leads us to \n",
    "\n",
    "> $u_U = \\frac{2dt}{1+4\\alpha dt}\\left( \\frac{1}{2dt}(2u_O - u_D) + 2 \\alpha u_O + dtD \\right)$\n",
    "\n",
    "Where $D$ is\n",
    "\n",
    "> $D = \\frac{c^2}{2(dx)^2}(u_E-2u_O+u_W) + \\frac{c^2}{2(dy)^2}(u_N-2u_O+u_S)$\n",
    "\n",
    "\n",
    "Also, by using the IC's we have the first two grids in time are the same\n",
    "> \\begin{align*}\n",
    " u(x,y,0+dt) &=u(x,y,0)+(dt) u_t(x,y,0) \\\\\n",
    "\\ u(x,y,dt) &= u(x,y,0)\\\\\n",
    "\\ u(x,y,dt) &= xy\\\\\n",
    "\\end{align*}"
   ]
  },
  {
   "cell_type": "code",
   "execution_count": null,
   "metadata": {},
   "outputs": [],
   "source": []
  },
  {
   "cell_type": "code",
   "execution_count": 22,
   "metadata": {
    "ExecuteTime": {
     "end_time": "2021-09-17T14:21:12.487519Z",
     "start_time": "2021-09-17T14:20:24.455048Z"
    }
   },
   "outputs": [],
   "source": [
    "dx = 0.05\n",
    "dy = 0.05\n",
    "dt = 0.001\n",
    "\n",
    "t_f = 5.0\n",
    "alpha = 0.4\n",
    "c = 1\n",
    "\n",
    "\n",
    "Num_x = int(1/dx) + 1\n",
    "Num_y = int(1/dy) + 1\n",
    "Num_t = int(t_f/dt) + 1\n",
    "\n",
    "\n",
    "\n",
    "Grid = np.zeros([Num_t, Num_y, Num_x])\n",
    "\n",
    "\n",
    "\n",
    "def u_(x, y, t):\n",
    "    '''Where x,y,t are there int positions'''\n",
    "    return Grid[t][-(y+1)][x]\n",
    "\n",
    "\n",
    "def set_u_(x, y, t, val):\n",
    "    Grid[t][-(y+1)][x] = val\n",
    "\n",
    "\n",
    "def IC(x,y):\n",
    "    return np.sin(np.pi*x)*np.sin(np.pi*y)\n",
    "    \n",
    "# BC's are zero, so they are already set\n",
    "\n",
    "# IC's\n",
    "Grid[0] = np.array([[IC(x,y) for x in np.linspace(0, 1, num=Num_x, endpoint=True)]\n",
    "                    for y in np.linspace(1, 0, num=Num_y, endpoint=True)])\n",
    "Grid[0][0,:] = 0\n",
    "Grid[0][:,-1] = 0\n",
    "Grid[1] = Grid[0] #Starts from rest\n",
    "\n",
    "\n",
    "def solve_u(x,y,t):\n",
    "    '''x,y,t are the discrte positions'''\n",
    "    t -= 1 #To make one below origin\n",
    "    \n",
    "    D = (u_(x+1,y,t)-2*u_(x,y,t)+u_(x-1,y,t))/(dx)**2 + (u_(x,y+1,t)-2*u_(x,y,t)+u_(x,y-1,t))/(dy)**2\n",
    "    D *= (c**2)/(2)\n",
    "    \n",
    "    u_up = 1/(2*dt)*(2*u_(x,y,t)-u_(x,y,t-1))+2*alpha*u_(x,y,t) + dt*D\n",
    "    u_up *= (2*dt)/(1+4*alpha*dt)\n",
    "    \n",
    "    set_u_(x,y,t+1, u_up)\n",
    "    \n",
    "\n",
    "#Not first 2 as they have been set by IC\n",
    "for t in range(2, Num_t):\n",
    "    #Not on the boundaries\n",
    "    for x in range(1,Num_x-1):\n",
    "        for y in range(1, Num_y-1):\n",
    "            solve_u(x,y,t)\n",
    "            \n",
    "    \n",
    "    \n",
    "\n"
   ]
  },
  {
   "cell_type": "code",
   "execution_count": 23,
   "metadata": {
    "ExecuteTime": {
     "end_time": "2021-09-17T14:21:22.215192Z",
     "start_time": "2021-09-17T14:21:22.060291Z"
    }
   },
   "outputs": [
    {
     "data": {
      "application/vnd.jupyter.widget-view+json": {
       "model_id": "f8fe839575774f49998eed1acbabd9b8",
       "version_major": 2,
       "version_minor": 0
      },
      "text/plain": [
       "VBox(children=(Figure(animation=200.0, camera=PerspectiveCamera(fov=46.0, position=(0.0, 0.0, 2.0), projection…"
      ]
     },
     "metadata": {},
     "output_type": "display_data"
    }
   ],
   "source": [
    "a = np.linspace(0, 1, num=int(Num_x), endpoint=True)\n",
    "b = np.linspace(1, 0, num=int(Num_y), endpoint=True)\n",
    "U, V = np.meshgrid(a, b)\n",
    "X = U\n",
    "Y = V\n",
    "\n",
    "\n",
    "ipv.figure()\n",
    "s = ipv.plot_surface(X, Y, Grid[::25], color=\"orange\")\n",
    "#w = ipv.plot_wireframe(X, Y, Grid, color=\"red\")\n",
    "ipv.animation_control(s, add = True, interval=200)\n",
    "#mylink = widgets.link((s, 'sequence_index'), (w, 'sequence_index'))\n",
    "ipv.show()"
   ]
  },
  {
   "cell_type": "markdown",
   "metadata": {},
   "source": [
    "#### Compare to Analytic Solution"
   ]
  },
  {
   "cell_type": "code",
   "execution_count": 24,
   "metadata": {
    "ExecuteTime": {
     "end_time": "2021-09-17T14:21:31.938785Z",
     "start_time": "2021-09-17T14:21:31.920803Z"
    }
   },
   "outputs": [],
   "source": [
    "c = 1\n",
    "alpha = 0.001#0.4\n",
    "x_0 = 0.5\n",
    "y_0 = 0.5\n",
    "\n",
    "def Q(n_x,n_y):\n",
    "    return (c**2*np.pi**2*(n_x**2+n_y**2)-alpha**2)**0.5\n",
    "\n",
    "def Beta(n_x, n_y):\n",
    "    temp = 4*alpha*(-1)**(n_x+n_y)\n",
    "    temp = temp/(np.pi**2*n_x*n_y*Q(n_x,n_y))\n",
    "    return temp\n",
    "    \n",
    "def u(x,y,t):\n",
    "    my_sum = 0\n",
    "    upper = 10\n",
    "    for n_x in range(1, upper):\n",
    "        for n_y in range(1, upper):\n",
    "            temp = Beta(n_x,n_y)*np.sin(np.pi*n_x*x)*np.sin(np.pi*n_y*y)\n",
    "            temp *= np.e**(-alpha*t)*((Q(n_x,n_y)/alpha)*np.cos(Q(n_x,n_y)*t)+np.sin(Q(n_x,n_y)*t))\n",
    "            my_sum += temp\n",
    "    return my_sum"
   ]
  },
  {
   "cell_type": "code",
   "execution_count": 25,
   "metadata": {
    "ExecuteTime": {
     "end_time": "2021-09-17T14:21:52.832563Z",
     "start_time": "2021-09-17T14:21:37.411137Z"
    }
   },
   "outputs": [
    {
     "data": {
      "application/vnd.jupyter.widget-view+json": {
       "model_id": "e04f8d07e93b4564a3d1bcb5ae1c16ba",
       "version_major": 2,
       "version_minor": 0
      },
      "text/plain": [
       "VBox(children=(Figure(animation=200.0, camera=PerspectiveCamera(fov=46.0, position=(0.0, 0.0, 2.0), projection…"
      ]
     },
     "metadata": {},
     "output_type": "display_data"
    }
   ],
   "source": [
    "a = np.linspace(0, 1, num=int(Num_x), endpoint=True)\n",
    "b = np.linspace(1, 0, num=int(Num_y), endpoint=True)\n",
    "U, V = np.meshgrid(a, b)\n",
    "X = U\n",
    "Y = V  # The y-axis is the wrong way around\n",
    "#Z = np.array([[np.real(u(x,y)) for x in a] for y in b])\n",
    "Z = np.array([[[u(x,y,t) for x in a] for y in b] for t in np.linspace(0,5,10)])\n",
    "\n",
    "ipv.figure()\n",
    "s = ipv.plot_surface(X, Y, Z, color=\"orange\")\n",
    "#w = ipv.plot_wireframe(X, Y, Z, color=\"red\")\n",
    "ipv.animation_control(s, add = True, interval=200)\n",
    "#mylink = widgets.link((s, 'sequence_index'), (w, 'sequence_index'))\n",
    "ipv.show()"
   ]
  },
  {
   "cell_type": "code",
   "execution_count": 26,
   "metadata": {
    "ExecuteTime": {
     "end_time": "2021-09-17T14:22:29.673753Z",
     "start_time": "2021-09-17T14:22:28.526467Z"
    }
   },
   "outputs": [
    {
     "data": {
      "text/plain": [
       "0.7468958753214969"
      ]
     },
     "execution_count": 26,
     "metadata": {},
     "output_type": "execute_result"
    }
   ],
   "source": [
    "t_step = 50\n",
    "np.max(abs(Grid[t_step]-np.array([[u(x,y,dt*t_step) for x in np.linspace(0, 1, num=Num_x, endpoint=True)]\n",
    "                    for y in np.linspace(1, 0, num=Num_y, endpoint=True)])))\n",
    "#not same PDE so it will be different"
   ]
  },
  {
   "cell_type": "markdown",
   "metadata": {},
   "source": [
    "#### Compute On GPU (CUDA)\n",
    "\n",
    "nvcc PDE_Solver.cu -o PDESolve\n",
    "\n",
    "./PDESolve > output"
   ]
  },
  {
   "cell_type": "code",
   "execution_count": 27,
   "metadata": {
    "ExecuteTime": {
     "end_time": "2021-09-17T14:23:19.646217Z",
     "start_time": "2021-09-17T14:23:13.836892Z"
    }
   },
   "outputs": [
    {
     "data": {
      "application/vnd.jupyter.widget-view+json": {
       "model_id": "910ab8f2c40b47b78776b0ae18a9c8fc",
       "version_major": 2,
       "version_minor": 0
      },
      "text/plain": [
       "VBox(children=(Figure(animation=200.0, camera=PerspectiveCamera(fov=46.0, position=(0.0, 0.0, 2.0), projection…"
      ]
     },
     "metadata": {},
     "output_type": "display_data"
    }
   ],
   "source": [
    "name = \"Cuda_Training/output\"\n",
    "xDim = 101\n",
    "yDim = 101\n",
    "\n",
    "def read_file(filename):\n",
    "    f = open(filename,\"r\")\n",
    "    return np.array(f.read().splitlines()).astype(float)\n",
    "\n",
    "        \n",
    "\n",
    "x = np.linspace(0.0,1.0,xDim)\n",
    "y = np.linspace(0.0,1.0,yDim)\n",
    "\n",
    "U, V = np.meshgrid(x, y)\n",
    "X = U\n",
    "Y = V  # The y-axis is the wrong way around\n",
    "Z = read_file(name)\n",
    "\n",
    "''' For single Z\n",
    "ipv.figure()\n",
    "ipv.plot_surface(X, Y, Z, color=\"orange\")\n",
    "#ipv.plot_wireframe(X, Y, Z, color=\"red\")\n",
    "ipv.show()\n",
    "'''\n",
    "#\n",
    "ipv.figure()\n",
    "s = ipv.plot_surface(X, Y, Z.reshape(len(Z)//(xDim*yDim),1,-1), color=\"orange\")\n",
    "#ipv.plot_wireframe(X, Y, Z, color=\"red\")\n",
    "ipv.animation_control(s, add = True, interval=200)#, sequence_length=2)\n",
    "ipv.show()"
   ]
  },
  {
   "cell_type": "markdown",
   "metadata": {},
   "source": [
    "## Coupled Time Dependence\n",
    "\n",
    "Method 1\n",
    "Have a small time step compared to $x$ step (with the option of inner iteration)\n",
    "\n",
    "Method 2\n",
    "Do each grid for whole time while others frozen, then repeat until there is convergence\n",
    "\n",
    "Method 3\n",
    "Use forward and backward equations for time, backward equations while waiting for convergence, then forward equation to get next time step."
   ]
  },
  {
   "cell_type": "markdown",
   "metadata": {},
   "source": [
    "### Example Coupled Time Dependence (Heat)\n",
    "> \\begin{align*}\n",
    "  PDE \\text{  } & u_{t} = Du_{xx} + \\alpha g, 0<x<1, 0<t<\\inf\\\\\n",
    "\\ BC \\text{  }&  u(0,t)=0\\\\\n",
    "\\ BC \\text{  }& u(1,t)=cos(t)\\\\\n",
    "\\ IC \\text{  }& u(x,0) = x\n",
    "\\end{align*}\n",
    "\n",
    "> \\begin{align*}\n",
    "  PDE \\text{  } & g_{t} = Dg_{xx} + \\beta u, 0<x<1, 0<t<\\inf\\\\\n",
    "\\ BC \\text{  }&  g(0,t)=0\\\\\n",
    "\\ BC \\text{  }& g(1,t)= 1\\\\\n",
    "\\ IC \\text{  }& g(x,0) = 0\n",
    "\\end{align*}"
   ]
  },
  {
   "cell_type": "markdown",
   "metadata": {},
   "source": [
    "#### Method 1\n",
    "> \\begin{align*}\n",
    "\\ g_N &= g_O + \\frac{\\delta t D}{h^2}(g_E-2g_O+g_W) + \\delta t \\beta u_O \\\\\n",
    "\\ u_N &= u_O + \\frac{\\delta t D}{h^2}(u_E-2u_O+u_W) + \\delta t \\alpha g_O \\\\\n",
    "\\end{align*}\n",
    "\n",
    "With $\\frac{\\delta t}{h^2}<0.5$"
   ]
  },
  {
   "cell_type": "code",
   "execution_count": 28,
   "metadata": {
    "ExecuteTime": {
     "end_time": "2021-09-17T14:24:21.816037Z",
     "start_time": "2021-09-17T14:24:16.900088Z"
    }
   },
   "outputs": [
    {
     "name": "stdout",
     "output_type": "stream",
     "text": [
      "\n"
     ]
    }
   ],
   "source": [
    "h = 0.05\n",
    "dt = 0.0005\n",
    "beta = -1\n",
    "alpha = 1\n",
    "D=0.025\n",
    "\n",
    "\n",
    "Num_x = int(1/h) + 1\n",
    "t_f = 5\n",
    "Num_t = int(t_f/dt) + 1\n",
    "Grid_g = np.zeros([Num_t, Num_x])\n",
    "Grid_u = np.zeros([Num_t, Num_x])\n",
    "\n",
    "#IC's\n",
    "x_bound = np.array([i*h for i in range(0, Num_x)]) \n",
    "#Grid_g[-1] = #is zero \n",
    "Grid_u[-1] = x_bound\n",
    "\n",
    "\n",
    "#BC's\n",
    "cos_bound = np.array([np.cos(j*dt) for j in range(Num_t-1, 0-1, -1)]) \n",
    "\n",
    "Grid_g[:, len(Grid_g[0])-1] = np.ones([Num_t])\n",
    "Grid_u[:, len(Grid_u[0])-1] = cos_bound\n",
    "\n",
    "Grid_g = GridS(Grid_g)\n",
    "Grid_u = GridS(Grid_u)\n",
    "\n",
    "u_ = Grid_u.u_\n",
    "g_ = Grid_g.u_\n",
    "\n",
    "\n",
    "def new_g_(i,j):\n",
    "    j -= 1\n",
    "    temp = g_(i+1,j) - 2*g_(i,j) + g_(i-1,j)\n",
    "    temp *= (dt*D)/(h**2)\n",
    "    temp += g_(i,j) + dt*beta*u_(i,j)\n",
    "    return temp\n",
    "\n",
    "def new_u_(i,j):\n",
    "    j -= 1\n",
    "    temp = u_(i+1,j) - 2*u_(i,j) + u_(i-1,j)\n",
    "    temp *= (dt*D)/(h**2)\n",
    "    temp += u_(i,j) + dt*alpha*g_(i,j)\n",
    "    return temp\n",
    "\n",
    "\n",
    "def solve_g(j):\n",
    "    for i in range(1,Num_x-1):\n",
    "        Grid_g.Set_u_(i,j,new_g_(i,j))\n",
    "\n",
    "def solve_u(j):\n",
    "    for i in range(1,Num_x-1):\n",
    "        Grid_u.Set_u_(i,j,new_u_(i,j))\n",
    "\n",
    "   \n",
    "for j in range(1, Num_t):\n",
    "    #Repeat this untill no change, but that is what small t is for\n",
    "    solve_g(j)\n",
    "    solve_u(j)\n",
    "\n",
    "\n",
    "'''\n",
    "for j in range(1, Num_t):\n",
    "    counter = 0\n",
    "    diff = 1.1\n",
    "    while diff > 0.006:\n",
    "        old_g_grid = Grid_g.Grid[-(j+1)].copy()\n",
    "        old_u_grid = Grid_u.Grid[-(j+1)].copy()\n",
    "\n",
    "        solve_g(j)\n",
    "        solve_u(j)\n",
    "        \n",
    "        diff1 = np.max(np.abs(old_g_grid - Grid_g.Grid[-j]))\n",
    "        diff2 = np.max(np.abs(old_u_grid - Grid_u.Grid[-j]))\n",
    "        \n",
    "        diff = max(diff1,diff2)\n",
    "        print(diff)\n",
    "        counter += 1\n",
    "    \n",
    "    #print (counter) #21.7s not worth it, just have smaller t\n",
    "'''\n",
    "print(\"\")    "
   ]
  },
  {
   "cell_type": "code",
   "execution_count": 29,
   "metadata": {
    "ExecuteTime": {
     "end_time": "2021-09-17T14:24:31.849724Z",
     "start_time": "2021-09-17T14:24:31.571898Z"
    }
   },
   "outputs": [
    {
     "data": {
      "application/vnd.jupyter.widget-view+json": {
       "model_id": "ec13373d3dc846f9a77d173df20d0f6c",
       "version_major": 2,
       "version_minor": 0
      },
      "text/plain": [
       "VBox(children=(Figure(camera=PerspectiveCamera(fov=46.0, position=(0.0, 0.0, 2.0), projectionMatrix=(1.0, 0.0,…"
      ]
     },
     "metadata": {},
     "output_type": "display_data"
    }
   ],
   "source": [
    "a = np.arange(0.0, 1.0+0.00001, h)\n",
    "b = np.arange(0.0, t_f+0.00001, dt)\n",
    "U, V = np.meshgrid(a, b)\n",
    "X = U\n",
    "Y = V  # The y-axis is the wrong way around\n",
    "Z = Grid_u.Grid\n",
    "\n",
    "ipv.figure()\n",
    "ipv.plot_surface(X, Y, Z, color=\"orange\")\n",
    "#ipv.plot_wireframe(X, Y, Z, color=\"red\")\n",
    "ipv.show()"
   ]
  },
  {
   "cell_type": "code",
   "execution_count": 30,
   "metadata": {
    "ExecuteTime": {
     "end_time": "2021-09-17T14:24:46.428508Z",
     "start_time": "2021-09-17T14:24:46.292593Z"
    }
   },
   "outputs": [
    {
     "data": {
      "application/vnd.jupyter.widget-view+json": {
       "model_id": "8cc99862c3b047f7b99732c03d5bc6d2",
       "version_major": 2,
       "version_minor": 0
      },
      "text/plain": [
       "VBox(children=(Figure(camera=PerspectiveCamera(fov=46.0, position=(0.0, 0.0, 2.0), projectionMatrix=(1.0, 0.0,…"
      ]
     },
     "metadata": {},
     "output_type": "display_data"
    }
   ],
   "source": [
    "a = np.arange(0.0, 1.0+0.00001, h)\n",
    "b = np.arange(0.0, t_f+0.00001, dt)\n",
    "U, V = np.meshgrid(a, b)\n",
    "X = U\n",
    "Y = V  # The y-axis is the wrong way around\n",
    "Z = Grid_g.Grid\n",
    "\n",
    "ipv.figure()\n",
    "ipv.plot_surface(X, Y, Z, color=\"orange\")\n",
    "#ipv.plot_wireframe(X, Y, Z, color=\"red\")\n",
    "ipv.show()"
   ]
  },
  {
   "cell_type": "markdown",
   "metadata": {},
   "source": [
    "#### Analytic Solution"
   ]
  },
  {
   "cell_type": "markdown",
   "metadata": {},
   "source": [
    "We have a brief description of the derivation here, but for the full written solution check the PDF \"Example Analytic Solution Of PDE Coupled Time Dependence(Parobolic).pdf\"\n",
    "\n",
    "We do substitution $u=v+w$, $g=q+p$. By setting BC's of $w,p$ to be $0$. This leads to $v(x,t)= xcos(t)$ and $p(x,t)=x$ \n",
    "\n",
    "> \\begin{align*}\n",
    "  PDE \\text{  } & w_{t} = Dw_{xx} + \\alpha p + x(\\alpha + sin(t)), 0<x<1, 0<t<\\inf\\\\\n",
    "\\ BC \\text{  }&  w(0,t)=0\\\\\n",
    "\\ BC \\text{  }& w(1,t)=0\\\\\n",
    "\\ IC \\text{  }& w(x,0) = 0\n",
    "\\end{align*}\n",
    "\n",
    "> \\begin{align*}\n",
    "  PDE \\text{  } & p_{t} = Dp_{xx} + \\beta w + \\beta xcos(t), 0<x<1, 0<t<\\inf\\\\\n",
    "\\ BC \\text{  }&  p(0,t)=0\\\\\n",
    "\\ BC \\text{  }& p(1,t)= 0\\\\\n",
    "\\ IC \\text{  }& p(x,0) = -x\n",
    "\\end{align*}\n",
    "\n",
    "With \n",
    "> \\begin{align*}\n",
    "  u(x,t) &= xcos(t) + w(x,t)\\\\\n",
    "\\ g(x,t) &= x + p(x,t)\n",
    "\\end{align*}"
   ]
  },
  {
   "cell_type": "markdown",
   "metadata": {},
   "source": [
    "Then we use an Eigen Function expansion method. (Express all $x$ terms as a sequence of $sin(n\\pi x)$, as fits our BC's)\n",
    "\n",
    "We note\n",
    ">$$\n",
    "x = \\sum_{n=1}^\\infty \\zeta_n sin(n\\pi x) \\text{,    } \\zeta_n = -\\frac{2(-1)^n}{n\\pi} \n",
    "$$\n",
    "\n",
    "And $\\gamma_n = n^2\\pi^2$\n",
    "\n",
    "> \\begin{align*}\n",
    "w(x,t) &= \\sum_{n=1}^\\infty w_n(t)sin(n\\pi x)\\text{,    } &p(x,t) = \\sum_{n=1}^\\infty p_n(t)sin(n\\pi x)\\\\\n",
    "w_{t}(x,t) &= \\sum_{n=1}^\\infty \\dot{w}_n(t)sin(n\\pi x)\\text{,    } &p_{t}(x,t) = \\sum_{n=1}^\\infty \\dot{p}_n(t)sin(n\\pi x)\\\\\n",
    "w_{xx}(x,t) &= -\\sum_{n=1}^\\infty \\gamma_n w_n(t)sin(n\\pi x)\\text{,    } &p_{xx}(x,t) = -\\sum_{n=1}^\\infty \\gamma_n p_n(t)sin(n\\pi x)\\\\\n",
    "(\\alpha +sin(t))x &= \\sum_{n=1}^\\infty f_n(t)sin(n\\pi x)\\text{,    } &\\beta xcos(t) = \\sum_{n=1}^\\infty h_n(t)sin(n\\pi x)\n",
    "\\end{align*}\n",
    "\n",
    "With \n",
    "> \\begin{align*}\n",
    "f_n(t) &= (\\alpha +sin(t))\\zeta_n \\\\\n",
    "h_n(t) &=\\beta cos(t) \\zeta_n\n",
    "\\end{align*}"
   ]
  },
  {
   "cell_type": "markdown",
   "metadata": {},
   "source": [
    "We get equations\n",
    "> \\begin{align*}\n",
    "\\sum_{n=1}^\\infty [ \\dot{w}_n(t) + D\\gamma_n w_n(t) - \\alpha p_n(t) - f_n(t)] sin(n\\pi x) &= 0\\\\\n",
    "\\sum_{n=1}^\\infty [ \\dot{p}_n(t) + D\\gamma_n p_n(t) - \\beta w_n(t) - h_n(t)] sin(n\\pi x) &= 0\n",
    "\\end{align*}\n",
    "\n",
    "Thus we get the coupled ODE system\n",
    "> \\begin{align*}\n",
    "PDE \\text{  }\\dot{w}_n(t) + D\\gamma_n w_n(t) - \\alpha p_n(t)&= (\\alpha + sin(t))\\zeta_n\\\\\n",
    "PDE \\text{  }\\dot{p}_n(t) + D\\gamma_n p_n(t) - \\beta w_n(t)&= \\beta cos(t) \\zeta_n\\\\\n",
    "\\end{align*}\n",
    "\n",
    "With $p_n(0) = -\\zeta_n$ and $w_n(0) = 0$\n"
   ]
  },
  {
   "cell_type": "code",
   "execution_count": 31,
   "metadata": {
    "ExecuteTime": {
     "end_time": "2021-09-17T14:25:11.901326Z",
     "start_time": "2021-09-17T14:25:11.864346Z"
    }
   },
   "outputs": [],
   "source": [
    "# Check coupled ODE system (Used as proof not the most efficient method,\n",
    "# used to quickly see if current equations are correct)\n",
    "def zeta_(n):\n",
    "    return -(2*(-1)**n)/(n*np.pi)\n",
    "\n",
    "\n",
    "h = 0.05\n",
    "dt = 0.0005\n",
    "N = 20\n",
    "beta = -1\n",
    "alpha = 1\n",
    "D=0.025\n",
    "t_f = 5\n",
    "x_f = 1\n",
    "Num_t = int(t_f/dt) + 1\n",
    "p_n = np.zeros([N,Num_t]) # First row full of zeros\n",
    "w_n = np.zeros([N,Num_t])\n",
    "\n",
    "#Need IC's\n",
    "#w stays zero\n",
    "p_n[1:,0] = -np.array([zeta_(n) for n in range(1,N)])\n",
    "\n",
    "def G_(n):\n",
    "    return n**2*np.pi**2\n",
    "\n",
    "    \n",
    "    \n",
    "    \n",
    "def dot_w_(n,t_step):\n",
    "    t = t_step*dt\n",
    "    temp = (alpha + np.sin(t))*zeta_(n) - D*G_(n)*w_n[n][t_step] + alpha*p_n[n][t_step]\n",
    "    return temp\n",
    "    \n",
    "def dot_p_(n,t_step):\n",
    "    t = t_step*dt\n",
    "    temp = beta*np.cos(t)*zeta_(n) - D*G_(n)*p_n[n][t_step] + beta*w_n[n][t_step]\n",
    "    return temp\n",
    "\n",
    "\n",
    "def solve():\n",
    "    \n",
    "    #Dont need p_0 and start at time step 1 as got IC's at 0\n",
    "    for n in range(1,N):\n",
    "        # Do line of p_n\n",
    "        for t_step in range(1,Num_t):\n",
    "            p_n[n][t_step] = p_n[n][t_step-1] + dot_p_(n,t_step-1)*dt\n",
    "            w_n[n][t_step] = w_n[n][t_step-1] + dot_w_(n,t_step-1)*dt\n",
    "    print(\"Solved\")\n",
    "\n"
   ]
  },
  {
   "cell_type": "code",
   "execution_count": 32,
   "metadata": {
    "ExecuteTime": {
     "end_time": "2021-09-17T14:25:19.941536Z",
     "start_time": "2021-09-17T14:25:14.298323Z"
    }
   },
   "outputs": [
    {
     "name": "stdout",
     "output_type": "stream",
     "text": [
      "Solved\n"
     ]
    }
   ],
   "source": [
    "solve()\n",
    "def u(x,t):\n",
    "    temp = x*np.cos(t)\n",
    "    t_step = int(t//dt)\n",
    "    \n",
    "    for n in range(1,N):\n",
    "        temp += w_n[n][t_step]*np.sin(n*np.pi*x)\n",
    "        \n",
    "    return temp\n",
    "\n",
    "def g(x,t):\n",
    "    temp = x\n",
    "    t_step = int(t//dt)\n",
    "    \n",
    "    for n in range(1,N):\n",
    "        temp += p_n[n][t_step]*np.sin(n*np.pi*x)\n",
    "        \n",
    "    return temp"
   ]
  },
  {
   "cell_type": "code",
   "execution_count": 33,
   "metadata": {
    "ExecuteTime": {
     "end_time": "2021-09-17T14:25:25.770024Z",
     "start_time": "2021-09-17T14:25:25.453227Z"
    }
   },
   "outputs": [
    {
     "data": {
      "application/vnd.jupyter.widget-view+json": {
       "model_id": "921b29789b7f4899befddd77d70c469e",
       "version_major": 2,
       "version_minor": 0
      },
      "text/plain": [
       "VBox(children=(Figure(camera=PerspectiveCamera(fov=46.0, position=(0.0, 0.0, 2.0), projectionMatrix=(1.0, 0.0,…"
      ]
     },
     "metadata": {},
     "output_type": "display_data"
    }
   ],
   "source": [
    "a = np.linspace(0, x_f, num=int(Num_x), endpoint=True)\n",
    "b = np.linspace(0, t_f, num=int(Num_t//100), endpoint=True)\n",
    "\n",
    "U, V = np.meshgrid(a, b)\n",
    "X = U\n",
    "Y = V  # The y-axis is the wrong way around\n",
    "Z = np.array([[np.real(u(x,b[-b_i])) for x in a] for b_i in range(1,len(b)+1)])\n",
    "\n",
    "ipv.figure()\n",
    "ipv.plot_surface(X, Y, Z, color=\"orange\")\n",
    "#ipv.plot_wireframe(X, Y, Z, color=\"red\")\n",
    "ipv.show()"
   ]
  },
  {
   "cell_type": "code",
   "execution_count": 34,
   "metadata": {
    "ExecuteTime": {
     "end_time": "2021-09-17T14:25:36.566635Z",
     "start_time": "2021-09-17T14:25:36.544652Z"
    }
   },
   "outputs": [
    {
     "data": {
      "text/plain": [
       "array([ 0.00000000e+00,  1.67268268e-04,  3.82995781e-04,  4.58179300e-04,\n",
       "        6.74125837e-04,  5.89402491e-04,  7.30516867e-04,  3.82761724e-04,\n",
       "        3.57236236e-04, -3.59409348e-04, -5.92158026e-04, -1.69297449e-03,\n",
       "       -1.99246528e-03, -3.27803051e-03, -3.19664228e-03, -4.23779561e-03,\n",
       "       -3.07594527e-03, -3.60623183e-03, -8.47483366e-04, -1.96774341e-03,\n",
       "       -1.11022302e-16])"
      ]
     },
     "execution_count": 34,
     "metadata": {},
     "output_type": "execute_result"
    }
   ],
   "source": [
    "#Check how similar\n",
    "at_t = 3.0\n",
    "stat1 = Grid_u.Grid[-(int(at_t/dt)+1)]\n",
    "stat2 = np.array([np.real(u(i*h,at_t)) for i in range(len(Grid_u.Grid[0]))])\n",
    "#print(stat1)\n",
    "#print(stat2)\n",
    "stat1-stat2"
   ]
  },
  {
   "cell_type": "markdown",
   "metadata": {},
   "source": [
    "This shows us we have made no mistakes in our analytic solution so far.\n",
    "\n",
    "\n",
    "To solve this system of coupled ODE's we will change $\\frac{d}{dt}$ to $\\L$ and treat as a simultaneous equation.\n",
    "\n",
    "> \\begin{align*}\n",
    "(\\L + D \\gamma_n)w_n(t) - \\alpha p_n(t) &= (\\alpha + sin(t))\\zeta_n\\\\\n",
    "(\\L + D \\gamma_n)p_n(t) - \\beta w_n(t) &= \\beta cos(t)\\zeta_n\\\\\n",
    "\\end{align*}\n",
    "\n",
    "\n",
    "> $\\dot{\\dot{w}}_n(t) + K_n \\dot{w}_n + Q_nw_n = q_n$\n",
    "\n",
    "With,\n",
    "> \\begin{align*}\n",
    "q_n &=\\dot{f}_n + D \\gamma_n f_n + \\alpha h_n\\\\\n",
    "&= \\zeta_n[cos(t)(1+\\alpha \\beta)+D \\gamma_n sin(t) + D \\gamma_n \\alpha]\\\\\n",
    "Q_n &= D^2\\gamma_n^2-\\alpha \\beta\\\\\n",
    "K_n &= 2D\\gamma_n\n",
    "\\end{align*}\n",
    "\n",
    "We get for $w_n(t)$ and $p_n(t)$,\n",
    "> \\begin{align*}\n",
    "w_n(t) &= Ae^{m_{n,+}t} + Be^{m_{n,-}t} + C_1 cos(t) + C_2 sin(t) + C_3\\\\\n",
    "p_n(t) &= A\\sqrt{\\frac{\\beta}{\\alpha}}e^{m_{n,+}t} - B\\sqrt{\\frac{\\beta}{\\alpha}}e^{m_{n,-}t} + \\frac{sin(t)}{\\alpha}(D\\gamma_n C_2 - C_1 - \\zeta_n)\\\\\n",
    "&+ \\frac{cos(t)}{\\alpha}(C_2 + D\\gamma_n C_1) + \\frac{D\\gamma_nC_3}{\\alpha} - \\zeta_n\n",
    "\\end{align*}\n",
    "\n",
    "\n",
    "With,\n",
    "\n",
    ">\\begin{align*}\n",
    "C_1 &= \\zeta_n\\frac{(1+\\alpha \\beta)(Q_n - 1) - k_nD\\gamma_n}{k_n^2 + (Q_n -1)^2}\\\\\n",
    "C_2 &= \\zeta_n\\frac{k_n(1+\\alpha\\beta)+ (Q_n - 1)D\\gamma_n}{k_n^2+(Q_n-1)^2}\\\\\n",
    "C_3 &= \\zeta_n\\frac{D\\gamma_n\\alpha}{Q_n}\n",
    "\\end{align*}\n",
    "\n",
    "For these IC's\n",
    "\n",
    ">\\begin{align*}\n",
    "A &= -\\frac{1}{2} \\left( \\frac{1}{\\sqrt{\\alpha \\beta}}(C_2 + D\\gamma_n(C_1 + C_3)) + C_1 + C_3 \\right)\\\\\n",
    "B &= \\frac{1}{2} \\left( \\frac{1}{\\sqrt{\\alpha \\beta}}(C_2 + D\\gamma_n(C_1 + C_3)) - C_1 -C_3 \\right)\n",
    "\\end{align*}"
   ]
  },
  {
   "cell_type": "markdown",
   "metadata": {},
   "source": [
    "Full derivation of analytic solution in PDF"
   ]
  },
  {
   "cell_type": "code",
   "execution_count": null,
   "metadata": {},
   "outputs": [],
   "source": []
  },
  {
   "cell_type": "code",
   "execution_count": 35,
   "metadata": {
    "ExecuteTime": {
     "end_time": "2021-09-17T14:25:44.829919Z",
     "start_time": "2021-09-17T14:25:44.775953Z"
    }
   },
   "outputs": [],
   "source": [
    "h = 0.05\n",
    "dt = 0.0005\n",
    "beta = -1\n",
    "alpha = 1\n",
    "D=0.025\n",
    "t_f = 5\n",
    "x_f = 1\n",
    "\n",
    "Num_t = int(t_f/dt) + 1\n",
    "Num_x = int(x_f/h) + 1\n",
    "\n",
    "\n",
    "def G_(n):\n",
    "    return n**2*np.pi**2\n",
    "\n",
    "def zeta_(n):\n",
    "    return 2*(-1)**(n+1)/(n*np.pi)\n",
    "\n",
    "def Q_(n):\n",
    "    return D**2*G_(n)**2-alpha*beta\n",
    "    \n",
    "def k_(n):\n",
    "    return 2*D*G_(n)\n",
    "\n",
    "def C_1(n):\n",
    "    temp = (1+alpha*beta)*(Q_(n)-1)-D*G_(n)*k_(n) #incorrect minus sign was (1-alpha*beta)\n",
    "    temp *= zeta_(n)/((Q_(n)-1)**2+k_(n)**2)\n",
    "    return temp\n",
    "    \n",
    "def C_2(n):\n",
    "    temp = G_(n)*D*(Q_(n)-1)+(1+alpha*beta)*k_(n)\n",
    "    temp *= zeta_(n)/((Q_(n)-1)**2+k_(n)**2)\n",
    "    return temp\n",
    "\n",
    "def C_3(n):\n",
    "    temp = zeta_(n)*D*G_(n)*alpha\n",
    "    temp /= Q_(n)\n",
    "    return temp\n",
    "    \n",
    "    \n",
    "def B_(n):\n",
    "    temp = C_2(n) + D*G_(n)*(C_1(n) + C_3(n))\n",
    "    temp /= (alpha*beta)**(0.5)\n",
    "    temp -= C_1(n) + C_3(n)\n",
    "    temp /= 2\n",
    "    return temp\n",
    "    \n",
    "def A_(n): #aka A in notes\n",
    "    temp = C_2(n) + D*G_(n)*(C_1(n) + C_3(n))\n",
    "    temp /= (alpha*beta)**(0.5)\n",
    "    temp += C_1(n) + C_3(n)\n",
    "    temp /= -2\n",
    "    return temp\n",
    "    \n",
    "def m_p(n):\n",
    "    return -D*G_(n) + (alpha*beta)**0.5\n",
    "\n",
    "def m_m(n):\n",
    "    return -D*G_(n) - (alpha*beta)**0.5\n",
    "    \n",
    "def w_(n,t):\n",
    "    temp = A_(n)*np.exp(m_p(n)*t)+B_(n)*np.exp(m_m(n)*t)\n",
    "    temp += C_1(n)*np.cos(t)\n",
    "    temp += C_2(n)*np.sin(t)\n",
    "    temp += C_3(n)\n",
    "    return temp\n",
    "\n",
    "def p_(n,t):\n",
    "    temp = A_(n)*(beta/alpha)**0.5*np.exp(m_p(n)*t)\n",
    "    temp -= B_(n)*(beta/alpha)**0.5*np.exp(m_m(n)*t)\n",
    "    temp += (np.sin(t)/alpha)*(D*G_(n)*C_2(n)-C_1(n)-zeta_(n))\n",
    "    temp += (np.cos(t)/alpha)*(C_2(n) + D*G_(n)*C_1(n))\n",
    "    temp += (D*G_(n)*C_3(n))/(alpha) - zeta_(n)\n",
    "    return temp\n",
    "    \n",
    "def u(x,t):\n",
    "    temp = np.cos(t)*x\n",
    "    \n",
    "    for n in range(1,25):\n",
    "        temp += w_(n,t)*np.sin(n*np.pi*x)\n",
    "        \n",
    "    return temp\n",
    "\n",
    "def g(x,t):\n",
    "    temp = x\n",
    "    for n in range(1,25):\n",
    "        temp += p_(n,t)*np.sin(n*np.pi*x)\n",
    "        \n",
    "    return temp\n",
    "    "
   ]
  },
  {
   "cell_type": "code",
   "execution_count": 36,
   "metadata": {
    "ExecuteTime": {
     "end_time": "2021-09-17T14:26:03.814691Z",
     "start_time": "2021-09-17T14:25:53.934834Z"
    }
   },
   "outputs": [
    {
     "data": {
      "application/vnd.jupyter.widget-view+json": {
       "model_id": "496c49f7a61c46c09009be00c04bb466",
       "version_major": 2,
       "version_minor": 0
      },
      "text/plain": [
       "VBox(children=(Figure(camera=PerspectiveCamera(fov=46.0, position=(0.0, 0.0, 2.0), projectionMatrix=(1.0, 0.0,…"
      ]
     },
     "metadata": {},
     "output_type": "display_data"
    }
   ],
   "source": [
    "a = np.linspace(0, x_f, num=int(Num_x), endpoint=True)\n",
    "b = np.linspace(0, t_f, num=int(Num_t//100), endpoint=True)\n",
    "U, V = np.meshgrid(a, b)\n",
    "X = U\n",
    "Y = V  # The y-axis is the wrong way around\n",
    "#Z = np.array([[np.real(u(x,y)) for x in a] for y in b])\n",
    "Z = np.array([[np.real(u(x,b[-b_i])) for x in a] for b_i in range(1,len(b)+1)])\n",
    "\n",
    "ipv.figure()\n",
    "ipv.plot_surface(X, Y, Z, color=\"orange\")\n",
    "#ipv.plot_wireframe(X, Y, Z, color=\"red\")\n",
    "ipv.show()"
   ]
  },
  {
   "cell_type": "code",
   "execution_count": 37,
   "metadata": {
    "ExecuteTime": {
     "end_time": "2021-09-17T14:26:24.962361Z",
     "start_time": "2021-09-17T14:26:24.844441Z"
    }
   },
   "outputs": [
    {
     "data": {
      "text/plain": [
       "array([ 0.00000000e+00,  1.00579528e-04,  4.24736006e-04,  3.70836307e-04,\n",
       "        5.87104508e-04,  6.41280586e-04,  4.53960886e-04,  5.22873041e-04,\n",
       "        6.15632660e-05, -3.12764955e-04, -7.61293887e-04, -1.71616411e-03,\n",
       "       -2.18635573e-03, -3.05915413e-03, -3.70314685e-03, -3.55793919e-03,\n",
       "       -3.86810735e-03, -2.73816335e-03, -1.45831489e-03, -1.54578142e-03,\n",
       "       -1.11022302e-16])"
      ]
     },
     "execution_count": 37,
     "metadata": {},
     "output_type": "execute_result"
    }
   ],
   "source": [
    "#Check how similar\n",
    "at_t = 3.0\n",
    "stat1 = Grid_u.Grid[-(int(at_t/dt)+1)]\n",
    "stat2 = np.array([np.real(u(i*h,at_t)) for i in range(len(Grid_u.Grid[0]))])\n",
    "#print(stat1)\n",
    "#print(stat2)\n",
    "stat1-stat2"
   ]
  },
  {
   "cell_type": "code",
   "execution_count": null,
   "metadata": {},
   "outputs": [],
   "source": []
  },
  {
   "cell_type": "code",
   "execution_count": null,
   "metadata": {},
   "outputs": [],
   "source": [
    "#Animation of example"
   ]
  },
  {
   "cell_type": "code",
   "execution_count": 27,
   "metadata": {
    "ExecuteTime": {
     "end_time": "2021-06-30T01:17:54.314641Z",
     "start_time": "2021-06-30T01:17:54.284695Z"
    }
   },
   "outputs": [
    {
     "data": {
      "text/plain": [
       "(-0.08969115975409793-1.574195797539744e-19j)"
      ]
     },
     "execution_count": 27,
     "metadata": {},
     "output_type": "execute_result"
    }
   ],
   "source": [
    "u(2*h,3)"
   ]
  },
  {
   "cell_type": "code",
   "execution_count": null,
   "metadata": {},
   "outputs": [],
   "source": []
  },
  {
   "cell_type": "code",
   "execution_count": null,
   "metadata": {},
   "outputs": [],
   "source": []
  },
  {
   "cell_type": "code",
   "execution_count": 12,
   "metadata": {
    "ExecuteTime": {
     "end_time": "2021-09-17T11:40:37.813553Z",
     "start_time": "2021-09-17T11:40:37.777579Z"
    }
   },
   "outputs": [
    {
     "ename": "IndexError",
     "evalue": "index 19999 is out of bounds for axis 0 with size 10001",
     "output_type": "error",
     "traceback": [
      "\u001b[1;31m---------------------------------------------------------------------------\u001b[0m",
      "\u001b[1;31mIndexError\u001b[0m                                Traceback (most recent call last)",
      "\u001b[1;32m<ipython-input-12-c8151be3572f>\u001b[0m in \u001b[0;36m<module>\u001b[1;34m\u001b[0m\n\u001b[1;32m----> 1\u001b[1;33m \u001b[0mu\u001b[0m\u001b[1;33m(\u001b[0m\u001b[1;36m0.8\u001b[0m\u001b[1;33m,\u001b[0m\u001b[1;36m10\u001b[0m\u001b[1;33m)\u001b[0m\u001b[1;33m\u001b[0m\u001b[1;33m\u001b[0m\u001b[0m\n\u001b[0m\u001b[0;32m      2\u001b[0m \u001b[1;31m# Silly example data\u001b[0m\u001b[1;33m\u001b[0m\u001b[1;33m\u001b[0m\u001b[1;33m\u001b[0m\u001b[0m\n\u001b[0;32m      3\u001b[0m \u001b[0mX\u001b[0m \u001b[1;33m=\u001b[0m \u001b[0mnp\u001b[0m\u001b[1;33m.\u001b[0m\u001b[0mlinspace\u001b[0m\u001b[1;33m(\u001b[0m\u001b[1;36m0\u001b[0m\u001b[1;33m,\u001b[0m \u001b[1;36m1\u001b[0m\u001b[1;33m,\u001b[0m \u001b[0mnum\u001b[0m\u001b[1;33m=\u001b[0m\u001b[1;36m40\u001b[0m\u001b[1;33m,\u001b[0m \u001b[0mendpoint\u001b[0m\u001b[1;33m=\u001b[0m\u001b[1;32mTrue\u001b[0m\u001b[1;33m)\u001b[0m\u001b[1;33m\u001b[0m\u001b[1;33m\u001b[0m\u001b[0m\n\u001b[0;32m      4\u001b[0m \u001b[0mY\u001b[0m \u001b[1;33m=\u001b[0m \u001b[0mnp\u001b[0m\u001b[1;33m.\u001b[0m\u001b[0marray\u001b[0m\u001b[1;33m(\u001b[0m\u001b[1;33m[\u001b[0m\u001b[0mu\u001b[0m\u001b[1;33m(\u001b[0m\u001b[0mx\u001b[0m\u001b[1;33m,\u001b[0m\u001b[1;36m3\u001b[0m\u001b[1;33m)\u001b[0m \u001b[1;32mfor\u001b[0m \u001b[0mx\u001b[0m \u001b[1;32min\u001b[0m \u001b[0mX\u001b[0m\u001b[1;33m]\u001b[0m\u001b[1;33m)\u001b[0m\u001b[1;33m\u001b[0m\u001b[1;33m\u001b[0m\u001b[0m\n\u001b[0;32m      5\u001b[0m \u001b[1;33m\u001b[0m\u001b[0m\n",
      "\u001b[1;32m<ipython-input-9-dd74b3e63642>\u001b[0m in \u001b[0;36mu\u001b[1;34m(x, t)\u001b[0m\n\u001b[0;32m      5\u001b[0m \u001b[1;33m\u001b[0m\u001b[0m\n\u001b[0;32m      6\u001b[0m     \u001b[1;32mfor\u001b[0m \u001b[0mn\u001b[0m \u001b[1;32min\u001b[0m \u001b[0mrange\u001b[0m\u001b[1;33m(\u001b[0m\u001b[1;36m1\u001b[0m\u001b[1;33m,\u001b[0m\u001b[0mN\u001b[0m\u001b[1;33m)\u001b[0m\u001b[1;33m:\u001b[0m\u001b[1;33m\u001b[0m\u001b[1;33m\u001b[0m\u001b[0m\n\u001b[1;32m----> 7\u001b[1;33m         \u001b[0mtemp\u001b[0m \u001b[1;33m+=\u001b[0m \u001b[0mw_n\u001b[0m\u001b[1;33m[\u001b[0m\u001b[0mn\u001b[0m\u001b[1;33m]\u001b[0m\u001b[1;33m[\u001b[0m\u001b[0mt_step\u001b[0m\u001b[1;33m]\u001b[0m\u001b[1;33m*\u001b[0m\u001b[0mnp\u001b[0m\u001b[1;33m.\u001b[0m\u001b[0msin\u001b[0m\u001b[1;33m(\u001b[0m\u001b[0mn\u001b[0m\u001b[1;33m*\u001b[0m\u001b[0mnp\u001b[0m\u001b[1;33m.\u001b[0m\u001b[0mpi\u001b[0m\u001b[1;33m*\u001b[0m\u001b[0mx\u001b[0m\u001b[1;33m)\u001b[0m\u001b[1;33m\u001b[0m\u001b[1;33m\u001b[0m\u001b[0m\n\u001b[0m\u001b[0;32m      8\u001b[0m \u001b[1;33m\u001b[0m\u001b[0m\n\u001b[0;32m      9\u001b[0m     \u001b[1;32mreturn\u001b[0m \u001b[0mtemp\u001b[0m\u001b[1;33m\u001b[0m\u001b[1;33m\u001b[0m\u001b[0m\n",
      "\u001b[1;31mIndexError\u001b[0m: index 19999 is out of bounds for axis 0 with size 10001"
     ]
    }
   ],
   "source": [
    "u(0.8,10)\n",
    "# Silly example data\n",
    "X = np.linspace(0, 1, num=40, endpoint=True)\n",
    "Y = np.array([u(x,3) for x in X])\n",
    "\n",
    "# Make the plot\n",
    "plt.plot(X, Y, linewidth=3, linestyle=\"--\",\n",
    "         color=\"blue\", label=r\"Legend label $\\sin(x)$\")\n",
    "plt.xlabel(r\"Description of $x$ coordinate (units)\")\n",
    "plt.ylabel(r\"Description of $y$ coordinate (units)\")\n",
    "plt.title(r\"Title here (remove for papers)\")\n",
    "plt.xlim(0, 1)\n",
    "plt.ylim(-1.1, 1.1)\n",
    "plt.legend(loc=\"lower left\")\n",
    "plt.show()"
   ]
  },
  {
   "cell_type": "code",
   "execution_count": null,
   "metadata": {},
   "outputs": [],
   "source": []
  },
  {
   "cell_type": "code",
   "execution_count": null,
   "metadata": {},
   "outputs": [],
   "source": []
  },
  {
   "cell_type": "code",
   "execution_count": null,
   "metadata": {},
   "outputs": [],
   "source": []
  },
  {
   "cell_type": "markdown",
   "metadata": {},
   "source": [
    "### Example Coupled Time Dependence (Wave)"
   ]
  }
 ],
 "metadata": {
  "hide_input": false,
  "kernelspec": {
   "display_name": "Python 3",
   "language": "python",
   "name": "python3"
  },
  "language_info": {
   "codemirror_mode": {
    "name": "ipython",
    "version": 3
   },
   "file_extension": ".py",
   "mimetype": "text/x-python",
   "name": "python",
   "nbconvert_exporter": "python",
   "pygments_lexer": "ipython3",
   "version": "3.7.6"
  },
  "toc": {
   "base_numbering": 1,
   "nav_menu": {},
   "number_sections": true,
   "sideBar": true,
   "skip_h1_title": false,
   "title_cell": "Table of Contents",
   "title_sidebar": "Contents",
   "toc_cell": true,
   "toc_position": {},
   "toc_section_display": true,
   "toc_window_display": false
  },
  "varInspector": {
   "cols": {
    "lenName": 16,
    "lenType": 16,
    "lenVar": 40
   },
   "kernels_config": {
    "python": {
     "delete_cmd_postfix": "",
     "delete_cmd_prefix": "del ",
     "library": "var_list.py",
     "varRefreshCmd": "print(var_dic_list())"
    },
    "r": {
     "delete_cmd_postfix": ") ",
     "delete_cmd_prefix": "rm(",
     "library": "var_list.r",
     "varRefreshCmd": "cat(var_dic_list()) "
    }
   },
   "types_to_exclude": [
    "module",
    "function",
    "builtin_function_or_method",
    "instance",
    "_Feature"
   ],
   "window_display": false
  }
 },
 "nbformat": 4,
 "nbformat_minor": 4
}
