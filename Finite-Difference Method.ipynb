{
 "cells": [
  {
   "cell_type": "markdown",
   "metadata": {
    "toc": true
   },
   "source": [
    "<h1>Table of Contents<span class=\"tocSkip\"></span></h1>\n",
    "<div class=\"toc\"><ul class=\"toc-item\"><li><span><a href=\"#Finite-Difference-Method-Recap\" data-toc-modified-id=\"Finite-Difference-Method-Recap-1\"><span class=\"toc-item-num\">1&nbsp;&nbsp;</span>Finite-Difference Method Recap</a></span><ul class=\"toc-item\"><li><span><a href=\"#Taylor-Series-(1-var-General-Idea-of-what-needs-doing)\" data-toc-modified-id=\"Taylor-Series-(1-var-General-Idea-of-what-needs-doing)-1.1\"><span class=\"toc-item-num\">1.1&nbsp;&nbsp;</span>Taylor Series (1 var General Idea of what needs doing)</a></span><ul class=\"toc-item\"><li><ul class=\"toc-item\"><li><span><a href=\"#Backward-Difference\" data-toc-modified-id=\"Backward-Difference-1.1.0.1\"><span class=\"toc-item-num\">1.1.0.1&nbsp;&nbsp;</span>Backward Difference</a></span></li></ul></li></ul></li><li><span><a href=\"#Taylor-Series-(Partial)\" data-toc-modified-id=\"Taylor-Series-(Partial)-1.2\"><span class=\"toc-item-num\">1.2&nbsp;&nbsp;</span>Taylor Series (Partial)</a></span><ul class=\"toc-item\"><li><span><a href=\"#Find-partials-of-$u$-in-terms-of-$u$-(In-this-case-4)\" data-toc-modified-id=\"Find-partials-of-$u$-in-terms-of-$u$-(In-this-case-4)-1.2.1\"><span class=\"toc-item-num\">1.2.1&nbsp;&nbsp;</span>Find partials of $u$ in terms of $u$ (In this case 4)</a></span></li><li><span><a href=\"#Use-Grid\" data-toc-modified-id=\"Use-Grid-1.2.2\"><span class=\"toc-item-num\">1.2.2&nbsp;&nbsp;</span>Use Grid</a></span></li><li><span><a href=\"#Example-1-Dirichlet-Laplace-with-extra-bit\" data-toc-modified-id=\"Example-1-Dirichlet-Laplace-with-extra-bit-1.2.3\"><span class=\"toc-item-num\">1.2.3&nbsp;&nbsp;</span>Example 1 Dirichlet Laplace with extra bit</a></span></li><li><span><a href=\"#Example-2-Neumann-Laplace-with-extra-bit\" data-toc-modified-id=\"Example-2-Neumann-Laplace-with-extra-bit-1.2.4\"><span class=\"toc-item-num\">1.2.4&nbsp;&nbsp;</span>Example 2 Neumann Laplace with extra bit</a></span></li><li><span><a href=\"#Coupled-PDE\" data-toc-modified-id=\"Coupled-PDE-1.2.5\"><span class=\"toc-item-num\">1.2.5&nbsp;&nbsp;</span>Coupled PDE</a></span></li><li><span><a href=\"#Method\" data-toc-modified-id=\"Method-1.2.6\"><span class=\"toc-item-num\">1.2.6&nbsp;&nbsp;</span>Method</a></span></li><li><span><a href=\"#Example-Coupled-Laplace-Equation\" data-toc-modified-id=\"Example-Coupled-Laplace-Equation-1.2.7\"><span class=\"toc-item-num\">1.2.7&nbsp;&nbsp;</span>Example Coupled Laplace Equation</a></span><ul class=\"toc-item\"><li><span><a href=\"#Check\" data-toc-modified-id=\"Check-1.2.7.1\"><span class=\"toc-item-num\">1.2.7.1&nbsp;&nbsp;</span>Check</a></span></li></ul></li></ul></li><li><span><a href=\"#Time-Dependence\" data-toc-modified-id=\"Time-Dependence-1.3\"><span class=\"toc-item-num\">1.3&nbsp;&nbsp;</span>Time Dependence</a></span><ul class=\"toc-item\"><li><span><a href=\"#Example-1D-Heat-Equation\" data-toc-modified-id=\"Example-1D-Heat-Equation-1.3.1\"><span class=\"toc-item-num\">1.3.1&nbsp;&nbsp;</span>Example 1D Heat Equation</a></span></li><li><span><a href=\"#Example-2D-Wave-Equation\" data-toc-modified-id=\"Example-2D-Wave-Equation-1.3.2\"><span class=\"toc-item-num\">1.3.2&nbsp;&nbsp;</span>Example 2D Wave Equation</a></span><ul class=\"toc-item\"><li><span><a href=\"#Compare-to-Analytic-Solution\" data-toc-modified-id=\"Compare-to-Analytic-Solution-1.3.2.1\"><span class=\"toc-item-num\">1.3.2.1&nbsp;&nbsp;</span>Compare to Analytic Solution</a></span></li><li><span><a href=\"#Compute-On-GPU-(CUDA)\" data-toc-modified-id=\"Compute-On-GPU-(CUDA)-1.3.2.2\"><span class=\"toc-item-num\">1.3.2.2&nbsp;&nbsp;</span>Compute On GPU (CUDA)</a></span></li></ul></li></ul></li><li><span><a href=\"#Coupled-Time-Dependence\" data-toc-modified-id=\"Coupled-Time-Dependence-1.4\"><span class=\"toc-item-num\">1.4&nbsp;&nbsp;</span>Coupled Time Dependence</a></span><ul class=\"toc-item\"><li><span><a href=\"#Example-Coupled-Time-Dependence-(Heat)\" data-toc-modified-id=\"Example-Coupled-Time-Dependence-(Heat)-1.4.1\"><span class=\"toc-item-num\">1.4.1&nbsp;&nbsp;</span>Example Coupled Time Dependence (Heat)</a></span><ul class=\"toc-item\"><li><span><a href=\"#Method-1\" data-toc-modified-id=\"Method-1-1.4.1.1\"><span class=\"toc-item-num\">1.4.1.1&nbsp;&nbsp;</span>Method 1</a></span></li><li><span><a href=\"#Analytic-Solution\" data-toc-modified-id=\"Analytic-Solution-1.4.1.2\"><span class=\"toc-item-num\">1.4.1.2&nbsp;&nbsp;</span>Analytic Solution</a></span></li></ul></li><li><span><a href=\"#Example-Coupled-Time-Dependence-(Wave)\" data-toc-modified-id=\"Example-Coupled-Time-Dependence-(Wave)-1.4.2\"><span class=\"toc-item-num\">1.4.2&nbsp;&nbsp;</span>Example Coupled Time Dependence (Wave)</a></span></li></ul></li></ul></li></ul></div>"
   ]
  },
  {
   "cell_type": "markdown",
   "metadata": {},
   "source": [
    "Latex Commands\n",
    "$\\newcommand{\\L}{\\mathcal{L}}$"
   ]
  },
  {
   "cell_type": "code",
   "execution_count": 1,
   "metadata": {
    "ExecuteTime": {
     "end_time": "2021-09-17T11:37:27.480001Z",
     "start_time": "2021-09-17T11:37:26.958000Z"
    }
   },
   "outputs": [],
   "source": [
    "%matplotlib notebook\n",
    "# For matplotlib animations"
   ]
  },
  {
   "cell_type": "code",
   "execution_count": 2,
   "metadata": {
    "ExecuteTime": {
     "end_time": "2021-09-17T11:37:28.782099Z",
     "start_time": "2021-09-17T11:37:27.519986Z"
    }
   },
   "outputs": [],
   "source": [
    "import numpy as np\n",
    "import matplotlib\n",
    "import matplotlib.pyplot as plt\n",
    "import matplotlib.animation as animation\n",
    "\n",
    "import Grid as GridClass"
   ]
  },
  {
   "cell_type": "code",
   "execution_count": 3,
   "metadata": {
    "ExecuteTime": {
     "end_time": "2021-09-17T11:37:28.830079Z",
     "start_time": "2021-09-17T11:37:28.819086Z"
    }
   },
   "outputs": [],
   "source": [
    "import ipyvolume as ipv  # Does not come with default anaconda #Used to show 3D graphs\n",
    "import ipywidgets as widgets"
   ]
  },
  {
   "cell_type": "code",
   "execution_count": 4,
   "metadata": {
    "ExecuteTime": {
     "end_time": "2021-09-17T11:37:29.458963Z",
     "start_time": "2021-09-17T11:37:29.441979Z"
    }
   },
   "outputs": [],
   "source": [
    "GridS = GridClass.GridS\n",
    "GridD = GridClass.GridD"
   ]
  },
  {
   "cell_type": "markdown",
   "metadata": {},
   "source": [
    "# Finite-Difference Method Recap"
   ]
  },
  {
   "cell_type": "markdown",
   "metadata": {},
   "source": [
    "Parabolic (Heat flow, diffusion)($\\frac{\\partial u}{\\partial t} =$ ...)\n",
    "\n",
    "Hyperbolic (Waves, vibrating systems)($\\frac{\\partial ^2u}{\\partial t^2} = $...)\n",
    "\n",
    "Elliptic Equations (Time is not involved, steady state)\n",
    "\n",
    "Explicit Methods, Calculate state of system later in time from the current state\n",
    "$Y(t +\\delta t)=F(Y(t))$\n",
    "\n",
    "Implicit Methods, Find a solution by solving a set of equations involving the current state and later one\n",
    "$G(Y(t),Y(t+\\delta t))=0$"
   ]
  },
  {
   "cell_type": "markdown",
   "metadata": {},
   "source": [
    "## Taylor Series (1 var General Idea of what needs doing)\n",
    "IDEA = Find $f^\\prime(x)$ and $f^{\\prime\\prime}(x)$ as functions of $f(x)$\n",
    "\n",
    "> $f(x+h) = f(x) + f^\\prime(x)h + ... = \\sum^{\\inf}_{n=0}{\\frac{1}{n!}f^{(n)}(x)h^n}$\n",
    "\n",
    "\n",
    "##### For $f^\\prime(x)$ Central\n",
    "Take first two terms of expansion, and take the difference.\n",
    "\n",
    "> \\begin{align*}\n",
    "f(x \\pm h) &= f(x) \\pm f^\\prime(x)h \\\\\n",
    "\\ f^\\prime(x) &= \\frac{1}{2h}[f(x+h)-f(x-h)] \n",
    "\\end{align*}\n",
    "\n",
    "##### For $f^{\\prime\\prime}(x)$ Central\n",
    "Take first 3 terms of exansion, and add the together for positive and negative h\n",
    "\n",
    "> \\begin{align*}\n",
    "  f(x + h) &= f(x) + f^\\prime(x)h + \\frac{1}{2}f^{\\prime\\prime}(x)h^2\\\\\n",
    "\\ f(x - h) &= f(x) - f^\\prime(x)h + \\frac{1}{2}f^{\\prime\\prime}(x)h^2\\\\\n",
    "\\ f^{\\prime\\prime}(x) &= \\frac{1}{h^2}[f(x+h) - 2f(x) + f(x-h)]\n",
    "\\end{align*}\n",
    "\n",
    "##### For $f^{\\prime\\prime\\prime}(x)$ Central\n",
    "\n",
    "Take first 4 terms of the expansion for $f(x \\pm h)$ and $f(x \\pm 2h)$.\n",
    "\n",
    "> \\begin{align*}\n",
    "  f(x \\pm h) &= f(x) \\pm f^\\prime(x)h + \\frac{1}{2}f^{\\prime\\prime}(x)h^2 \\pm \\frac{1}{6}f^{\\prime\\prime\\prime}(x)h^3\\\\\n",
    "\\ f(x \\pm 2h) &= f(x) \\pm 2f^\\prime(x)h + \\frac{4}{2}f^{\\prime\\prime}(x)h^2 \\pm \\frac{8}{6}f^{\\prime\\prime\\prime}(x)h^3\\\\\n",
    "\\ f(x+h)-f(x-h) &=  2f^\\prime(x)h + \\frac{1}{3}f^{\\prime\\prime\\prime}h^3\\\\\n",
    "\\ f(x+2h)-f(x-2h) &= 4f^\\prime(x)h + \\frac{8}{3}f^{\\prime\\prime\\prime}h^3\\\\\n",
    "\\ f^{\\prime\\prime\\prime}(x) &= \\frac{1}{2h^3}[f(x+2h)-2f(x+h)+2f(x-h)-f(x-2h)]\n",
    "\\end{align*}\n",
    "\n",
    "\n",
    "If on boundary, we will have to use a forward/backward difference equation"
   ]
  },
  {
   "cell_type": "code",
   "execution_count": null,
   "metadata": {},
   "outputs": [],
   "source": []
  },
  {
   "cell_type": "code",
   "execution_count": null,
   "metadata": {},
   "outputs": [],
   "source": []
  },
  {
   "cell_type": "markdown",
   "metadata": {},
   "source": [
    "#### Backward Difference\n",
    "We use this on upper boundaries or when the variable is time as we can't see into the future. No we use forward one as we need to see into future.\n",
    "\n",
    "> $f^{\\prime}(x) = \\frac{1}{h}[f(x)-f(x-h)]$\n",
    "\n",
    "> $f^{\\prime\\prime}(x) = \\frac{1}{h^2}[f(x-2h)-2f(x-h)+f(x)]$\n"
   ]
  },
  {
   "cell_type": "markdown",
   "metadata": {},
   "source": [
    "## Taylor Series (Partial)\n",
    "At $(a,b)$\n",
    "\n",
    "> \\begin{align*}\n",
    "f(x+a,y+b) &= f(x,y)(a)^0(b)^0 + f_x(x,y)(a)^1(b)^0 + f_y(x,y)(a)^0(b)^1\\\\\n",
    "\\ &+ \\frac{1}{2!}(f_{xx}(x,y)a^2+2f_{xy}(x,y)ab+f_{yy}(x,y)b^2) + ...\\\\\n",
    "\\ f(x+a,y+b) &= \\sum_{n=0}^{\\inf}\\frac{1}{n!}\\sum^{n}_{j=0}{N\\choose k}f_{x^jy^{n-j}}(x,y)a^jb^{n-j}\n",
    "\\end{align*}\n",
    "\n",
    "This will be good enough for 2D models (no time dependence), and 1D models with time dependence\n",
    "\n",
    "Could try 2D model with time dependence but python could be too slow, also application isn't for 2D model."
   ]
  },
  {
   "cell_type": "markdown",
   "metadata": {},
   "source": [
    "### Find partials of $u$ in terms of $u$ (In this case 4)\n",
    "\n",
    "##### $u_x$ and $u_y$\n",
    "Take the difference of the difference equations\n",
    "> \\begin{align*}\n",
    "  u(x \\pm h,y) &= u(x,y) \\pm u_x(x,y)h \\\\\n",
    "\\ u_x(x,y) &= \\frac{1}{2h}[u(x+h,y) - u(x-h,y)]\n",
    "\\end{align*}\n",
    "\n",
    "Similar for $u_y$\n",
    ">  $u_y(x,y) = \\frac{1}{2k}[u(x,y+k) - u(x,y-k)]$\n"
   ]
  },
  {
   "cell_type": "markdown",
   "metadata": {},
   "source": [
    "##### $u_{xx}$ and $u_{yy}$\n",
    "Extremely similar to the derivation for $f(x)$, note as we are doing extension in one direction, we will only get partial derivatives of the variable of extension.\n",
    "> $u_{xx}(x,y) = \\frac{1}{h^2}[u(x+h,y)-2u(x,y)+u(x-h,y)]$\n",
    "\n",
    "> $u_{yy}(x,y) = \\frac{1}{k^2}[u(x,y+k)-2u(x,y)+u(x,y-k)]$\n"
   ]
  },
  {
   "cell_type": "markdown",
   "metadata": {},
   "source": [
    "###  Use Grid\n",
    "Have points on a 2D grid (to keep things simple we will use a square), run iterations over the points with equations.\n",
    "\n",
    "Let $u_{i,j}$ represent the grid point $x=ih$ from the left side of the square, and $y=jk$ from the bottom of the square. The edges of the square will fit our boundary conditions."
   ]
  },
  {
   "cell_type": "markdown",
   "metadata": {},
   "source": [
    "###### Our Equations for the Grid\n",
    "We will use these grid points to define our equation\n",
    "> \\begin{align*}\n",
    "  u(x,y) &= u_{i,j}\\\\\n",
    "\\ u(x+h,y) &= u_{i+1,j}\\\\\n",
    "\\ u(x,y+k) &= u_{i,j+1}\\\\\n",
    "\\ u(x-h,y) &= u_{i-1,j}\n",
    "\\end{align*}\n",
    "\n",
    "This gives us\n",
    "> \\begin{align*}\n",
    "  u_x(x,y) &= \\frac{1}{2h}(u_{i+1,j}-u_{i-1,j})\\\\\n",
    "\\ u_y(x,y) &= \\frac{1}{2k}(u_{i,j+1}-u_{i,j-1})\\\\\n",
    "\\ u_{xx}(x,y) &= \\frac{1}{h^2}(u_{i+1,j}-2u_{i,j}+u_{i-1,j})\\\\\n",
    "\\ u_{yy}(x,y) &= \\frac{1}{k^2}(u_{i,j+1}-2u_{i,j}+u_{i,j-1})\n",
    "\\end{align*}\n",
    "\n",
    "We also have the backward equations, (used for time) where we can take $y=t$\n",
    "\n"
   ]
  },
  {
   "cell_type": "markdown",
   "metadata": {},
   "source": [
    "### Example 1 Dirichlet Laplace with extra bit"
   ]
  },
  {
   "cell_type": "markdown",
   "metadata": {},
   "source": [
    "> \\begin{align*}\n",
    "  PDE \\text{  } & u_{xx} + u_{yy} + \\alpha u = 0, 0<x<1, 0<y<1\\\\\n",
    "\\ BC \\text{  }&  sin(y\\pi) \\text{ on the right, $0$ elsewhere}\n",
    "\\end{align*}"
   ]
  },
  {
   "cell_type": "markdown",
   "metadata": {},
   "source": [
    "Set $k=h$, we can deal with the boundary conditions by not changing them each cycle\n",
    "> \\begin{align*}\n",
    "  u_{xx} + u_{yy} + \\alpha u &= 0\\\\\n",
    "\\ \\frac{1}{h^2}(u_{i+1,j}-2u_{i,j}+u_{i-1,j}) + \\frac{1}{h^2}(u_{i,j+1}-2u_{i,j}+u_{i,j-1}) + \\alpha u_{i,j} &= 0\\\\\n",
    "\\ \\frac{1}{h^2}(u_{i+1,j}+u_{i-1,j} +u_{i,j+1}+u_{i,j-1}) &= u_{i,j}(\\frac{4}{h^2}-\\alpha) \\\\\n",
    "\\ \\frac{1}{4-\\alpha h^2}(u_{i+1,j}+u_{i-1,j} +u_{i,j+1}+u_{i,j-1})  &= u_{i,j}\n",
    "\\end{align*}\n",
    "\n",
    "You should calculate for every grid-point before moving to the next grid iteration, but for steady state questions it does not matter.\n",
    "\n",
    "Implement in code"
   ]
  },
  {
   "cell_type": "markdown",
   "metadata": {},
   "source": [
    "##### 2 Grid/Buffers Method\n",
    "This code method uses two Grids (Which are a form of buffers) takes longer but this method is required for solutions involving time, i.e. the output image is not static. Runs above maths equation on all grid points and outputs the answer for each grid point to the other grid. Then swaps the grids over and repeats."
   ]
  },
  {
   "cell_type": "code",
   "execution_count": 5,
   "metadata": {
    "ExecuteTime": {
     "end_time": "2021-06-30T01:17:40.055507Z",
     "start_time": "2021-06-30T01:17:39.125968Z"
    }
   },
   "outputs": [
    {
     "name": "stdout",
     "output_type": "stream",
     "text": [
      "693\n"
     ]
    }
   ],
   "source": [
    "# x and y start at zero\n",
    "h = 0.05\n",
    "Num = 21\n",
    "alpha = 6\n",
    "Grid = np.zeros([Num, Num])\n",
    "Grid_Old = Grid.copy()\n",
    "\n",
    "\n",
    "# Boundary Conditions\n",
    "sin_bound = np.array([np.sin(j*h*np.pi) for j in range(0, Num)])\n",
    "Grid_Old[:, len(Grid_Old[0])-1] = sin_bound\n",
    "Grid[:, len(Grid[0])-1] = sin_bound\n",
    "\n",
    "\n",
    "def u_(i, j):\n",
    "    return Grid_Old[len(Grid_Old)-j-1][i]\n",
    "\n",
    "\n",
    "def new_u_(i, j):\n",
    "    temp = u_(i+1, j) + u_(i-1, j)+u_(i, j+1)+u_(i, j-1)\n",
    "    return temp/(4-alpha*h**2)\n",
    "\n",
    "\n",
    "def Set_u_(i, j):\n",
    "    Grid[len(Grid)-j-1][i] = new_u_(i, j)\n",
    "\n",
    "\n",
    "# for t in range(20):\n",
    "count = 0\n",
    "while True:\n",
    "\n",
    "    # For each cell not in the boundary\n",
    "    for i in range(1, len(Grid_Old[0])-1):\n",
    "        # Possible to parrelle process. However, for short tasks like this python overhead\n",
    "        for j in range(1, len(Grid_Old)-1):\n",
    "            # would lead to worse performace! (Better option would be to thread)\n",
    "            Set_u_(i, j)\n",
    "\n",
    "    if np.max(np.abs(Grid-Grid_Old)) < 0.00001:\n",
    "        # Steady state has been reached\n",
    "        print(count)\n",
    "        break\n",
    "\n",
    "    # very important to have copy otherwise, it will set by reference to ram\n",
    "    Grid_Old = Grid.copy()\n",
    "    count += 1"
   ]
  },
  {
   "cell_type": "markdown",
   "metadata": {},
   "source": [
    "##### Single Buffer Method\n",
    "This reads and writes to the same grid. A lot faster than double buffer method."
   ]
  },
  {
   "cell_type": "code",
   "execution_count": 6,
   "metadata": {
    "ExecuteTime": {
     "end_time": "2021-06-30T01:17:40.591580Z",
     "start_time": "2021-06-30T01:17:40.057471Z"
    }
   },
   "outputs": [
    {
     "name": "stdout",
     "output_type": "stream",
     "text": [
      "391\n"
     ]
    }
   ],
   "source": [
    "# x and y start at zero\n",
    "h = 0.05\n",
    "Num = 21\n",
    "alpha = 6\n",
    "Grid_S = np.zeros([Num, Num])  # S means single buffer\n",
    "\n",
    "\n",
    "# Boundary Conditions\n",
    "sin_bound = np.array([np.sin(j*h*np.pi) for j in range(0, Num)])\n",
    "Grid_S[:, len(Grid_S[0])-1] = sin_bound\n",
    "\n",
    "\n",
    "def u_(i, j):\n",
    "    return Grid_S[len(Grid_S)-j-1][i]\n",
    "\n",
    "\n",
    "def new_u_(i, j):\n",
    "    temp = u_(i+1, j) + u_(i-1, j)+u_(i, j+1)+u_(i, j-1)\n",
    "    return temp/(4-alpha*h**2)\n",
    "\n",
    "\n",
    "def Set_u_(i, j):\n",
    "    Grid_S[len(Grid_S)-j-1][i] = new_u_(i, j)\n",
    "\n",
    "\n",
    "# for t in range(20):\n",
    "count = 0\n",
    "while True:\n",
    "\n",
    "    # For each cell not in the boundary\n",
    "    for i in range(1, len(Grid_S[0])-1):\n",
    "        # Possible to parrelle process as race errors here don't matter\n",
    "        for j in range(1, len(Grid_S)-1):\n",
    "            Set_u_(i, j)\n",
    "\n",
    "    if np.max(np.abs(Grid_S-Grid_Old)) < 0.00001:\n",
    "        # Steady state has been reached\n",
    "        print(count)\n",
    "        break\n",
    "\n",
    "    # very important to have copy otherwise, it will set by reference to ram\n",
    "    Grid_Old = Grid_S.copy()\n",
    "    count += 1  # This part is double buffer but this is for checking that we have reached steady state,\n",
    "    # We are still reading from and to the same grid, to make true single buffer, when writing to a grid point\n",
    "    # Compare to the value that is about to be overwritten if not similar return False to indicate to the loop another\n",
    "    # interation is needed."
   ]
  },
  {
   "cell_type": "code",
   "execution_count": 7,
   "metadata": {
    "ExecuteTime": {
     "end_time": "2021-06-30T01:17:40.606589Z",
     "start_time": "2021-06-30T01:17:40.593544Z"
    }
   },
   "outputs": [],
   "source": [
    "# Check same answer\n",
    "# But why is the difference so high?\n",
    "assert np.max(np.abs(Grid_S-Grid)) < 0.001"
   ]
  },
  {
   "cell_type": "code",
   "execution_count": 8,
   "metadata": {
    "ExecuteTime": {
     "end_time": "2021-06-30T01:17:40.622578Z",
     "start_time": "2021-06-30T01:17:40.608583Z"
    }
   },
   "outputs": [
    {
     "data": {
      "text/plain": [
       "0.000572530556341877"
      ]
     },
     "execution_count": 8,
     "metadata": {},
     "output_type": "execute_result"
    }
   ],
   "source": [
    "np.max(np.abs(Grid_S-Grid))"
   ]
  },
  {
   "cell_type": "code",
   "execution_count": 9,
   "metadata": {
    "ExecuteTime": {
     "end_time": "2021-06-30T01:17:40.638535Z",
     "start_time": "2021-06-30T01:17:40.624540Z"
    }
   },
   "outputs": [],
   "source": [
    "# As can be seen the single buffer method requires many less cycles."
   ]
  },
  {
   "cell_type": "code",
   "execution_count": 10,
   "metadata": {
    "ExecuteTime": {
     "end_time": "2021-06-30T01:17:40.717822Z",
     "start_time": "2021-06-30T01:17:40.639508Z"
    }
   },
   "outputs": [
    {
     "data": {
      "application/vnd.jupyter.widget-view+json": {
       "model_id": "b51400817c034194b2cd85dc61d77c33",
       "version_major": 2,
       "version_minor": 0
      },
      "text/plain": [
       "VBox(children=(Figure(camera=PerspectiveCamera(fov=45.0, position=(0.0, 0.0, 2.0), quaternion=(0.0, 0.0, 0.0, …"
      ]
     },
     "metadata": {},
     "output_type": "display_data"
    }
   ],
   "source": [
    "# Now visulaise the data\n",
    "a = np.arange(0, 1.0001, h)\n",
    "U, V = np.meshgrid(a, a)\n",
    "X = U\n",
    "Y = V\n",
    "Z = Grid\n",
    "\n",
    "ipv.figure()\n",
    "ipv.plot_surface(X, Y, Z, color=\"orange\")\n",
    "ipv.plot_wireframe(X, Y, Z, color=\"red\")\n",
    "ipv.show()"
   ]
  },
  {
   "cell_type": "markdown",
   "metadata": {},
   "source": [
    "$\\alpha = 3$, Num $=21$, $h=0.05$ a picture in-case ipyvolume is not installed\n",
    "\n",
    "![title](Finite_DifferenceExample1Solution.png)"
   ]
  },
  {
   "cell_type": "markdown",
   "metadata": {},
   "source": [
    "### Example 2 Neumann Laplace with extra bit"
   ]
  },
  {
   "cell_type": "markdown",
   "metadata": {},
   "source": [
    "> \\begin{align*}\n",
    "  PDE \\text{  } & u_{xx} + u_{yy} + \\alpha u = 0, 0<x<1, 0<y<1\\\\\n",
    "\\ BC \\text{  }&  \\frac{\\partial u}{\\partial x}(1,y)=1 \\text{ on the right, $0$ elsewhere}\n",
    "\\end{align*}"
   ]
  },
  {
   "cell_type": "markdown",
   "metadata": {},
   "source": [
    "We must find equation for boundary, as anything outside the boundary is unknown. This is done by taking the backwards difference formula. (We take this one as we only have information behind x ie (x<1))\n",
    "\n",
    "> \\begin{align*}\n",
    "  u_x(x,y) &= \\frac{1}{h}(u(x,y)-u(x-h,y))\\\\\n",
    "\\ u_x(x,y) &= \\frac{1}{h}(u_{i,j} - u_{i-1,j})\\\\\n",
    "\\ 1 = u_x(1,y) &= \\frac{1}{h}(u_{n,j} - u_{n-1,j})\\\\\n",
    "\\ u_{n,j} &= u_{n-1,j} + h\n",
    "\\end{align*}\n"
   ]
  },
  {
   "cell_type": "code",
   "execution_count": 11,
   "metadata": {
    "ExecuteTime": {
     "end_time": "2021-06-30T01:17:43.414842Z",
     "start_time": "2021-06-30T01:17:40.718821Z"
    }
   },
   "outputs": [
    {
     "name": "stdout",
     "output_type": "stream",
     "text": [
      "1912\n"
     ]
    }
   ],
   "source": [
    "# x and y start at zero\n",
    "h = 0.05\n",
    "Num = 21\n",
    "alpha = 10\n",
    "Grid_S = np.zeros([Num, Num])  # S means single buffer\n",
    "\n",
    "\n",
    "# Boundary Conditions\n",
    "sin_bound = np.array([np.sin(j*h*np.pi) for j in range(0, Num)])\n",
    "Grid_S[:, len(Grid_S[0])-1] = sin_bound\n",
    "\n",
    "\n",
    "def u_(i, j):\n",
    "    return Grid_S[len(Grid_S)-j-1][i]\n",
    "\n",
    "\n",
    "def new_u_(i, j):\n",
    "    temp = u_(i+1, j) + u_(i-1, j)+u_(i, j+1)+u_(i, j-1)\n",
    "    return temp/(4-alpha*h**2)\n",
    "\n",
    "\n",
    "def Set_u_(i, j):\n",
    "    Grid_S[len(Grid_S)-j-1][i] = new_u_(i, j)\n",
    "\n",
    "\n",
    "def new_u_b(n, j):\n",
    "    # i is fixxed to n\n",
    "    return u_(n-1, j) + h\n",
    "\n",
    "\n",
    "def Set_u_b(n, j):  # b for bound\n",
    "    Grid_S[len(Grid_S)-j-1][n] = new_u_b(n, j)\n",
    "\n",
    "\n",
    "# for t in range(20):\n",
    "count = 0\n",
    "while True:\n",
    "\n",
    "    # For each cell not in the boundary\n",
    "    for i in range(1, len(Grid_S[0])-1):\n",
    "        # Possible to parrelle process as race errors here don't matter\n",
    "        for j in range(1, len(Grid_S)-1):\n",
    "            Set_u_(i, j)\n",
    "\n",
    "    # For each cell in neumann boundary\n",
    "    i = len(Grid_S[0])-1  # i=n\n",
    "    for j in range(1, len(Grid_S)-1):\n",
    "        Set_u_b(i, j)\n",
    "\n",
    "    if np.max(np.abs(Grid_S-Grid_Old)) < 0.00001:\n",
    "        # Steady state has been reached\n",
    "        print(count)\n",
    "        break\n",
    "\n",
    "    # very important to have copy otherwise, it will set by reference to ram\n",
    "    Grid_Old = Grid_S.copy()\n",
    "    count += 1  # This part is double buffer but this is for checking that we have reached steady state,\n",
    "    # We are still reading from and to the same grid, to make true single buffer, when writing to a grid point\n",
    "    # Compare to the value that is about to be overwritten if not similar return False to indicate to the loop another\n",
    "    # interation is needed."
   ]
  },
  {
   "cell_type": "code",
   "execution_count": 12,
   "metadata": {
    "ExecuteTime": {
     "end_time": "2021-06-30T01:17:43.476415Z",
     "start_time": "2021-06-30T01:17:43.415849Z"
    }
   },
   "outputs": [
    {
     "data": {
      "application/vnd.jupyter.widget-view+json": {
       "model_id": "77fe8138244d4ca49cf72ff9b3381c77",
       "version_major": 2,
       "version_minor": 0
      },
      "text/plain": [
       "VBox(children=(Figure(camera=PerspectiveCamera(fov=45.0, position=(0.0, 0.0, 2.0), quaternion=(0.0, 0.0, 0.0, …"
      ]
     },
     "metadata": {},
     "output_type": "display_data"
    }
   ],
   "source": [
    "# Now visulaise the data\n",
    "a = np.arange(0, 1.0001, h)\n",
    "U, V = np.meshgrid(a, a)\n",
    "X = U\n",
    "Y = V\n",
    "Z = Grid_S\n",
    "\n",
    "ipv.figure()\n",
    "ipv.plot_surface(X, Y, Z, color=\"orange\")\n",
    "ipv.plot_wireframe(X, Y, Z, color=\"red\")\n",
    "ipv.show()"
   ]
  },
  {
   "cell_type": "markdown",
   "metadata": {},
   "source": [
    "### Coupled PDE"
   ]
  },
  {
   "cell_type": "markdown",
   "metadata": {},
   "source": [
    "### Method\n",
    "We will use a segregation method, IDEA is we solve the PDE for $\\phi_1$ while keeping the other $\\phi$'s frozen. Then we solve the next PDE. Once solved all the PDE's we start again with are up to date frozen $\\phi$'s. This keeps on repeating untill there is convergence. Here is a picture demonstrating this idea.\n",
    "\n",
    "![title](SegregatedSolutionPic.PNG)\n",
    "\n",
    "There are two main strategies,\n",
    "\n",
    "##### Strategy 1\n",
    "Do a fixed number of iterations for each PDE. (We will use this method)\n",
    "\n",
    "##### Strategy 2\n",
    "Keep iterating each PDE until it converges\n",
    "\n"
   ]
  },
  {
   "cell_type": "markdown",
   "metadata": {},
   "source": [
    "### Example Coupled Laplace Equation\n",
    "\n",
    "> \\begin{align*}\n",
    "  PDE \\text{  } & u_{xx} + u_{yy} + \\alpha g = 0, 0<x<1, 0<y<1\\\\\n",
    "\\ BC \\text{  }&  \\frac{\\partial u}{\\partial x}(1,y)=1 \\text{ on the right, $0$ elsewhere}\n",
    "\\end{align*}\n",
    "\n",
    "> \\begin{align*}\n",
    "  PDE \\text{  } & g_{xx} + g_{yy} + \\alpha u = 0, 0<x<1, 0<y<1\\\\\n",
    "\\ BC \\text{  }&  sin(y\\pi) \\text{ on the right, $0$ elsewhere}\n",
    "\\end{align*}"
   ]
  },
  {
   "cell_type": "markdown",
   "metadata": {},
   "source": [
    "We first find the finite difference method version taking $\\delta x = \\delta y = h$\n",
    "\n",
    "> \\begin{align*}\n",
    "  u_{i,j} &= \\frac{1}{4}(u_{i+1,j}+u_{i-1,j} +u_{i,j+1}+u_{i,j-1})+\\frac{1}{4}\\alpha g_{i,j}h^2\\\\\n",
    "\\ g_{i,j} &= \\frac{1}{4}(g_{i+1,j}+g_{i-1,j} +g_{i,j+1}+g_{i,j-1})+\\frac{1}{4}\\alpha u_{i,j}h^2\\\\\n",
    "\\end{align*}\n",
    "\n",
    "And Know the boundary conditions\n",
    "\n",
    "> \\begin{align*}\n",
    "  u_{n,j} &= sin(\\frac{j\\pi}{n})\\\\\n",
    "\\ g_{n,j} &= g_{n-1,j} + h\\\\\n",
    "\\end{align*}\n"
   ]
  },
  {
   "cell_type": "code",
   "execution_count": null,
   "metadata": {
    "ExecuteTime": {
     "end_time": "2021-06-25T00:19:16.714539Z",
     "start_time": "2021-06-25T00:19:16.687535Z"
    }
   },
   "outputs": [],
   "source": []
  },
  {
   "cell_type": "code",
   "execution_count": 13,
   "metadata": {
    "ExecuteTime": {
     "end_time": "2021-06-30T01:17:43.523326Z",
     "start_time": "2021-06-30T01:17:43.478413Z"
    }
   },
   "outputs": [],
   "source": [
    "h = 0.05\n",
    "Num = 21\n",
    "alpha = 6\n",
    "\n",
    "Grid_u = np.zeros([Num, Num])\n",
    "Grid_g = np.zeros([Num, Num])\n",
    "\n",
    "# Boundary Conditions\n",
    "sin_bound = np.array([np.sin(j*h*np.pi) for j in range(0, Num)])\n",
    "Grid_u[:, len(Grid_u[0])-1] = sin_bound\n",
    "\n",
    "Grid_g = GridS(Grid_g)\n",
    "Grid_u = GridS(Grid_u)\n",
    "u_ = Grid_u.u_\n",
    "g_ = Grid_g.u_\n",
    "\n",
    "# Solve PDE u, with frozen g\n",
    "\n",
    "\n",
    "def new_u_(i, j):\n",
    "    temp = u_(i+1, j) + u_(i-1, j)+u_(i, j+1)+u_(i, j-1)\n",
    "    temp *= 1/4\n",
    "    temp += (1/4)*(alpha*g_(i, j)*h**2)\n",
    "    return temp\n",
    "\n",
    "\n",
    "def solve_u():\n",
    "\n",
    "    for t in range(5):\n",
    "        # Only update non boundary conditions\n",
    "        for i in range(1, len(Grid_u.Grid[0])-1):\n",
    "            for j in range(1, len(Grid_u.Grid)-1):\n",
    "                Grid_u.Set_u_(i, j, new_u_(i, j))\n",
    "\n",
    "\n",
    "# Solve PDE g, with frozen u\n",
    "def new_g_(i, j):\n",
    "    temp = g_(i+1, j) + g_(i-1, j)+g_(i, j+1)+g_(i, j-1)\n",
    "    temp *= 1/4\n",
    "    temp += (1/4)*(alpha*u_(i, j)*h**2)\n",
    "    return temp\n",
    "\n",
    "\n",
    "def new_g_b(n, j):\n",
    "    # i is fixxed to n\n",
    "    return g_(n-1, j) + h\n",
    "\n",
    "\n",
    "def solve_g():\n",
    "    for t in range(5):\n",
    "        # Only update non boundary conditions\n",
    "        for i in range(1, len(Grid_g.Grid[0])-1):\n",
    "            # Possible to parrelle process as race errors here don't matter\n",
    "            for j in range(1, len(Grid_g.Grid)-1):\n",
    "                Grid_g.Set_u_(i, j, new_g_(i, j))\n",
    "\n",
    "        # For each cell in neumann boundary\n",
    "        i = len(Grid_g.Grid[0])-1  # i=n\n",
    "        for j in range(1, len(Grid_g.Grid)-1):\n",
    "            Grid_g.Set_u_(i, j, new_g_b(i, j))"
   ]
  },
  {
   "cell_type": "code",
   "execution_count": 14,
   "metadata": {
    "ExecuteTime": {
     "end_time": "2021-06-30T01:17:46.120507Z",
     "start_time": "2021-06-30T01:17:43.525288Z"
    }
   },
   "outputs": [
    {
     "name": "stdout",
     "output_type": "stream",
     "text": [
      "139\n"
     ]
    }
   ],
   "source": [
    "# Now solve both\n",
    "Grid_g_old = Grid_g.Grid.copy()\n",
    "Grid_u_old = Grid_u.Grid.copy()\n",
    "count = 0\n",
    "while True:\n",
    "    solve_u()\n",
    "    solve_g()\n",
    "    count += 1\n",
    "    g_max = np.max(np.abs(Grid_g_old-Grid_g.Grid))\n",
    "    u_max = np.max(np.abs(Grid_u_old-Grid_u.Grid))\n",
    "\n",
    "    if (g_max < 0.00001) and (u_max < 0.00001):\n",
    "        print(count)\n",
    "        break\n",
    "\n",
    "    Grid_g_old = Grid_g.Grid.copy()\n",
    "    Grid_u_old = Grid_u.Grid.copy()"
   ]
  },
  {
   "cell_type": "code",
   "execution_count": 15,
   "metadata": {
    "ExecuteTime": {
     "end_time": "2021-06-30T01:17:46.198302Z",
     "start_time": "2021-06-30T01:17:46.122473Z"
    }
   },
   "outputs": [
    {
     "data": {
      "application/vnd.jupyter.widget-view+json": {
       "model_id": "9f413f349ac24aeb92b190e320de5f5d",
       "version_major": 2,
       "version_minor": 0
      },
      "text/plain": [
       "VBox(children=(Figure(camera=PerspectiveCamera(fov=45.0, position=(0.0, 0.0, 2.0), quaternion=(0.0, 0.0, 0.0, …"
      ]
     },
     "metadata": {},
     "output_type": "display_data"
    }
   ],
   "source": [
    "# Now visulaise the data\n",
    "Grid_g.Plot(1, h)"
   ]
  },
  {
   "cell_type": "code",
   "execution_count": 16,
   "metadata": {
    "ExecuteTime": {
     "end_time": "2021-06-30T01:17:46.308025Z",
     "start_time": "2021-06-30T01:17:46.200297Z"
    }
   },
   "outputs": [
    {
     "data": {
      "application/vnd.jupyter.widget-view+json": {
       "model_id": "d310b77a2df14ca493e5856d309cf9b4",
       "version_major": 2,
       "version_minor": 0
      },
      "text/plain": [
       "VBox(children=(Figure(camera=PerspectiveCamera(fov=45.0, position=(0.0, 0.0, 2.0), quaternion=(0.0, 0.0, 0.0, …"
      ]
     },
     "metadata": {},
     "output_type": "display_data"
    }
   ],
   "source": [
    "Grid_u.Plot(1, h)"
   ]
  },
  {
   "cell_type": "markdown",
   "metadata": {},
   "source": [
    "#### Check \n",
    "The best way to check these numerical solutions is to solve them analytically for the simple cases."
   ]
  },
  {
   "cell_type": "markdown",
   "metadata": {},
   "source": [
    "## Time Dependence\n",
    "The key idea here is, we cannot access data from the future, but we need to find that data. So time part must be a forward difference equation. We could also use a central \n",
    "\n",
    "We will also use a different form of notation (N,E,S,W,O) for (North, East, South, West, Origin). Which other people sometimes use. Also, we note the step size in t must be much smaller than dx(h), dy(h)."
   ]
  },
  {
   "cell_type": "markdown",
   "metadata": {},
   "source": [
    "### Example 1D Heat Equation"
   ]
  },
  {
   "cell_type": "markdown",
   "metadata": {},
   "source": [
    "> \\begin{align*}\n",
    "  PDE \\text{  } & u_{t} = Du_{xx}, 0<x<1, 0<t<\\inf\\\\\n",
    "\\ BC \\text{  }&  u(0,t)=0\\\\\n",
    "\\ BC \\text{  }& u(1,t)=cos(t)\\\\\n",
    "\\ IC \\text{  }& u(x,0) = x\n",
    "\\end{align*}\n",
    "\n",
    "We have the analytic solution is, (by eigen function expansion)($\\zeta = Dn^2\\pi^2$)\n",
    "\n",
    "> $u(x,t) = xCos(t) - \\sum_{n=1}^{\\inf}\\frac{2(-1)^n}{\\pi n(1+\\zeta^2)}[\\zeta sin(t) - cos(t) + e^{-\\zeta t}]sin(n \\pi x)$\n",
    "\n",
    "The derivation of the can be found in Q2 of the PDF \"APDE2 Math Cafe Questions Week6.pdf\"\n",
    "\n",
    "We have the difference equations\n",
    "\n",
    "> \\begin{align*}\n",
    "  u_{xx}(x,t) &= \\frac{1}{h^2}[u_E - 2u_O + u_W]\\\\\n",
    "\\ u_t(x,t) &= \\frac{1}{\\delta t}[u_N-u_O]\\\\\n",
    "\\end{align*}\n",
    "\n",
    "Merging these equations\n",
    "\n",
    "> $u_N = u_O + \\frac{\\delta t D}{h^2}[u_E-2u_O+u_W]$"
   ]
  },
  {
   "cell_type": "code",
   "execution_count": 7,
   "metadata": {
    "ExecuteTime": {
     "end_time": "2021-07-13T12:41:06.463067Z",
     "start_time": "2021-07-13T12:41:05.365277Z"
    }
   },
   "outputs": [],
   "source": [
    "D = 0.025\n",
    "h = 0.05\n",
    "dt = 0.001\n",
    "Num_x = int(1/h) + 1\n",
    "t_f = 15\n",
    "Num_t = int(t_f/dt) + 1\n",
    "Grid = np.zeros([Num_t, Num_x])\n",
    "\n",
    "# IC,\n",
    "IC_bound = np.array([j*h for j in range(0, Num_x)])\n",
    "Grid[len(Grid)-1] = IC_bound\n",
    "\n",
    "# Boundary conditions\n",
    "cos_bound = np.array([np.cos(j*dt) for j in range(Num_t-1, 0-1, -1)])\n",
    "Grid[:, len(Grid[0])-1] = cos_bound\n",
    "Grid = GridS(Grid)\n",
    "u_ = Grid.u_\n",
    "\n",
    "\n",
    "def new_u_(i, j):\n",
    "    temp = u_(i+1, j-1) - 2*u_(i, j-1) + u_(i-1, j-1)\n",
    "    temp *= dt*D/h**2\n",
    "    return temp + u_(i, j-1)\n",
    "\n",
    "\n",
    "for j in range(1, Num_t):\n",
    "    t = j*dt\n",
    "    # Run over non boundary points\n",
    "    for i in range(1, Num_x-1):\n",
    "        Grid.Set_u_(i, j, new_u_(i, j))\n",
    "    # print(Grid.Grid[len(Grid.Grid)-j-1])"
   ]
  },
  {
   "cell_type": "code",
   "execution_count": 8,
   "metadata": {
    "ExecuteTime": {
     "end_time": "2021-07-13T12:41:06.790258Z",
     "start_time": "2021-07-13T12:41:06.674033Z"
    }
   },
   "outputs": [
    {
     "data": {
      "application/vnd.jupyter.widget-view+json": {
       "model_id": "aedae8dcd66e4748af1790cca3d5f113",
       "version_major": 2,
       "version_minor": 0
      },
      "text/plain": [
       "VBox(children=(Figure(camera=PerspectiveCamera(fov=45.0, position=(0.0, 0.0, 2.0), quaternion=(0.0, 0.0, 0.0, …"
      ]
     },
     "metadata": {},
     "output_type": "display_data"
    }
   ],
   "source": [
    "a = np.arange(0.0, 1.0+0.00001, h)\n",
    "b = np.arange(0.0, t_f+0.00001, dt)\n",
    "U, V = np.meshgrid(a, b)\n",
    "X = U\n",
    "Y = V  # The y-axis is the wrong way around\n",
    "Z = Grid.Grid\n",
    "\n",
    "ipv.figure()\n",
    "ipv.plot_surface(X, Y, Z, color=\"orange\")\n",
    "#ipv.plot_wireframe(X, Y, Z, color=\"red\")\n",
    "ipv.show()"
   ]
  },
  {
   "cell_type": "code",
   "execution_count": null,
   "metadata": {},
   "outputs": [],
   "source": []
  },
  {
   "cell_type": "code",
   "execution_count": 9,
   "metadata": {
    "ExecuteTime": {
     "end_time": "2021-07-13T12:41:13.424400Z",
     "start_time": "2021-07-13T12:41:13.200982Z"
    }
   },
   "outputs": [
    {
     "data": {
      "application/javascript": [
       "/* Put everything inside the global mpl namespace */\n",
       "window.mpl = {};\n",
       "\n",
       "\n",
       "mpl.get_websocket_type = function() {\n",
       "    if (typeof(WebSocket) !== 'undefined') {\n",
       "        return WebSocket;\n",
       "    } else if (typeof(MozWebSocket) !== 'undefined') {\n",
       "        return MozWebSocket;\n",
       "    } else {\n",
       "        alert('Your browser does not have WebSocket support. ' +\n",
       "              'Please try Chrome, Safari or Firefox ≥ 6. ' +\n",
       "              'Firefox 4 and 5 are also supported but you ' +\n",
       "              'have to enable WebSockets in about:config.');\n",
       "    };\n",
       "}\n",
       "\n",
       "mpl.figure = function(figure_id, websocket, ondownload, parent_element) {\n",
       "    this.id = figure_id;\n",
       "\n",
       "    this.ws = websocket;\n",
       "\n",
       "    this.supports_binary = (this.ws.binaryType != undefined);\n",
       "\n",
       "    if (!this.supports_binary) {\n",
       "        var warnings = document.getElementById(\"mpl-warnings\");\n",
       "        if (warnings) {\n",
       "            warnings.style.display = 'block';\n",
       "            warnings.textContent = (\n",
       "                \"This browser does not support binary websocket messages. \" +\n",
       "                    \"Performance may be slow.\");\n",
       "        }\n",
       "    }\n",
       "\n",
       "    this.imageObj = new Image();\n",
       "\n",
       "    this.context = undefined;\n",
       "    this.message = undefined;\n",
       "    this.canvas = undefined;\n",
       "    this.rubberband_canvas = undefined;\n",
       "    this.rubberband_context = undefined;\n",
       "    this.format_dropdown = undefined;\n",
       "\n",
       "    this.image_mode = 'full';\n",
       "\n",
       "    this.root = $('<div/>');\n",
       "    this._root_extra_style(this.root)\n",
       "    this.root.attr('style', 'display: inline-block');\n",
       "\n",
       "    $(parent_element).append(this.root);\n",
       "\n",
       "    this._init_header(this);\n",
       "    this._init_canvas(this);\n",
       "    this._init_toolbar(this);\n",
       "\n",
       "    var fig = this;\n",
       "\n",
       "    this.waiting = false;\n",
       "\n",
       "    this.ws.onopen =  function () {\n",
       "            fig.send_message(\"supports_binary\", {value: fig.supports_binary});\n",
       "            fig.send_message(\"send_image_mode\", {});\n",
       "            if (mpl.ratio != 1) {\n",
       "                fig.send_message(\"set_dpi_ratio\", {'dpi_ratio': mpl.ratio});\n",
       "            }\n",
       "            fig.send_message(\"refresh\", {});\n",
       "        }\n",
       "\n",
       "    this.imageObj.onload = function() {\n",
       "            if (fig.image_mode == 'full') {\n",
       "                // Full images could contain transparency (where diff images\n",
       "                // almost always do), so we need to clear the canvas so that\n",
       "                // there is no ghosting.\n",
       "                fig.context.clearRect(0, 0, fig.canvas.width, fig.canvas.height);\n",
       "            }\n",
       "            fig.context.drawImage(fig.imageObj, 0, 0);\n",
       "        };\n",
       "\n",
       "    this.imageObj.onunload = function() {\n",
       "        fig.ws.close();\n",
       "    }\n",
       "\n",
       "    this.ws.onmessage = this._make_on_message_function(this);\n",
       "\n",
       "    this.ondownload = ondownload;\n",
       "}\n",
       "\n",
       "mpl.figure.prototype._init_header = function() {\n",
       "    var titlebar = $(\n",
       "        '<div class=\"ui-dialog-titlebar ui-widget-header ui-corner-all ' +\n",
       "        'ui-helper-clearfix\"/>');\n",
       "    var titletext = $(\n",
       "        '<div class=\"ui-dialog-title\" style=\"width: 100%; ' +\n",
       "        'text-align: center; padding: 3px;\"/>');\n",
       "    titlebar.append(titletext)\n",
       "    this.root.append(titlebar);\n",
       "    this.header = titletext[0];\n",
       "}\n",
       "\n",
       "\n",
       "\n",
       "mpl.figure.prototype._canvas_extra_style = function(canvas_div) {\n",
       "\n",
       "}\n",
       "\n",
       "\n",
       "mpl.figure.prototype._root_extra_style = function(canvas_div) {\n",
       "\n",
       "}\n",
       "\n",
       "mpl.figure.prototype._init_canvas = function() {\n",
       "    var fig = this;\n",
       "\n",
       "    var canvas_div = $('<div/>');\n",
       "\n",
       "    canvas_div.attr('style', 'position: relative; clear: both; outline: 0');\n",
       "\n",
       "    function canvas_keyboard_event(event) {\n",
       "        return fig.key_event(event, event['data']);\n",
       "    }\n",
       "\n",
       "    canvas_div.keydown('key_press', canvas_keyboard_event);\n",
       "    canvas_div.keyup('key_release', canvas_keyboard_event);\n",
       "    this.canvas_div = canvas_div\n",
       "    this._canvas_extra_style(canvas_div)\n",
       "    this.root.append(canvas_div);\n",
       "\n",
       "    var canvas = $('<canvas/>');\n",
       "    canvas.addClass('mpl-canvas');\n",
       "    canvas.attr('style', \"left: 0; top: 0; z-index: 0; outline: 0\")\n",
       "\n",
       "    this.canvas = canvas[0];\n",
       "    this.context = canvas[0].getContext(\"2d\");\n",
       "\n",
       "    var backingStore = this.context.backingStorePixelRatio ||\n",
       "\tthis.context.webkitBackingStorePixelRatio ||\n",
       "\tthis.context.mozBackingStorePixelRatio ||\n",
       "\tthis.context.msBackingStorePixelRatio ||\n",
       "\tthis.context.oBackingStorePixelRatio ||\n",
       "\tthis.context.backingStorePixelRatio || 1;\n",
       "\n",
       "    mpl.ratio = (window.devicePixelRatio || 1) / backingStore;\n",
       "\n",
       "    var rubberband = $('<canvas/>');\n",
       "    rubberband.attr('style', \"position: absolute; left: 0; top: 0; z-index: 1;\")\n",
       "\n",
       "    var pass_mouse_events = true;\n",
       "\n",
       "    canvas_div.resizable({\n",
       "        start: function(event, ui) {\n",
       "            pass_mouse_events = false;\n",
       "        },\n",
       "        resize: function(event, ui) {\n",
       "            fig.request_resize(ui.size.width, ui.size.height);\n",
       "        },\n",
       "        stop: function(event, ui) {\n",
       "            pass_mouse_events = true;\n",
       "            fig.request_resize(ui.size.width, ui.size.height);\n",
       "        },\n",
       "    });\n",
       "\n",
       "    function mouse_event_fn(event) {\n",
       "        if (pass_mouse_events)\n",
       "            return fig.mouse_event(event, event['data']);\n",
       "    }\n",
       "\n",
       "    rubberband.mousedown('button_press', mouse_event_fn);\n",
       "    rubberband.mouseup('button_release', mouse_event_fn);\n",
       "    // Throttle sequential mouse events to 1 every 20ms.\n",
       "    rubberband.mousemove('motion_notify', mouse_event_fn);\n",
       "\n",
       "    rubberband.mouseenter('figure_enter', mouse_event_fn);\n",
       "    rubberband.mouseleave('figure_leave', mouse_event_fn);\n",
       "\n",
       "    canvas_div.on(\"wheel\", function (event) {\n",
       "        event = event.originalEvent;\n",
       "        event['data'] = 'scroll'\n",
       "        if (event.deltaY < 0) {\n",
       "            event.step = 1;\n",
       "        } else {\n",
       "            event.step = -1;\n",
       "        }\n",
       "        mouse_event_fn(event);\n",
       "    });\n",
       "\n",
       "    canvas_div.append(canvas);\n",
       "    canvas_div.append(rubberband);\n",
       "\n",
       "    this.rubberband = rubberband;\n",
       "    this.rubberband_canvas = rubberband[0];\n",
       "    this.rubberband_context = rubberband[0].getContext(\"2d\");\n",
       "    this.rubberband_context.strokeStyle = \"#000000\";\n",
       "\n",
       "    this._resize_canvas = function(width, height) {\n",
       "        // Keep the size of the canvas, canvas container, and rubber band\n",
       "        // canvas in synch.\n",
       "        canvas_div.css('width', width)\n",
       "        canvas_div.css('height', height)\n",
       "\n",
       "        canvas.attr('width', width * mpl.ratio);\n",
       "        canvas.attr('height', height * mpl.ratio);\n",
       "        canvas.attr('style', 'width: ' + width + 'px; height: ' + height + 'px;');\n",
       "\n",
       "        rubberband.attr('width', width);\n",
       "        rubberband.attr('height', height);\n",
       "    }\n",
       "\n",
       "    // Set the figure to an initial 600x600px, this will subsequently be updated\n",
       "    // upon first draw.\n",
       "    this._resize_canvas(600, 600);\n",
       "\n",
       "    // Disable right mouse context menu.\n",
       "    $(this.rubberband_canvas).bind(\"contextmenu\",function(e){\n",
       "        return false;\n",
       "    });\n",
       "\n",
       "    function set_focus () {\n",
       "        canvas.focus();\n",
       "        canvas_div.focus();\n",
       "    }\n",
       "\n",
       "    window.setTimeout(set_focus, 100);\n",
       "}\n",
       "\n",
       "mpl.figure.prototype._init_toolbar = function() {\n",
       "    var fig = this;\n",
       "\n",
       "    var nav_element = $('<div/>');\n",
       "    nav_element.attr('style', 'width: 100%');\n",
       "    this.root.append(nav_element);\n",
       "\n",
       "    // Define a callback function for later on.\n",
       "    function toolbar_event(event) {\n",
       "        return fig.toolbar_button_onclick(event['data']);\n",
       "    }\n",
       "    function toolbar_mouse_event(event) {\n",
       "        return fig.toolbar_button_onmouseover(event['data']);\n",
       "    }\n",
       "\n",
       "    for(var toolbar_ind in mpl.toolbar_items) {\n",
       "        var name = mpl.toolbar_items[toolbar_ind][0];\n",
       "        var tooltip = mpl.toolbar_items[toolbar_ind][1];\n",
       "        var image = mpl.toolbar_items[toolbar_ind][2];\n",
       "        var method_name = mpl.toolbar_items[toolbar_ind][3];\n",
       "\n",
       "        if (!name) {\n",
       "            // put a spacer in here.\n",
       "            continue;\n",
       "        }\n",
       "        var button = $('<button/>');\n",
       "        button.addClass('ui-button ui-widget ui-state-default ui-corner-all ' +\n",
       "                        'ui-button-icon-only');\n",
       "        button.attr('role', 'button');\n",
       "        button.attr('aria-disabled', 'false');\n",
       "        button.click(method_name, toolbar_event);\n",
       "        button.mouseover(tooltip, toolbar_mouse_event);\n",
       "\n",
       "        var icon_img = $('<span/>');\n",
       "        icon_img.addClass('ui-button-icon-primary ui-icon');\n",
       "        icon_img.addClass(image);\n",
       "        icon_img.addClass('ui-corner-all');\n",
       "\n",
       "        var tooltip_span = $('<span/>');\n",
       "        tooltip_span.addClass('ui-button-text');\n",
       "        tooltip_span.html(tooltip);\n",
       "\n",
       "        button.append(icon_img);\n",
       "        button.append(tooltip_span);\n",
       "\n",
       "        nav_element.append(button);\n",
       "    }\n",
       "\n",
       "    var fmt_picker_span = $('<span/>');\n",
       "\n",
       "    var fmt_picker = $('<select/>');\n",
       "    fmt_picker.addClass('mpl-toolbar-option ui-widget ui-widget-content');\n",
       "    fmt_picker_span.append(fmt_picker);\n",
       "    nav_element.append(fmt_picker_span);\n",
       "    this.format_dropdown = fmt_picker[0];\n",
       "\n",
       "    for (var ind in mpl.extensions) {\n",
       "        var fmt = mpl.extensions[ind];\n",
       "        var option = $(\n",
       "            '<option/>', {selected: fmt === mpl.default_extension}).html(fmt);\n",
       "        fmt_picker.append(option);\n",
       "    }\n",
       "\n",
       "    // Add hover states to the ui-buttons\n",
       "    $( \".ui-button\" ).hover(\n",
       "        function() { $(this).addClass(\"ui-state-hover\");},\n",
       "        function() { $(this).removeClass(\"ui-state-hover\");}\n",
       "    );\n",
       "\n",
       "    var status_bar = $('<span class=\"mpl-message\"/>');\n",
       "    nav_element.append(status_bar);\n",
       "    this.message = status_bar[0];\n",
       "}\n",
       "\n",
       "mpl.figure.prototype.request_resize = function(x_pixels, y_pixels) {\n",
       "    // Request matplotlib to resize the figure. Matplotlib will then trigger a resize in the client,\n",
       "    // which will in turn request a refresh of the image.\n",
       "    this.send_message('resize', {'width': x_pixels, 'height': y_pixels});\n",
       "}\n",
       "\n",
       "mpl.figure.prototype.send_message = function(type, properties) {\n",
       "    properties['type'] = type;\n",
       "    properties['figure_id'] = this.id;\n",
       "    this.ws.send(JSON.stringify(properties));\n",
       "}\n",
       "\n",
       "mpl.figure.prototype.send_draw_message = function() {\n",
       "    if (!this.waiting) {\n",
       "        this.waiting = true;\n",
       "        this.ws.send(JSON.stringify({type: \"draw\", figure_id: this.id}));\n",
       "    }\n",
       "}\n",
       "\n",
       "\n",
       "mpl.figure.prototype.handle_save = function(fig, msg) {\n",
       "    var format_dropdown = fig.format_dropdown;\n",
       "    var format = format_dropdown.options[format_dropdown.selectedIndex].value;\n",
       "    fig.ondownload(fig, format);\n",
       "}\n",
       "\n",
       "\n",
       "mpl.figure.prototype.handle_resize = function(fig, msg) {\n",
       "    var size = msg['size'];\n",
       "    if (size[0] != fig.canvas.width || size[1] != fig.canvas.height) {\n",
       "        fig._resize_canvas(size[0], size[1]);\n",
       "        fig.send_message(\"refresh\", {});\n",
       "    };\n",
       "}\n",
       "\n",
       "mpl.figure.prototype.handle_rubberband = function(fig, msg) {\n",
       "    var x0 = msg['x0'] / mpl.ratio;\n",
       "    var y0 = (fig.canvas.height - msg['y0']) / mpl.ratio;\n",
       "    var x1 = msg['x1'] / mpl.ratio;\n",
       "    var y1 = (fig.canvas.height - msg['y1']) / mpl.ratio;\n",
       "    x0 = Math.floor(x0) + 0.5;\n",
       "    y0 = Math.floor(y0) + 0.5;\n",
       "    x1 = Math.floor(x1) + 0.5;\n",
       "    y1 = Math.floor(y1) + 0.5;\n",
       "    var min_x = Math.min(x0, x1);\n",
       "    var min_y = Math.min(y0, y1);\n",
       "    var width = Math.abs(x1 - x0);\n",
       "    var height = Math.abs(y1 - y0);\n",
       "\n",
       "    fig.rubberband_context.clearRect(\n",
       "        0, 0, fig.canvas.width / mpl.ratio, fig.canvas.height / mpl.ratio);\n",
       "\n",
       "    fig.rubberband_context.strokeRect(min_x, min_y, width, height);\n",
       "}\n",
       "\n",
       "mpl.figure.prototype.handle_figure_label = function(fig, msg) {\n",
       "    // Updates the figure title.\n",
       "    fig.header.textContent = msg['label'];\n",
       "}\n",
       "\n",
       "mpl.figure.prototype.handle_cursor = function(fig, msg) {\n",
       "    var cursor = msg['cursor'];\n",
       "    switch(cursor)\n",
       "    {\n",
       "    case 0:\n",
       "        cursor = 'pointer';\n",
       "        break;\n",
       "    case 1:\n",
       "        cursor = 'default';\n",
       "        break;\n",
       "    case 2:\n",
       "        cursor = 'crosshair';\n",
       "        break;\n",
       "    case 3:\n",
       "        cursor = 'move';\n",
       "        break;\n",
       "    }\n",
       "    fig.rubberband_canvas.style.cursor = cursor;\n",
       "}\n",
       "\n",
       "mpl.figure.prototype.handle_message = function(fig, msg) {\n",
       "    fig.message.textContent = msg['message'];\n",
       "}\n",
       "\n",
       "mpl.figure.prototype.handle_draw = function(fig, msg) {\n",
       "    // Request the server to send over a new figure.\n",
       "    fig.send_draw_message();\n",
       "}\n",
       "\n",
       "mpl.figure.prototype.handle_image_mode = function(fig, msg) {\n",
       "    fig.image_mode = msg['mode'];\n",
       "}\n",
       "\n",
       "mpl.figure.prototype.updated_canvas_event = function() {\n",
       "    // Called whenever the canvas gets updated.\n",
       "    this.send_message(\"ack\", {});\n",
       "}\n",
       "\n",
       "// A function to construct a web socket function for onmessage handling.\n",
       "// Called in the figure constructor.\n",
       "mpl.figure.prototype._make_on_message_function = function(fig) {\n",
       "    return function socket_on_message(evt) {\n",
       "        if (evt.data instanceof Blob) {\n",
       "            /* FIXME: We get \"Resource interpreted as Image but\n",
       "             * transferred with MIME type text/plain:\" errors on\n",
       "             * Chrome.  But how to set the MIME type?  It doesn't seem\n",
       "             * to be part of the websocket stream */\n",
       "            evt.data.type = \"image/png\";\n",
       "\n",
       "            /* Free the memory for the previous frames */\n",
       "            if (fig.imageObj.src) {\n",
       "                (window.URL || window.webkitURL).revokeObjectURL(\n",
       "                    fig.imageObj.src);\n",
       "            }\n",
       "\n",
       "            fig.imageObj.src = (window.URL || window.webkitURL).createObjectURL(\n",
       "                evt.data);\n",
       "            fig.updated_canvas_event();\n",
       "            fig.waiting = false;\n",
       "            return;\n",
       "        }\n",
       "        else if (typeof evt.data === 'string' && evt.data.slice(0, 21) == \"data:image/png;base64\") {\n",
       "            fig.imageObj.src = evt.data;\n",
       "            fig.updated_canvas_event();\n",
       "            fig.waiting = false;\n",
       "            return;\n",
       "        }\n",
       "\n",
       "        var msg = JSON.parse(evt.data);\n",
       "        var msg_type = msg['type'];\n",
       "\n",
       "        // Call the  \"handle_{type}\" callback, which takes\n",
       "        // the figure and JSON message as its only arguments.\n",
       "        try {\n",
       "            var callback = fig[\"handle_\" + msg_type];\n",
       "        } catch (e) {\n",
       "            console.log(\"No handler for the '\" + msg_type + \"' message type: \", msg);\n",
       "            return;\n",
       "        }\n",
       "\n",
       "        if (callback) {\n",
       "            try {\n",
       "                // console.log(\"Handling '\" + msg_type + \"' message: \", msg);\n",
       "                callback(fig, msg);\n",
       "            } catch (e) {\n",
       "                console.log(\"Exception inside the 'handler_\" + msg_type + \"' callback:\", e, e.stack, msg);\n",
       "            }\n",
       "        }\n",
       "    };\n",
       "}\n",
       "\n",
       "// from http://stackoverflow.com/questions/1114465/getting-mouse-location-in-canvas\n",
       "mpl.findpos = function(e) {\n",
       "    //this section is from http://www.quirksmode.org/js/events_properties.html\n",
       "    var targ;\n",
       "    if (!e)\n",
       "        e = window.event;\n",
       "    if (e.target)\n",
       "        targ = e.target;\n",
       "    else if (e.srcElement)\n",
       "        targ = e.srcElement;\n",
       "    if (targ.nodeType == 3) // defeat Safari bug\n",
       "        targ = targ.parentNode;\n",
       "\n",
       "    // jQuery normalizes the pageX and pageY\n",
       "    // pageX,Y are the mouse positions relative to the document\n",
       "    // offset() returns the position of the element relative to the document\n",
       "    var x = e.pageX - $(targ).offset().left;\n",
       "    var y = e.pageY - $(targ).offset().top;\n",
       "\n",
       "    return {\"x\": x, \"y\": y};\n",
       "};\n",
       "\n",
       "/*\n",
       " * return a copy of an object with only non-object keys\n",
       " * we need this to avoid circular references\n",
       " * http://stackoverflow.com/a/24161582/3208463\n",
       " */\n",
       "function simpleKeys (original) {\n",
       "  return Object.keys(original).reduce(function (obj, key) {\n",
       "    if (typeof original[key] !== 'object')\n",
       "        obj[key] = original[key]\n",
       "    return obj;\n",
       "  }, {});\n",
       "}\n",
       "\n",
       "mpl.figure.prototype.mouse_event = function(event, name) {\n",
       "    var canvas_pos = mpl.findpos(event)\n",
       "\n",
       "    if (name === 'button_press')\n",
       "    {\n",
       "        this.canvas.focus();\n",
       "        this.canvas_div.focus();\n",
       "    }\n",
       "\n",
       "    var x = canvas_pos.x * mpl.ratio;\n",
       "    var y = canvas_pos.y * mpl.ratio;\n",
       "\n",
       "    this.send_message(name, {x: x, y: y, button: event.button,\n",
       "                             step: event.step,\n",
       "                             guiEvent: simpleKeys(event)});\n",
       "\n",
       "    /* This prevents the web browser from automatically changing to\n",
       "     * the text insertion cursor when the button is pressed.  We want\n",
       "     * to control all of the cursor setting manually through the\n",
       "     * 'cursor' event from matplotlib */\n",
       "    event.preventDefault();\n",
       "    return false;\n",
       "}\n",
       "\n",
       "mpl.figure.prototype._key_event_extra = function(event, name) {\n",
       "    // Handle any extra behaviour associated with a key event\n",
       "}\n",
       "\n",
       "mpl.figure.prototype.key_event = function(event, name) {\n",
       "\n",
       "    // Prevent repeat events\n",
       "    if (name == 'key_press')\n",
       "    {\n",
       "        if (event.which === this._key)\n",
       "            return;\n",
       "        else\n",
       "            this._key = event.which;\n",
       "    }\n",
       "    if (name == 'key_release')\n",
       "        this._key = null;\n",
       "\n",
       "    var value = '';\n",
       "    if (event.ctrlKey && event.which != 17)\n",
       "        value += \"ctrl+\";\n",
       "    if (event.altKey && event.which != 18)\n",
       "        value += \"alt+\";\n",
       "    if (event.shiftKey && event.which != 16)\n",
       "        value += \"shift+\";\n",
       "\n",
       "    value += 'k';\n",
       "    value += event.which.toString();\n",
       "\n",
       "    this._key_event_extra(event, name);\n",
       "\n",
       "    this.send_message(name, {key: value,\n",
       "                             guiEvent: simpleKeys(event)});\n",
       "    return false;\n",
       "}\n",
       "\n",
       "mpl.figure.prototype.toolbar_button_onclick = function(name) {\n",
       "    if (name == 'download') {\n",
       "        this.handle_save(this, null);\n",
       "    } else {\n",
       "        this.send_message(\"toolbar_button\", {name: name});\n",
       "    }\n",
       "};\n",
       "\n",
       "mpl.figure.prototype.toolbar_button_onmouseover = function(tooltip) {\n",
       "    this.message.textContent = tooltip;\n",
       "};\n",
       "mpl.toolbar_items = [[\"Home\", \"Reset original view\", \"fa fa-home icon-home\", \"home\"], [\"Back\", \"Back to previous view\", \"fa fa-arrow-left icon-arrow-left\", \"back\"], [\"Forward\", \"Forward to next view\", \"fa fa-arrow-right icon-arrow-right\", \"forward\"], [\"\", \"\", \"\", \"\"], [\"Pan\", \"Pan axes with left mouse, zoom with right\", \"fa fa-arrows icon-move\", \"pan\"], [\"Zoom\", \"Zoom to rectangle\", \"fa fa-square-o icon-check-empty\", \"zoom\"], [\"\", \"\", \"\", \"\"], [\"Download\", \"Download plot\", \"fa fa-floppy-o icon-save\", \"download\"]];\n",
       "\n",
       "mpl.extensions = [\"eps\", \"jpeg\", \"pdf\", \"png\", \"ps\", \"raw\", \"svg\", \"tif\"];\n",
       "\n",
       "mpl.default_extension = \"png\";var comm_websocket_adapter = function(comm) {\n",
       "    // Create a \"websocket\"-like object which calls the given IPython comm\n",
       "    // object with the appropriate methods. Currently this is a non binary\n",
       "    // socket, so there is still some room for performance tuning.\n",
       "    var ws = {};\n",
       "\n",
       "    ws.close = function() {\n",
       "        comm.close()\n",
       "    };\n",
       "    ws.send = function(m) {\n",
       "        //console.log('sending', m);\n",
       "        comm.send(m);\n",
       "    };\n",
       "    // Register the callback with on_msg.\n",
       "    comm.on_msg(function(msg) {\n",
       "        //console.log('receiving', msg['content']['data'], msg);\n",
       "        // Pass the mpl event to the overridden (by mpl) onmessage function.\n",
       "        ws.onmessage(msg['content']['data'])\n",
       "    });\n",
       "    return ws;\n",
       "}\n",
       "\n",
       "mpl.mpl_figure_comm = function(comm, msg) {\n",
       "    // This is the function which gets called when the mpl process\n",
       "    // starts-up an IPython Comm through the \"matplotlib\" channel.\n",
       "\n",
       "    var id = msg.content.data.id;\n",
       "    // Get hold of the div created by the display call when the Comm\n",
       "    // socket was opened in Python.\n",
       "    var element = $(\"#\" + id);\n",
       "    var ws_proxy = comm_websocket_adapter(comm)\n",
       "\n",
       "    function ondownload(figure, format) {\n",
       "        window.open(figure.imageObj.src);\n",
       "    }\n",
       "\n",
       "    var fig = new mpl.figure(id, ws_proxy,\n",
       "                           ondownload,\n",
       "                           element.get(0));\n",
       "\n",
       "    // Call onopen now - mpl needs it, as it is assuming we've passed it a real\n",
       "    // web socket which is closed, not our websocket->open comm proxy.\n",
       "    ws_proxy.onopen();\n",
       "\n",
       "    fig.parent_element = element.get(0);\n",
       "    fig.cell_info = mpl.find_output_cell(\"<div id='\" + id + \"'></div>\");\n",
       "    if (!fig.cell_info) {\n",
       "        console.error(\"Failed to find cell for figure\", id, fig);\n",
       "        return;\n",
       "    }\n",
       "\n",
       "    var output_index = fig.cell_info[2]\n",
       "    var cell = fig.cell_info[0];\n",
       "\n",
       "};\n",
       "\n",
       "mpl.figure.prototype.handle_close = function(fig, msg) {\n",
       "    var width = fig.canvas.width/mpl.ratio\n",
       "    fig.root.unbind('remove')\n",
       "\n",
       "    // Update the output cell to use the data from the current canvas.\n",
       "    fig.push_to_output();\n",
       "    var dataURL = fig.canvas.toDataURL();\n",
       "    // Re-enable the keyboard manager in IPython - without this line, in FF,\n",
       "    // the notebook keyboard shortcuts fail.\n",
       "    IPython.keyboard_manager.enable()\n",
       "    $(fig.parent_element).html('<img src=\"' + dataURL + '\" width=\"' + width + '\">');\n",
       "    fig.close_ws(fig, msg);\n",
       "}\n",
       "\n",
       "mpl.figure.prototype.close_ws = function(fig, msg){\n",
       "    fig.send_message('closing', msg);\n",
       "    // fig.ws.close()\n",
       "}\n",
       "\n",
       "mpl.figure.prototype.push_to_output = function(remove_interactive) {\n",
       "    // Turn the data on the canvas into data in the output cell.\n",
       "    var width = this.canvas.width/mpl.ratio\n",
       "    var dataURL = this.canvas.toDataURL();\n",
       "    this.cell_info[1]['text/html'] = '<img src=\"' + dataURL + '\" width=\"' + width + '\">';\n",
       "}\n",
       "\n",
       "mpl.figure.prototype.updated_canvas_event = function() {\n",
       "    // Tell IPython that the notebook contents must change.\n",
       "    IPython.notebook.set_dirty(true);\n",
       "    this.send_message(\"ack\", {});\n",
       "    var fig = this;\n",
       "    // Wait a second, then push the new image to the DOM so\n",
       "    // that it is saved nicely (might be nice to debounce this).\n",
       "    setTimeout(function () { fig.push_to_output() }, 1000);\n",
       "}\n",
       "\n",
       "mpl.figure.prototype._init_toolbar = function() {\n",
       "    var fig = this;\n",
       "\n",
       "    var nav_element = $('<div/>');\n",
       "    nav_element.attr('style', 'width: 100%');\n",
       "    this.root.append(nav_element);\n",
       "\n",
       "    // Define a callback function for later on.\n",
       "    function toolbar_event(event) {\n",
       "        return fig.toolbar_button_onclick(event['data']);\n",
       "    }\n",
       "    function toolbar_mouse_event(event) {\n",
       "        return fig.toolbar_button_onmouseover(event['data']);\n",
       "    }\n",
       "\n",
       "    for(var toolbar_ind in mpl.toolbar_items){\n",
       "        var name = mpl.toolbar_items[toolbar_ind][0];\n",
       "        var tooltip = mpl.toolbar_items[toolbar_ind][1];\n",
       "        var image = mpl.toolbar_items[toolbar_ind][2];\n",
       "        var method_name = mpl.toolbar_items[toolbar_ind][3];\n",
       "\n",
       "        if (!name) { continue; };\n",
       "\n",
       "        var button = $('<button class=\"btn btn-default\" href=\"#\" title=\"' + name + '\"><i class=\"fa ' + image + ' fa-lg\"></i></button>');\n",
       "        button.click(method_name, toolbar_event);\n",
       "        button.mouseover(tooltip, toolbar_mouse_event);\n",
       "        nav_element.append(button);\n",
       "    }\n",
       "\n",
       "    // Add the status bar.\n",
       "    var status_bar = $('<span class=\"mpl-message\" style=\"text-align:right; float: right;\"/>');\n",
       "    nav_element.append(status_bar);\n",
       "    this.message = status_bar[0];\n",
       "\n",
       "    // Add the close button to the window.\n",
       "    var buttongrp = $('<div class=\"btn-group inline pull-right\"></div>');\n",
       "    var button = $('<button class=\"btn btn-mini btn-primary\" href=\"#\" title=\"Stop Interaction\"><i class=\"fa fa-power-off icon-remove icon-large\"></i></button>');\n",
       "    button.click(function (evt) { fig.handle_close(fig, {}); } );\n",
       "    button.mouseover('Stop Interaction', toolbar_mouse_event);\n",
       "    buttongrp.append(button);\n",
       "    var titlebar = this.root.find($('.ui-dialog-titlebar'));\n",
       "    titlebar.prepend(buttongrp);\n",
       "}\n",
       "\n",
       "mpl.figure.prototype._root_extra_style = function(el){\n",
       "    var fig = this\n",
       "    el.on(\"remove\", function(){\n",
       "\tfig.close_ws(fig, {});\n",
       "    });\n",
       "}\n",
       "\n",
       "mpl.figure.prototype._canvas_extra_style = function(el){\n",
       "    // this is important to make the div 'focusable\n",
       "    el.attr('tabindex', 0)\n",
       "    // reach out to IPython and tell the keyboard manager to turn it's self\n",
       "    // off when our div gets focus\n",
       "\n",
       "    // location in version 3\n",
       "    if (IPython.notebook.keyboard_manager) {\n",
       "        IPython.notebook.keyboard_manager.register_events(el);\n",
       "    }\n",
       "    else {\n",
       "        // location in version 2\n",
       "        IPython.keyboard_manager.register_events(el);\n",
       "    }\n",
       "\n",
       "}\n",
       "\n",
       "mpl.figure.prototype._key_event_extra = function(event, name) {\n",
       "    var manager = IPython.notebook.keyboard_manager;\n",
       "    if (!manager)\n",
       "        manager = IPython.keyboard_manager;\n",
       "\n",
       "    // Check for shift+enter\n",
       "    if (event.shiftKey && event.which == 13) {\n",
       "        this.canvas_div.blur();\n",
       "        // select the cell after this one\n",
       "        var index = IPython.notebook.find_cell_index(this.cell_info[0]);\n",
       "        IPython.notebook.select(index + 1);\n",
       "    }\n",
       "}\n",
       "\n",
       "mpl.figure.prototype.handle_save = function(fig, msg) {\n",
       "    fig.ondownload(fig, null);\n",
       "}\n",
       "\n",
       "\n",
       "mpl.find_output_cell = function(html_output) {\n",
       "    // Return the cell and output element which can be found *uniquely* in the notebook.\n",
       "    // Note - this is a bit hacky, but it is done because the \"notebook_saving.Notebook\"\n",
       "    // IPython event is triggered only after the cells have been serialised, which for\n",
       "    // our purposes (turning an active figure into a static one), is too late.\n",
       "    var cells = IPython.notebook.get_cells();\n",
       "    var ncells = cells.length;\n",
       "    for (var i=0; i<ncells; i++) {\n",
       "        var cell = cells[i];\n",
       "        if (cell.cell_type === 'code'){\n",
       "            for (var j=0; j<cell.output_area.outputs.length; j++) {\n",
       "                var data = cell.output_area.outputs[j];\n",
       "                if (data.data) {\n",
       "                    // IPython >= 3 moved mimebundle to data attribute of output\n",
       "                    data = data.data;\n",
       "                }\n",
       "                if (data['text/html'] == html_output) {\n",
       "                    return [cell, data, j];\n",
       "                }\n",
       "            }\n",
       "        }\n",
       "    }\n",
       "}\n",
       "\n",
       "// Register the function which deals with the matplotlib target/channel.\n",
       "// The kernel may be null if the page has been refreshed.\n",
       "if (IPython.notebook.kernel != null) {\n",
       "    IPython.notebook.kernel.comm_manager.register_target('matplotlib', mpl.mpl_figure_comm);\n",
       "}\n"
      ],
      "text/plain": [
       "<IPython.core.display.Javascript object>"
      ]
     },
     "metadata": {},
     "output_type": "display_data"
    },
    {
     "data": {
      "text/html": [
       "<img src=\"data:image/png;base64,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\" width=\"640\">"
      ],
      "text/plain": [
       "<IPython.core.display.HTML object>"
      ]
     },
     "metadata": {},
     "output_type": "display_data"
    }
   ],
   "source": [
    "def u(x, t):\n",
    "    # We will nearest neighbor interpolation\n",
    "    temp_a = np.abs(a - x)\n",
    "    min_a = np.min(temp_a)\n",
    "    x_i = np.where(temp_a == min_a)[0][0]\n",
    "\n",
    "    temp_b = np.abs(b-t)\n",
    "    min_b = np.min(temp_b)\n",
    "    t_i = np.where(temp_b == min_b)[0][0]\n",
    "\n",
    "    return Grid.Grid[len(Grid.Grid)-t_i-1][x_i]\n",
    "\n",
    "# Using MatplotLib as visulisation\n",
    "\n",
    "\n",
    "def dataLD(i, y, line):\n",
    "    t = i/20\n",
    "    y = np.array([u(x_i, t) for x_i in x])\n",
    "    ax.clear()\n",
    "    ax.set_ylim(-1.01, 1.01)\n",
    "    ax.set_title('Heat, D = 0.025, t = ' + \"{:.2f}\".format(t))\n",
    "    line = ax.plot(x, y)\n",
    "    ax.set_ylabel('Temperature')\n",
    "    ax.set_xlabel('X-Position')\n",
    "    #fig.colorbar(line, shrink=0.5, aspect=5)\n",
    "    return line,\n",
    "\n",
    "\n",
    "fig = plt.figure()\n",
    "ax = fig.add_subplot(111)\n",
    "ax.set_title('Heat, D = 0.025, t = 0.00')\n",
    "\n",
    "x = np.linspace(0, 1, 21)\n",
    "y = np.array([u(x_i, 0) for x_i in x])\n",
    "line = ax.plot(x, y)\n",
    "ax.set_ylim(-1.01, 1.01)\n",
    "ax.set_ylabel('Temperature')\n",
    "ax.set_xlabel('X-Position')\n",
    "\n",
    "#fig.colorbar(line, shrink=0.5, aspect=10)\n",
    "ani = animation.FuncAnimation(fig, dataLD, fargs=(\n",
    "    y, line), frames=np.arange(0, 250), interval=40, blit=True)\n",
    "\n",
    "plt.show()"
   ]
  },
  {
   "cell_type": "code",
   "execution_count": 20,
   "metadata": {
    "ExecuteTime": {
     "end_time": "2021-06-30T01:17:47.915099Z",
     "start_time": "2021-06-30T01:17:47.902134Z"
    }
   },
   "outputs": [],
   "source": [
    "#ani.save('animation.gif', writer=animation.PillowWriter(fps=16))"
   ]
  },
  {
   "cell_type": "markdown",
   "metadata": {},
   "source": [
    "##### Difference between analytic solution and numerical solution"
   ]
  },
  {
   "cell_type": "code",
   "execution_count": null,
   "metadata": {},
   "outputs": [],
   "source": []
  },
  {
   "cell_type": "code",
   "execution_count": null,
   "metadata": {},
   "outputs": [],
   "source": []
  },
  {
   "cell_type": "markdown",
   "metadata": {},
   "source": [
    "### Example 2D Wave Equation"
   ]
  },
  {
   "cell_type": "markdown",
   "metadata": {},
   "source": [
    "We want to solve, (Vibrations of square drum skin with air resistance ($\\alpha < \\pi c$))\n",
    "> \\begin{align*}\n",
    "  PDE \\text{  } & u_{tt} +2 \\alpha u_t= c^2u_{xx} + c^2u_{yy}, 0<x<1, 0<y<1, 0<t<\\inf\\\\\n",
    "\\ BC \\text{  }&  u(0,y,t)=u(1,y,t)=0\\\\\n",
    "\\ BC \\text{  }& u(x,0,t)=u(x,1,t)=0\\\\\n",
    "\\ IC \\text{  }& u_t(x,y,0) = 0\\\\\n",
    "\\ IC \\text{  }& u(x,y,0) = xy\n",
    "\\end{align*}\n",
    "\n",
    "\n",
    "Analytic Solution is derived in Q1 of the PDF \"APDE2 Math Cafe Questions Week6.pdf\"\n",
    "\n",
    "We have the analytic solution is, ($n=(n_x,n_y)$)\n",
    "> $u(x,y,t)= \\sum^{\\infty}_{n=1} \\frac{4(-1)^{n_x+n_y}}{\\pi^2n_xn_y}sin(\\pi n_xx)sin(n_y \\pi y)e^{-\\alpha t}\n",
    "(Cos(Q_nt)+ \\frac{\\alpha}{Q_n}sin(Q_nt))$\n",
    "\n",
    "Where\n",
    "> $Q_n = \\sqrt{\\pi^2c^2(n_x^2+n_y^2) - \\alpha^2}$"
   ]
  },
  {
   "cell_type": "markdown",
   "metadata": {},
   "source": [
    "We will use discretization on the PDE\n",
    "\n",
    "Using the key \n",
    "> N,S = +1dy,-1dy in the y direction\n",
    "\n",
    "> E,W = +1dx,-1dx in the x direction\n",
    "\n",
    "> U,D = +1dt,-1dt in the t direction\n",
    "\n",
    "For $u_{tt}$ we will use the difference formula (should not have a factor of a half)\n",
    ">$u_{tt} = \\frac{1}{2(dt)^2}(u_U-2u_O+u_D)$\n",
    "\n",
    "This leads us to \n",
    "\n",
    "> $u_U = \\frac{2dt}{1+4\\alpha dt}\\left( \\frac{1}{2dt}(2u_O - u_D) + 2 \\alpha u_O + dtD \\right)$\n",
    "\n",
    "Where $D$ is\n",
    "\n",
    "> $D = \\frac{c^2}{2(dx)^2}(u_E-2u_O+u_W) + \\frac{c^2}{2(dy)^2}(u_N-2u_O+u_S)$\n",
    "\n",
    "\n",
    "Also, by using the IC's we have the first two grids in time are the same\n",
    "> \\begin{align*}\n",
    " u(x,y,0+dt) &=u(x,y,0)+(dt) u_t(x,y,0) \\\\\n",
    "\\ u(x,y,dt) &= u(x,y,0)\\\\\n",
    "\\ u(x,y,dt) &= xy\\\\\n",
    "\\end{align*}"
   ]
  },
  {
   "cell_type": "code",
   "execution_count": null,
   "metadata": {},
   "outputs": [],
   "source": []
  },
  {
   "cell_type": "code",
   "execution_count": 5,
   "metadata": {
    "ExecuteTime": {
     "end_time": "2021-08-09T22:45:43.340708Z",
     "start_time": "2021-08-09T22:45:26.115134Z"
    }
   },
   "outputs": [],
   "source": [
    "dx = 0.05\n",
    "dy = 0.05\n",
    "dt = 0.001\n",
    "\n",
    "t_f = 5.0\n",
    "alpha = 0.4\n",
    "c = 1\n",
    "\n",
    "\n",
    "Num_x = int(1/dx) + 1\n",
    "Num_y = int(1/dy) + 1\n",
    "Num_t = int(t_f/dt) + 1\n",
    "\n",
    "\n",
    "\n",
    "Grid = np.zeros([Num_t, Num_y, Num_x])\n",
    "\n",
    "\n",
    "\n",
    "def u_(x, y, t):\n",
    "    '''Where x,y,t are there int positions'''\n",
    "    return Grid[t][-(y+1)][x]\n",
    "\n",
    "\n",
    "def set_u_(x, y, t, val):\n",
    "    Grid[t][-(y+1)][x] = val\n",
    "\n",
    "\n",
    "def IC(x,y):\n",
    "    return np.sin(np.pi*x)*np.sin(np.pi*y)\n",
    "    \n",
    "# BC's are zero, so they are already set\n",
    "\n",
    "# IC's\n",
    "Grid[0] = np.array([[IC(x,y) for x in np.linspace(0, 1, num=Num_x, endpoint=True)]\n",
    "                    for y in np.linspace(1, 0, num=Num_y, endpoint=True)])\n",
    "Grid[0][0,:] = 0\n",
    "Grid[0][:,-1] = 0\n",
    "Grid[1] = Grid[0] #Starts from rest\n",
    "\n",
    "\n",
    "def solve_u(x,y,t):\n",
    "    '''x,y,t are the discrte positions'''\n",
    "    t -= 1 #To make one below origin\n",
    "    \n",
    "    D = (u_(x+1,y,t)-2*u_(x,y,t)+u_(x-1,y,t))/(dx)**2 + (u_(x,y+1,t)-2*u_(x,y,t)+u_(x,y-1,t))/(dy)**2\n",
    "    D *= (c**2)/(2)\n",
    "    \n",
    "    u_up = 1/(2*dt)*(2*u_(x,y,t)-u_(x,y,t-1))+2*alpha*u_(x,y,t) + dt*D\n",
    "    u_up *= (2*dt)/(1+4*alpha*dt)\n",
    "    \n",
    "    set_u_(x,y,t+1, u_up)\n",
    "    \n",
    "\n",
    "#Not first 2 as they have been set by IC\n",
    "for t in range(2, Num_t):\n",
    "    #Not on the boundaries\n",
    "    for x in range(1,Num_x-1):\n",
    "        for y in range(1, Num_y-1):\n",
    "            solve_u(x,y,t)\n",
    "            \n",
    "    \n",
    "    \n",
    "\n"
   ]
  },
  {
   "cell_type": "code",
   "execution_count": 7,
   "metadata": {
    "ExecuteTime": {
     "end_time": "2021-08-09T22:47:19.752150Z",
     "start_time": "2021-08-09T22:47:19.678316Z"
    }
   },
   "outputs": [
    {
     "data": {
      "application/vnd.jupyter.widget-view+json": {
       "model_id": "811346cf5e0743fe8a1b1409a2d19e36",
       "version_major": 2,
       "version_minor": 0
      },
      "text/plain": [
       "VBox(children=(Figure(animation=200.0, camera=PerspectiveCamera(fov=45.0, position=(0.0, 0.0, 2.0), quaternion…"
      ]
     },
     "metadata": {},
     "output_type": "display_data"
    }
   ],
   "source": [
    "a = np.linspace(0, 1, num=int(Num_x), endpoint=True)\n",
    "b = np.linspace(1, 0, num=int(Num_y), endpoint=True)\n",
    "U, V = np.meshgrid(a, b)\n",
    "X = U\n",
    "Y = V\n",
    "\n",
    "\n",
    "ipv.figure()\n",
    "s = ipv.plot_surface(X, Y, Grid[::25], color=\"orange\")\n",
    "#w = ipv.plot_wireframe(X, Y, Grid, color=\"red\")\n",
    "ipv.animation_control(s, add = True, interval=200)\n",
    "#mylink = widgets.link((s, 'sequence_index'), (w, 'sequence_index'))\n",
    "ipv.show()"
   ]
  },
  {
   "cell_type": "markdown",
   "metadata": {},
   "source": [
    "#### Compare to Analytic Solution"
   ]
  },
  {
   "cell_type": "code",
   "execution_count": 7,
   "metadata": {
    "ExecuteTime": {
     "end_time": "2021-09-03T14:43:37.652047Z",
     "start_time": "2021-09-03T14:43:37.638494Z"
    }
   },
   "outputs": [],
   "source": [
    "c = 1\n",
    "alpha = 0.001#0.4\n",
    "x_0 = 0.5\n",
    "y_0 = 0.5\n",
    "\n",
    "def Q(n_x,n_y):\n",
    "    return (c**2*np.pi**2*(n_x**2+n_y**2)-alpha**2)**0.5\n",
    "\n",
    "def Beta(n_x, n_y):\n",
    "    temp = 4*alpha*(-1)**(n_x+n_y)\n",
    "    temp = temp/(np.pi**2*n_x*n_y*Q(n_x,n_y))\n",
    "    return temp\n",
    "    \n",
    "def u(x,y,t):\n",
    "    my_sum = 0\n",
    "    upper = 10\n",
    "    for n_x in range(1, upper):\n",
    "        for n_y in range(1, upper):\n",
    "            temp = Beta(n_x,n_y)*np.sin(np.pi*n_x*x)*np.sin(np.pi*n_y*y)\n",
    "            temp *= np.e**(-alpha*t)*((Q(n_x,n_y)/alpha)*np.cos(Q(n_x,n_y)*t)+np.sin(Q(n_x,n_y)*t))\n",
    "            my_sum += temp\n",
    "    return my_sum"
   ]
  },
  {
   "cell_type": "code",
   "execution_count": 104,
   "metadata": {
    "ExecuteTime": {
     "end_time": "2021-07-07T23:36:14.471522Z",
     "start_time": "2021-07-07T23:35:59.072568Z"
    }
   },
   "outputs": [
    {
     "data": {
      "application/vnd.jupyter.widget-view+json": {
       "model_id": "14a27c13e7e446cdbb0f0c661a4e1a07",
       "version_major": 2,
       "version_minor": 0
      },
      "text/plain": [
       "VBox(children=(Figure(animation=200.0, camera=PerspectiveCamera(fov=45.0, position=(0.0, 0.0, 2.0), quaternion…"
      ]
     },
     "metadata": {},
     "output_type": "display_data"
    }
   ],
   "source": [
    "a = np.linspace(0, 1, num=int(Num_x), endpoint=True)\n",
    "b = np.linspace(1, 0, num=int(Num_y), endpoint=True)\n",
    "U, V = np.meshgrid(a, b)\n",
    "X = U\n",
    "Y = V  # The y-axis is the wrong way around\n",
    "#Z = np.array([[np.real(u(x,y)) for x in a] for y in b])\n",
    "Z = np.array([[[u(x,y,t) for x in a] for y in b] for t in np.linspace(0,5,10)])\n",
    "\n",
    "ipv.figure()\n",
    "s = ipv.plot_surface(X, Y, Z, color=\"orange\")\n",
    "#w = ipv.plot_wireframe(X, Y, Z, color=\"red\")\n",
    "ipv.animation_control(s, add = True, interval=200)\n",
    "#mylink = widgets.link((s, 'sequence_index'), (w, 'sequence_index'))\n",
    "ipv.show()"
   ]
  },
  {
   "cell_type": "code",
   "execution_count": 126,
   "metadata": {
    "ExecuteTime": {
     "end_time": "2021-07-08T00:03:22.953925Z",
     "start_time": "2021-07-08T00:03:19.252288Z"
    }
   },
   "outputs": [
    {
     "data": {
      "text/plain": [
       "0.2502495497913257"
      ]
     },
     "execution_count": 126,
     "metadata": {},
     "output_type": "execute_result"
    }
   ],
   "source": [
    "t_step = 50\n",
    "np.max(abs(Grid[t_step]-np.array([[u(x,y,dt*t_step) for x in np.linspace(0, 1, num=Num_x, endpoint=True)]\n",
    "                    for y in np.linspace(1, 0, num=Num_y, endpoint=True)])))"
   ]
  },
  {
   "cell_type": "markdown",
   "metadata": {},
   "source": [
    "#### Compute On GPU (CUDA)\n",
    "\n",
    "nvcc PDE_Solver.cu -o PDESolve\n",
    "\n",
    "./PDESolve > output"
   ]
  },
  {
   "cell_type": "code",
   "execution_count": 4,
   "metadata": {
    "ExecuteTime": {
     "end_time": "2021-09-16T17:15:46.425798Z",
     "start_time": "2021-09-16T17:15:30.931105Z"
    }
   },
   "outputs": [
    {
     "data": {
      "application/vnd.jupyter.widget-view+json": {
       "model_id": "8b747ebf41a84df892927a325a979fb0",
       "version_major": 2,
       "version_minor": 0
      },
      "text/plain": [
       "VBox(children=(Figure(animation=200.0, camera=PerspectiveCamera(fov=46.0, position=(0.0, 0.0, 2.0), projection…"
      ]
     },
     "metadata": {},
     "output_type": "display_data"
    }
   ],
   "source": [
    "name = \"Cuda_Training/output\"\n",
    "xDim = 101\n",
    "yDim = 101\n",
    "\n",
    "def read_file(filename):\n",
    "    f = open(filename,\"r\")\n",
    "    return np.array(f.read().splitlines()).astype(float)\n",
    "\n",
    "        \n",
    "\n",
    "x = np.linspace(0.0,1.0,xDim)\n",
    "y = np.linspace(0.0,1.0,yDim)\n",
    "\n",
    "U, V = np.meshgrid(x, y)\n",
    "X = U\n",
    "Y = V  # The y-axis is the wrong way around\n",
    "Z = read_file(name)\n",
    "\n",
    "''' For single Z\n",
    "ipv.figure()\n",
    "ipv.plot_surface(X, Y, Z, color=\"orange\")\n",
    "#ipv.plot_wireframe(X, Y, Z, color=\"red\")\n",
    "ipv.show()\n",
    "'''\n",
    "#\n",
    "ipv.figure()\n",
    "s = ipv.plot_surface(X, Y, Z.reshape(len(Z)//(xDim*yDim),1,-1), color=\"orange\")\n",
    "#ipv.plot_wireframe(X, Y, Z, color=\"red\")\n",
    "ipv.animation_control(s, add = True, interval=200)#, sequence_length=2)\n",
    "ipv.show()"
   ]
  },
  {
   "cell_type": "markdown",
   "metadata": {},
   "source": [
    "## Coupled Time Dependence\n",
    "\n",
    "Method 1\n",
    "Have a small time step compared to $x$ step (with the option of inner iteration)\n",
    "\n",
    "Method 2\n",
    "Do each grid for whole time while others frozen, then repeat until there is convergence\n",
    "\n",
    "Method 3\n",
    "Use forward and backward equations for time, backward equations while waiting for convergence, then forward equation to get next time step."
   ]
  },
  {
   "cell_type": "markdown",
   "metadata": {},
   "source": [
    "### Example Coupled Time Dependence (Heat)\n",
    "> \\begin{align*}\n",
    "  PDE \\text{  } & u_{t} = Du_{xx} + \\alpha g, 0<x<1, 0<t<\\inf\\\\\n",
    "\\ BC \\text{  }&  u(0,t)=0\\\\\n",
    "\\ BC \\text{  }& u(1,t)=cos(t)\\\\\n",
    "\\ IC \\text{  }& u(x,0) = x\n",
    "\\end{align*}\n",
    "\n",
    "> \\begin{align*}\n",
    "  PDE \\text{  } & g_{t} = Dg_{xx} + \\beta u, 0<x<1, 0<t<\\inf\\\\\n",
    "\\ BC \\text{  }&  g(0,t)=0\\\\\n",
    "\\ BC \\text{  }& g(1,t)= 1\\\\\n",
    "\\ IC \\text{  }& g(x,0) = 0\n",
    "\\end{align*}"
   ]
  },
  {
   "cell_type": "markdown",
   "metadata": {},
   "source": [
    "#### Method 1\n",
    "> \\begin{align*}\n",
    "\\ g_N &= g_O + \\frac{\\delta t D}{h^2}(g_E-2g_O+g_W) + \\delta t \\beta u_O \\\\\n",
    "\\ u_N &= u_O + \\frac{\\delta t D}{h^2}(u_E-2u_O+u_W) + \\delta t \\alpha g_O \\\\\n",
    "\\end{align*}\n",
    "\n",
    "With $\\frac{\\delta t}{h^2}<0.5$"
   ]
  },
  {
   "cell_type": "code",
   "execution_count": 31,
   "metadata": {
    "ExecuteTime": {
     "end_time": "2021-07-04T17:00:37.581562Z",
     "start_time": "2021-07-04T17:00:35.554826Z"
    }
   },
   "outputs": [
    {
     "name": "stdout",
     "output_type": "stream",
     "text": [
      "\n"
     ]
    }
   ],
   "source": [
    "h = 0.05\n",
    "dt = 0.0005\n",
    "beta = -1\n",
    "alpha = 1\n",
    "D=0.025\n",
    "\n",
    "\n",
    "Num_x = int(1/h) + 1\n",
    "t_f = 5\n",
    "Num_t = int(t_f/dt) + 1\n",
    "Grid_g = np.zeros([Num_t, Num_x])\n",
    "Grid_u = np.zeros([Num_t, Num_x])\n",
    "\n",
    "#IC's\n",
    "x_bound = np.array([i*h for i in range(0, Num_x)]) \n",
    "#Grid_g[-1] = #is zero \n",
    "Grid_u[-1] = x_bound\n",
    "\n",
    "\n",
    "#BC's\n",
    "cos_bound = np.array([np.cos(j*dt) for j in range(Num_t-1, 0-1, -1)]) \n",
    "\n",
    "Grid_g[:, len(Grid_g[0])-1] = np.ones([Num_t])\n",
    "Grid_u[:, len(Grid_u[0])-1] = cos_bound\n",
    "\n",
    "Grid_g = GridS(Grid_g)\n",
    "Grid_u = GridS(Grid_u)\n",
    "\n",
    "u_ = Grid_u.u_\n",
    "g_ = Grid_g.u_\n",
    "\n",
    "\n",
    "def new_g_(i,j):\n",
    "    j -= 1\n",
    "    temp = g_(i+1,j) - 2*g_(i,j) + g_(i-1,j)\n",
    "    temp *= (dt*D)/(h**2)\n",
    "    temp += g_(i,j) + dt*beta*u_(i,j)\n",
    "    return temp\n",
    "\n",
    "def new_u_(i,j):\n",
    "    j -= 1\n",
    "    temp = u_(i+1,j) - 2*u_(i,j) + u_(i-1,j)\n",
    "    temp *= (dt*D)/(h**2)\n",
    "    temp += u_(i,j) + dt*alpha*g_(i,j)\n",
    "    return temp\n",
    "\n",
    "\n",
    "def solve_g(j):\n",
    "    for i in range(1,Num_x-1):\n",
    "        Grid_g.Set_u_(i,j,new_g_(i,j))\n",
    "\n",
    "def solve_u(j):\n",
    "    for i in range(1,Num_x-1):\n",
    "        Grid_u.Set_u_(i,j,new_u_(i,j))\n",
    "\n",
    "   \n",
    "for j in range(1, Num_t):\n",
    "    #Repeat this untill no change, but that is what small t is for\n",
    "    solve_g(j)\n",
    "    solve_u(j)\n",
    "\n",
    "\n",
    "'''\n",
    "for j in range(1, Num_t):\n",
    "    counter = 0\n",
    "    diff = 1.1\n",
    "    while diff > 0.006:\n",
    "        old_g_grid = Grid_g.Grid[-(j+1)].copy()\n",
    "        old_u_grid = Grid_u.Grid[-(j+1)].copy()\n",
    "\n",
    "        solve_g(j)\n",
    "        solve_u(j)\n",
    "        \n",
    "        diff1 = np.max(np.abs(old_g_grid - Grid_g.Grid[-j]))\n",
    "        diff2 = np.max(np.abs(old_u_grid - Grid_u.Grid[-j]))\n",
    "        \n",
    "        diff = max(diff1,diff2)\n",
    "        print(diff)\n",
    "        counter += 1\n",
    "    \n",
    "    #print (counter) #21.7s not worth it, just have smaller t\n",
    "'''\n",
    "print(\"\")    "
   ]
  },
  {
   "cell_type": "code",
   "execution_count": 32,
   "metadata": {
    "ExecuteTime": {
     "end_time": "2021-07-04T17:00:37.754659Z",
     "start_time": "2021-07-04T17:00:37.661351Z"
    }
   },
   "outputs": [
    {
     "data": {
      "application/vnd.jupyter.widget-view+json": {
       "model_id": "1fa04e62cf764676821a93ffe788040a",
       "version_major": 2,
       "version_minor": 0
      },
      "text/plain": [
       "VBox(children=(Figure(camera=PerspectiveCamera(fov=45.0, position=(0.0, 0.0, 2.0), quaternion=(0.0, 0.0, 0.0, …"
      ]
     },
     "metadata": {},
     "output_type": "display_data"
    }
   ],
   "source": [
    "a = np.arange(0.0, 1.0+0.00001, h)\n",
    "b = np.arange(0.0, t_f+0.00001, dt)\n",
    "U, V = np.meshgrid(a, b)\n",
    "X = U\n",
    "Y = V  # The y-axis is the wrong way around\n",
    "Z = Grid_u.Grid\n",
    "\n",
    "ipv.figure()\n",
    "ipv.plot_surface(X, Y, Z, color=\"orange\")\n",
    "#ipv.plot_wireframe(X, Y, Z, color=\"red\")\n",
    "ipv.show()"
   ]
  },
  {
   "cell_type": "code",
   "execution_count": 136,
   "metadata": {
    "ExecuteTime": {
     "end_time": "2021-07-04T14:20:19.534340Z",
     "start_time": "2021-07-04T14:20:19.470496Z"
    }
   },
   "outputs": [
    {
     "data": {
      "application/vnd.jupyter.widget-view+json": {
       "model_id": "cc59980c22144fb5b8029ca0006d0d88",
       "version_major": 2,
       "version_minor": 0
      },
      "text/plain": [
       "VBox(children=(Figure(camera=PerspectiveCamera(fov=45.0, position=(0.0, 0.0, 2.0), quaternion=(0.0, 0.0, 0.0, …"
      ]
     },
     "metadata": {},
     "output_type": "display_data"
    }
   ],
   "source": [
    "a = np.arange(0.0, 1.0+0.00001, h)\n",
    "b = np.arange(0.0, t_f+0.00001, dt)\n",
    "U, V = np.meshgrid(a, b)\n",
    "X = U\n",
    "Y = V  # The y-axis is the wrong way around\n",
    "Z = Grid_g.Grid\n",
    "\n",
    "ipv.figure()\n",
    "ipv.plot_surface(X, Y, Z, color=\"orange\")\n",
    "#ipv.plot_wireframe(X, Y, Z, color=\"red\")\n",
    "ipv.show()"
   ]
  },
  {
   "cell_type": "markdown",
   "metadata": {},
   "source": [
    "#### Analytic Solution"
   ]
  },
  {
   "cell_type": "markdown",
   "metadata": {},
   "source": [
    "We have a brief description of the derivation here, but for the full written solution check the PDF \"Example Analytic Solution Of PDE Coupled Time Dependence(Parobolic).pdf\"\n",
    "\n",
    "We do substitution $u=v+w$, $g=q+p$. By setting BC's of $w,p$ to be $0$. This leads to $v(x,t)= xcos(t)$ and $p(x,t)=x$ \n",
    "\n",
    "> \\begin{align*}\n",
    "  PDE \\text{  } & w_{t} = Dw_{xx} + \\alpha p + x(\\alpha + sin(t)), 0<x<1, 0<t<\\inf\\\\\n",
    "\\ BC \\text{  }&  w(0,t)=0\\\\\n",
    "\\ BC \\text{  }& w(1,t)=0\\\\\n",
    "\\ IC \\text{  }& w(x,0) = 0\n",
    "\\end{align*}\n",
    "\n",
    "> \\begin{align*}\n",
    "  PDE \\text{  } & p_{t} = Dp_{xx} + \\beta w + \\beta xcos(t), 0<x<1, 0<t<\\inf\\\\\n",
    "\\ BC \\text{  }&  p(0,t)=0\\\\\n",
    "\\ BC \\text{  }& p(1,t)= 0\\\\\n",
    "\\ IC \\text{  }& p(x,0) = -x\n",
    "\\end{align*}\n",
    "\n",
    "With \n",
    "> \\begin{align*}\n",
    "  u(x,t) &= xcos(t) + w(x,t)\\\\\n",
    "\\ g(x,t) &= x + p(x,t)\n",
    "\\end{align*}"
   ]
  },
  {
   "cell_type": "markdown",
   "metadata": {},
   "source": [
    "Then we use an Eigen Function expansion method. (Express all $x$ terms as a sequence of $sin(n\\pi x)$, as fits our BC's)\n",
    "\n",
    "We note\n",
    ">$$\n",
    "x = \\sum_{n=1}^\\infty \\zeta_n sin(n\\pi x) \\text{,    } \\zeta_n = -\\frac{2(-1)^n}{n\\pi} \n",
    "$$\n",
    "\n",
    "And $\\gamma_n = n^2\\pi^2$\n",
    "\n",
    "> \\begin{align*}\n",
    "w(x,t) &= \\sum_{n=1}^\\infty w_n(t)sin(n\\pi x)\\text{,    } &p(x,t) = \\sum_{n=1}^\\infty p_n(t)sin(n\\pi x)\\\\\n",
    "w_{t}(x,t) &= \\sum_{n=1}^\\infty \\dot{w}_n(t)sin(n\\pi x)\\text{,    } &p_{t}(x,t) = \\sum_{n=1}^\\infty \\dot{p}_n(t)sin(n\\pi x)\\\\\n",
    "w_{xx}(x,t) &= -\\sum_{n=1}^\\infty \\gamma_n w_n(t)sin(n\\pi x)\\text{,    } &p_{xx}(x,t) = -\\sum_{n=1}^\\infty \\gamma_n p_n(t)sin(n\\pi x)\\\\\n",
    "(\\alpha +sin(t))x &= \\sum_{n=1}^\\infty f_n(t)sin(n\\pi x)\\text{,    } &\\beta xcos(t) = \\sum_{n=1}^\\infty h_n(t)sin(n\\pi x)\n",
    "\\end{align*}\n",
    "\n",
    "With \n",
    "> \\begin{align*}\n",
    "f_n(t) &= (\\alpha +sin(t))\\zeta_n \\\\\n",
    "h_n(t) &=\\beta cos(t) \\zeta_n\n",
    "\\end{align*}"
   ]
  },
  {
   "cell_type": "markdown",
   "metadata": {},
   "source": [
    "We get equations\n",
    "> \\begin{align*}\n",
    "\\sum_{n=1}^\\infty [ \\dot{w}_n(t) + D\\gamma_n w_n(t) - \\alpha p_n(t) - f_n(t)] sin(n\\pi x) &= 0\\\\\n",
    "\\sum_{n=1}^\\infty [ \\dot{p}_n(t) + D\\gamma_n p_n(t) - \\beta w_n(t) - h_n(t)] sin(n\\pi x) &= 0\n",
    "\\end{align*}\n",
    "\n",
    "Thus we get the coupled ODE system\n",
    "> \\begin{align*}\n",
    "PDE \\text{  }\\dot{w}_n(t) + D\\gamma_n w_n(t) - \\alpha p_n(t)&= (\\alpha + sin(t))\\zeta_n\\\\\n",
    "PDE \\text{  }\\dot{p}_n(t) + D\\gamma_n p_n(t) - \\beta w_n(t)&= \\beta cos(t) \\zeta_n\\\\\n",
    "\\end{align*}\n",
    "\n",
    "With $p_n(0) = -\\zeta_n$ and $w_n(0) = 0$\n"
   ]
  },
  {
   "cell_type": "code",
   "execution_count": 8,
   "metadata": {
    "ExecuteTime": {
     "end_time": "2021-09-17T11:38:42.146024Z",
     "start_time": "2021-09-17T11:38:42.082067Z"
    }
   },
   "outputs": [],
   "source": [
    "# Check coupled ODE system (Used as proof not the most efficient method,\n",
    "# used to quickly see if current equations are correct)\n",
    "def zeta_(n):\n",
    "    return -(2*(-1)**n)/(n*np.pi)\n",
    "\n",
    "\n",
    "h = 0.05\n",
    "dt = 0.0005\n",
    "N = 20\n",
    "beta = -1\n",
    "alpha = 1\n",
    "D=0.025\n",
    "t_f = 5\n",
    "x_f = 1\n",
    "Num_t = int(t_f/dt) + 1\n",
    "p_n = np.zeros([N,Num_t]) # First row full of zeros\n",
    "w_n = np.zeros([N,Num_t])\n",
    "\n",
    "#Need IC's\n",
    "#w stays zero\n",
    "p_n[1:,0] = -np.array([zeta_(n) for n in range(1,N)])\n",
    "\n",
    "def G_(n):\n",
    "    return n**2*np.pi**2\n",
    "\n",
    "    \n",
    "    \n",
    "    \n",
    "def dot_w_(n,t_step):\n",
    "    t = t_step*dt\n",
    "    temp = (alpha + np.sin(t))*zeta_(n) - D*G_(n)*w_n[n][t_step] + alpha*p_n[n][t_step]\n",
    "    return temp\n",
    "    \n",
    "def dot_p_(n,t_step):\n",
    "    t = t_step*dt\n",
    "    temp = beta*np.cos(t)*zeta_(n) - D*G_(n)*p_n[n][t_step] + beta*w_n[n][t_step]\n",
    "    return temp\n",
    "\n",
    "\n",
    "def solve():\n",
    "    \n",
    "    #Dont need p_0 and start at time step 1 as got IC's at 0\n",
    "    for n in range(1,N):\n",
    "        # Do line of p_n\n",
    "        for t_step in range(1,Num_t):\n",
    "            p_n[n][t_step] = p_n[n][t_step-1] + dot_p_(n,t_step-1)*dt\n",
    "            w_n[n][t_step] = w_n[n][t_step-1] + dot_w_(n,t_step-1)*dt\n",
    "    print(\"Solved\")\n",
    "\n"
   ]
  },
  {
   "cell_type": "code",
   "execution_count": 9,
   "metadata": {
    "ExecuteTime": {
     "end_time": "2021-09-17T11:38:47.279497Z",
     "start_time": "2021-09-17T11:38:43.218023Z"
    }
   },
   "outputs": [
    {
     "name": "stdout",
     "output_type": "stream",
     "text": [
      "Solved\n"
     ]
    }
   ],
   "source": [
    "solve()\n",
    "def u(x,t):\n",
    "    temp = x*np.cos(t)\n",
    "    t_step = int(t//dt)\n",
    "    \n",
    "    for n in range(1,N):\n",
    "        temp += w_n[n][t_step]*np.sin(n*np.pi*x)\n",
    "        \n",
    "    return temp\n",
    "\n",
    "def g(x,t):\n",
    "    temp = x\n",
    "    t_step = int(t//dt)\n",
    "    \n",
    "    for n in range(1,N):\n",
    "        temp += p_n[n][t_step]*np.sin(n*np.pi*x)\n",
    "        \n",
    "    return temp"
   ]
  },
  {
   "cell_type": "code",
   "execution_count": 10,
   "metadata": {
    "ExecuteTime": {
     "end_time": "2021-09-17T11:38:50.742759Z",
     "start_time": "2021-09-17T11:38:50.422959Z"
    }
   },
   "outputs": [
    {
     "data": {
      "application/vnd.jupyter.widget-view+json": {
       "model_id": "d8cccd8fa877411e98686b6a8a7373ee",
       "version_major": 2,
       "version_minor": 0
      },
      "text/plain": [
       "VBox(children=(Figure(camera=PerspectiveCamera(fov=46.0, position=(0.0, 0.0, 2.0), projectionMatrix=(1.0, 0.0,…"
      ]
     },
     "metadata": {},
     "output_type": "display_data"
    }
   ],
   "source": [
    "a = np.linspace(0, x_f, num=int(Num_x), endpoint=True)\n",
    "b = np.linspace(0, t_f, num=int(Num_t//100), endpoint=True)\n",
    "\n",
    "U, V = np.meshgrid(a, b)\n",
    "X = U\n",
    "Y = V  # The y-axis is the wrong way around\n",
    "Z = np.array([[np.real(u(x,b[-b_i])) for x in a] for b_i in range(1,len(b)+1)])\n",
    "\n",
    "ipv.figure()\n",
    "ipv.plot_surface(X, Y, Z, color=\"orange\")\n",
    "#ipv.plot_wireframe(X, Y, Z, color=\"red\")\n",
    "ipv.show()"
   ]
  },
  {
   "cell_type": "code",
   "execution_count": 11,
   "metadata": {
    "ExecuteTime": {
     "end_time": "2021-09-17T11:39:29.883410Z",
     "start_time": "2021-09-17T11:39:29.860426Z"
    }
   },
   "outputs": [
    {
     "ename": "NameError",
     "evalue": "name 'Grid_u' is not defined",
     "output_type": "error",
     "traceback": [
      "\u001b[1;31m---------------------------------------------------------------------------\u001b[0m",
      "\u001b[1;31mNameError\u001b[0m                                 Traceback (most recent call last)",
      "\u001b[1;32m<ipython-input-11-5d8e0aa49348>\u001b[0m in \u001b[0;36m<module>\u001b[1;34m\u001b[0m\n\u001b[0;32m      1\u001b[0m \u001b[1;31m#Check how similar\u001b[0m\u001b[1;33m\u001b[0m\u001b[1;33m\u001b[0m\u001b[1;33m\u001b[0m\u001b[0m\n\u001b[0;32m      2\u001b[0m \u001b[0mat_t\u001b[0m \u001b[1;33m=\u001b[0m \u001b[1;36m3.0\u001b[0m\u001b[1;33m\u001b[0m\u001b[1;33m\u001b[0m\u001b[0m\n\u001b[1;32m----> 3\u001b[1;33m \u001b[0mstat1\u001b[0m \u001b[1;33m=\u001b[0m \u001b[0mGrid_u\u001b[0m\u001b[1;33m.\u001b[0m\u001b[0mGrid\u001b[0m\u001b[1;33m[\u001b[0m\u001b[1;33m-\u001b[0m\u001b[1;33m(\u001b[0m\u001b[0mint\u001b[0m\u001b[1;33m(\u001b[0m\u001b[0mat_t\u001b[0m\u001b[1;33m/\u001b[0m\u001b[0mdt\u001b[0m\u001b[1;33m)\u001b[0m\u001b[1;33m+\u001b[0m\u001b[1;36m1\u001b[0m\u001b[1;33m)\u001b[0m\u001b[1;33m]\u001b[0m\u001b[1;33m\u001b[0m\u001b[1;33m\u001b[0m\u001b[0m\n\u001b[0m\u001b[0;32m      4\u001b[0m \u001b[0mstat2\u001b[0m \u001b[1;33m=\u001b[0m \u001b[0mnp\u001b[0m\u001b[1;33m.\u001b[0m\u001b[0marray\u001b[0m\u001b[1;33m(\u001b[0m\u001b[1;33m[\u001b[0m\u001b[0mnp\u001b[0m\u001b[1;33m.\u001b[0m\u001b[0mreal\u001b[0m\u001b[1;33m(\u001b[0m\u001b[0mu\u001b[0m\u001b[1;33m(\u001b[0m\u001b[0mi\u001b[0m\u001b[1;33m*\u001b[0m\u001b[0mh\u001b[0m\u001b[1;33m,\u001b[0m\u001b[0mat_t\u001b[0m\u001b[1;33m)\u001b[0m\u001b[1;33m)\u001b[0m \u001b[1;32mfor\u001b[0m \u001b[0mi\u001b[0m \u001b[1;32min\u001b[0m \u001b[0mrange\u001b[0m\u001b[1;33m(\u001b[0m\u001b[0mlen\u001b[0m\u001b[1;33m(\u001b[0m\u001b[0mGrid_u\u001b[0m\u001b[1;33m.\u001b[0m\u001b[0mGrid\u001b[0m\u001b[1;33m[\u001b[0m\u001b[1;36m0\u001b[0m\u001b[1;33m]\u001b[0m\u001b[1;33m)\u001b[0m\u001b[1;33m)\u001b[0m\u001b[1;33m]\u001b[0m\u001b[1;33m)\u001b[0m\u001b[1;33m\u001b[0m\u001b[1;33m\u001b[0m\u001b[0m\n\u001b[0;32m      5\u001b[0m \u001b[1;31m#print(stat1)\u001b[0m\u001b[1;33m\u001b[0m\u001b[1;33m\u001b[0m\u001b[1;33m\u001b[0m\u001b[0m\n",
      "\u001b[1;31mNameError\u001b[0m: name 'Grid_u' is not defined"
     ]
    }
   ],
   "source": [
    "#Check how similar\n",
    "at_t = 3.0\n",
    "stat1 = Grid_u.Grid[-(int(at_t/dt)+1)]\n",
    "stat2 = np.array([np.real(u(i*h,at_t)) for i in range(len(Grid_u.Grid[0]))])\n",
    "#print(stat1)\n",
    "#print(stat2)\n",
    "stat1-stat2"
   ]
  },
  {
   "cell_type": "markdown",
   "metadata": {},
   "source": [
    "This shows us we have made no mistakes in our analytic solution so far.\n",
    "\n",
    "\n",
    "To solve this system of coupled ODE's we will change $\\frac{d}{dt}$ to $\\L$ and treat as a simultaneous equation.\n",
    "\n",
    "> \\begin{align*}\n",
    "(\\L + D \\gamma_n)w_n(t) - \\alpha p_n(t) &= (\\alpha + sin(t))\\zeta_n\\\\\n",
    "(\\L + D \\gamma_n)p_n(t) - \\beta w_n(t) &= \\beta cos(t)\\zeta_n\\\\\n",
    "\\end{align*}\n",
    "\n",
    "\n",
    "> $\\dot{\\dot{w}}_n(t) + K_n \\dot{w}_n + Q_nw_n = q_n$\n",
    "\n",
    "With,\n",
    "> \\begin{align*}\n",
    "q_n &=\\dot{f}_n + D \\gamma_n f_n + \\alpha h_n\\\\\n",
    "&= \\zeta_n[cos(t)(1+\\alpha \\beta)+D \\gamma_n sin(t) + D \\gamma_n \\alpha]\\\\\n",
    "Q_n &= D^2\\gamma_n^2-\\alpha \\beta\\\\\n",
    "K_n &= 2D\\gamma_n\n",
    "\\end{align*}\n",
    "\n",
    "We get for $w_n(t)$ and $p_n(t)$,\n",
    "> \\begin{align*}\n",
    "w_n(t) &= Ae^{m_{n,+}t} + Be^{m_{n,-}t} + C_1 cos(t) + C_2 sin(t) + C_3\\\\\n",
    "p_n(t) &= A\\sqrt{\\frac{\\beta}{\\alpha}}e^{m_{n,+}t} - B\\sqrt{\\frac{\\beta}{\\alpha}}e^{m_{n,-}t} + \\frac{sin(t)}{\\alpha}(D\\gamma_n C_2 - C_1 - \\zeta_n)\\\\\n",
    "&+ \\frac{cos(t)}{\\alpha}(C_2 + D\\gamma_n C_1) + \\frac{D\\gamma_nC_3}{\\alpha} - \\zeta_n\n",
    "\\end{align*}\n",
    "\n",
    "\n",
    "With,\n",
    "\n",
    ">\\begin{align*}\n",
    "C_1 &= \\zeta_n\\frac{(1+\\alpha \\beta)(Q_n - 1) - k_nD\\gamma_n}{k_n^2 + (Q_n -1)^2}\\\\\n",
    "C_2 &= \\zeta_n\\frac{k_n(1+\\alpha\\beta)+ (Q_n - 1)D\\gamma_n}{k_n^2+(Q_n-1)^2}\\\\\n",
    "C_3 &= \\zeta_n\\frac{D\\gamma_n\\alpha}{Q_n}\n",
    "\\end{align*}\n",
    "\n",
    "For these IC's\n",
    "\n",
    ">\\begin{align*}\n",
    "A &= -\\frac{1}{2} \\left( \\frac{1}{\\sqrt{\\alpha \\beta}}(C_2 + D\\gamma_n(C_1 + C_3)) + C_1 + C_3 \\right)\\\\\n",
    "B &= \\frac{1}{2} \\left( \\frac{1}{\\sqrt{\\alpha \\beta}}(C_2 + D\\gamma_n(C_1 + C_3)) - C_1 -C_3 \\right)\n",
    "\\end{align*}"
   ]
  },
  {
   "cell_type": "markdown",
   "metadata": {},
   "source": [
    "Full derivation of analytic solution in PDF"
   ]
  },
  {
   "cell_type": "code",
   "execution_count": null,
   "metadata": {},
   "outputs": [],
   "source": []
  },
  {
   "cell_type": "code",
   "execution_count": 5,
   "metadata": {
    "ExecuteTime": {
     "end_time": "2021-09-17T11:37:56.799621Z",
     "start_time": "2021-09-17T11:37:56.752655Z"
    }
   },
   "outputs": [],
   "source": [
    "h = 0.05\n",
    "dt = 0.0005\n",
    "beta = -1\n",
    "alpha = 1\n",
    "D=0.025\n",
    "t_f = 5\n",
    "x_f = 1\n",
    "\n",
    "Num_t = int(t_f/dt) + 1\n",
    "Num_x = int(x_f/h) + 1\n",
    "\n",
    "\n",
    "def G_(n):\n",
    "    return n**2*np.pi**2\n",
    "\n",
    "def zeta_(n):\n",
    "    return 2*(-1)**(n+1)/(n*np.pi)\n",
    "\n",
    "def Q_(n):\n",
    "    return D**2*G_(n)**2-alpha*beta\n",
    "    \n",
    "def k_(n):\n",
    "    return 2*D*G_(n)\n",
    "\n",
    "def C_1(n):\n",
    "    temp = (1+alpha*beta)*(Q_(n)-1)-D*G_(n)*k_(n) #incorrect minus sign was (1-alpha*beta)\n",
    "    temp *= zeta_(n)/((Q_(n)-1)**2+k_(n)**2)\n",
    "    return temp\n",
    "    \n",
    "def C_2(n):\n",
    "    temp = G_(n)*D*(Q_(n)-1)+(1+alpha*beta)*k_(n)\n",
    "    temp *= zeta_(n)/((Q_(n)-1)**2+k_(n)**2)\n",
    "    return temp\n",
    "\n",
    "def C_3(n):\n",
    "    temp = zeta_(n)*D*G_(n)*alpha\n",
    "    temp /= Q_(n)\n",
    "    return temp\n",
    "    \n",
    "    \n",
    "def B_(n):\n",
    "    temp = C_2(n) + D*G_(n)*(C_1(n) + C_3(n))\n",
    "    temp /= (alpha*beta)**(0.5)\n",
    "    temp -= C_1(n) + C_3(n)\n",
    "    temp /= 2\n",
    "    return temp\n",
    "    \n",
    "def A_(n): #aka A in notes\n",
    "    temp = C_2(n) + D*G_(n)*(C_1(n) + C_3(n))\n",
    "    temp /= (alpha*beta)**(0.5)\n",
    "    temp += C_1(n) + C_3(n)\n",
    "    temp /= -2\n",
    "    return temp\n",
    "    \n",
    "def m_p(n):\n",
    "    return -D*G_(n) + (alpha*beta)**0.5\n",
    "\n",
    "def m_m(n):\n",
    "    return -D*G_(n) - (alpha*beta)**0.5\n",
    "    \n",
    "def w_(n,t):\n",
    "    temp = A_(n)*np.exp(m_p(n)*t)+B_(n)*np.exp(m_m(n)*t)\n",
    "    temp += C_1(n)*np.cos(t)\n",
    "    temp += C_2(n)*np.sin(t)\n",
    "    temp += C_3(n)\n",
    "    return temp\n",
    "\n",
    "def p_(n,t):\n",
    "    temp = A_(n)*(beta/alpha)**0.5*np.exp(m_p(n)*t)\n",
    "    temp -= B_(n)*(beta/alpha)**0.5*np.exp(m_m(n)*t)\n",
    "    temp += (np.sin(t)/alpha)*(D*G_(n)*C_2(n)-C_1(n)-zeta_(n))\n",
    "    temp += (np.cos(t)/alpha)*(C_2(n) + D*G_(n)*C_1(n))\n",
    "    temp += (D*G_(n)*C_3(n))/(alpha) - zeta_(n)\n",
    "    return temp\n",
    "    \n",
    "def u(x,t):\n",
    "    temp = np.cos(t)*x\n",
    "    \n",
    "    for n in range(1,25):\n",
    "        temp += w_(n,t)*np.sin(n*np.pi*x)\n",
    "        \n",
    "    return temp\n",
    "\n",
    "def g(x,t):\n",
    "    temp = x\n",
    "    for n in range(1,25):\n",
    "        temp += p_(n,t)*np.sin(n*np.pi*x)\n",
    "        \n",
    "    return temp\n",
    "    "
   ]
  },
  {
   "cell_type": "code",
   "execution_count": 6,
   "metadata": {
    "ExecuteTime": {
     "end_time": "2021-09-17T11:38:04.768466Z",
     "start_time": "2021-09-17T11:37:58.101615Z"
    }
   },
   "outputs": [
    {
     "data": {
      "application/vnd.jupyter.widget-view+json": {
       "model_id": "bb502dbd102a4a05b891cbb6f810ded3",
       "version_major": 2,
       "version_minor": 0
      },
      "text/plain": [
       "VBox(children=(Figure(camera=PerspectiveCamera(fov=46.0, position=(0.0, 0.0, 2.0), projectionMatrix=(1.0, 0.0,…"
      ]
     },
     "metadata": {},
     "output_type": "display_data"
    }
   ],
   "source": [
    "a = np.linspace(0, x_f, num=int(Num_x), endpoint=True)\n",
    "b = np.linspace(0, t_f, num=int(Num_t//100), endpoint=True)\n",
    "U, V = np.meshgrid(a, b)\n",
    "X = U\n",
    "Y = V  # The y-axis is the wrong way around\n",
    "#Z = np.array([[np.real(u(x,y)) for x in a] for y in b])\n",
    "Z = np.array([[np.real(u(x,b[-b_i])) for x in a] for b_i in range(1,len(b)+1)])\n",
    "\n",
    "ipv.figure()\n",
    "ipv.plot_surface(X, Y, Z, color=\"orange\")\n",
    "#ipv.plot_wireframe(X, Y, Z, color=\"red\")\n",
    "ipv.show()"
   ]
  },
  {
   "cell_type": "code",
   "execution_count": 7,
   "metadata": {
    "ExecuteTime": {
     "end_time": "2021-09-17T11:38:23.482153Z",
     "start_time": "2021-09-17T11:38:23.230308Z"
    }
   },
   "outputs": [
    {
     "ename": "NameError",
     "evalue": "name 'Grid_u' is not defined",
     "output_type": "error",
     "traceback": [
      "\u001b[1;31m---------------------------------------------------------------------------\u001b[0m",
      "\u001b[1;31mNameError\u001b[0m                                 Traceback (most recent call last)",
      "\u001b[1;32m<ipython-input-7-5d8e0aa49348>\u001b[0m in \u001b[0;36m<module>\u001b[1;34m\u001b[0m\n\u001b[0;32m      1\u001b[0m \u001b[1;31m#Check how similar\u001b[0m\u001b[1;33m\u001b[0m\u001b[1;33m\u001b[0m\u001b[1;33m\u001b[0m\u001b[0m\n\u001b[0;32m      2\u001b[0m \u001b[0mat_t\u001b[0m \u001b[1;33m=\u001b[0m \u001b[1;36m3.0\u001b[0m\u001b[1;33m\u001b[0m\u001b[1;33m\u001b[0m\u001b[0m\n\u001b[1;32m----> 3\u001b[1;33m \u001b[0mstat1\u001b[0m \u001b[1;33m=\u001b[0m \u001b[0mGrid_u\u001b[0m\u001b[1;33m.\u001b[0m\u001b[0mGrid\u001b[0m\u001b[1;33m[\u001b[0m\u001b[1;33m-\u001b[0m\u001b[1;33m(\u001b[0m\u001b[0mint\u001b[0m\u001b[1;33m(\u001b[0m\u001b[0mat_t\u001b[0m\u001b[1;33m/\u001b[0m\u001b[0mdt\u001b[0m\u001b[1;33m)\u001b[0m\u001b[1;33m+\u001b[0m\u001b[1;36m1\u001b[0m\u001b[1;33m)\u001b[0m\u001b[1;33m]\u001b[0m\u001b[1;33m\u001b[0m\u001b[1;33m\u001b[0m\u001b[0m\n\u001b[0m\u001b[0;32m      4\u001b[0m \u001b[0mstat2\u001b[0m \u001b[1;33m=\u001b[0m \u001b[0mnp\u001b[0m\u001b[1;33m.\u001b[0m\u001b[0marray\u001b[0m\u001b[1;33m(\u001b[0m\u001b[1;33m[\u001b[0m\u001b[0mnp\u001b[0m\u001b[1;33m.\u001b[0m\u001b[0mreal\u001b[0m\u001b[1;33m(\u001b[0m\u001b[0mu\u001b[0m\u001b[1;33m(\u001b[0m\u001b[0mi\u001b[0m\u001b[1;33m*\u001b[0m\u001b[0mh\u001b[0m\u001b[1;33m,\u001b[0m\u001b[0mat_t\u001b[0m\u001b[1;33m)\u001b[0m\u001b[1;33m)\u001b[0m \u001b[1;32mfor\u001b[0m \u001b[0mi\u001b[0m \u001b[1;32min\u001b[0m \u001b[0mrange\u001b[0m\u001b[1;33m(\u001b[0m\u001b[0mlen\u001b[0m\u001b[1;33m(\u001b[0m\u001b[0mGrid_u\u001b[0m\u001b[1;33m.\u001b[0m\u001b[0mGrid\u001b[0m\u001b[1;33m[\u001b[0m\u001b[1;36m0\u001b[0m\u001b[1;33m]\u001b[0m\u001b[1;33m)\u001b[0m\u001b[1;33m)\u001b[0m\u001b[1;33m]\u001b[0m\u001b[1;33m)\u001b[0m\u001b[1;33m\u001b[0m\u001b[1;33m\u001b[0m\u001b[0m\n\u001b[0;32m      5\u001b[0m \u001b[1;31m#print(stat1)\u001b[0m\u001b[1;33m\u001b[0m\u001b[1;33m\u001b[0m\u001b[1;33m\u001b[0m\u001b[0m\n",
      "\u001b[1;31mNameError\u001b[0m: name 'Grid_u' is not defined"
     ]
    }
   ],
   "source": [
    "#Check how similar\n",
    "at_t = 3.0\n",
    "stat1 = Grid_u.Grid[-(int(at_t/dt)+1)]\n",
    "stat2 = np.array([np.real(u(i*h,at_t)) for i in range(len(Grid_u.Grid[0]))])\n",
    "#print(stat1)\n",
    "#print(stat2)\n",
    "stat1-stat2"
   ]
  },
  {
   "cell_type": "code",
   "execution_count": null,
   "metadata": {},
   "outputs": [],
   "source": []
  },
  {
   "cell_type": "code",
   "execution_count": null,
   "metadata": {},
   "outputs": [],
   "source": []
  },
  {
   "cell_type": "code",
   "execution_count": 27,
   "metadata": {
    "ExecuteTime": {
     "end_time": "2021-06-30T01:17:54.314641Z",
     "start_time": "2021-06-30T01:17:54.284695Z"
    }
   },
   "outputs": [
    {
     "data": {
      "text/plain": [
       "(-0.08969115975409793-1.574195797539744e-19j)"
      ]
     },
     "execution_count": 27,
     "metadata": {},
     "output_type": "execute_result"
    }
   ],
   "source": [
    "u(2*h,3)"
   ]
  },
  {
   "cell_type": "code",
   "execution_count": null,
   "metadata": {},
   "outputs": [],
   "source": []
  },
  {
   "cell_type": "code",
   "execution_count": null,
   "metadata": {},
   "outputs": [],
   "source": []
  },
  {
   "cell_type": "code",
   "execution_count": 12,
   "metadata": {
    "ExecuteTime": {
     "end_time": "2021-09-17T11:40:37.813553Z",
     "start_time": "2021-09-17T11:40:37.777579Z"
    }
   },
   "outputs": [
    {
     "ename": "IndexError",
     "evalue": "index 19999 is out of bounds for axis 0 with size 10001",
     "output_type": "error",
     "traceback": [
      "\u001b[1;31m---------------------------------------------------------------------------\u001b[0m",
      "\u001b[1;31mIndexError\u001b[0m                                Traceback (most recent call last)",
      "\u001b[1;32m<ipython-input-12-c8151be3572f>\u001b[0m in \u001b[0;36m<module>\u001b[1;34m\u001b[0m\n\u001b[1;32m----> 1\u001b[1;33m \u001b[0mu\u001b[0m\u001b[1;33m(\u001b[0m\u001b[1;36m0.8\u001b[0m\u001b[1;33m,\u001b[0m\u001b[1;36m10\u001b[0m\u001b[1;33m)\u001b[0m\u001b[1;33m\u001b[0m\u001b[1;33m\u001b[0m\u001b[0m\n\u001b[0m\u001b[0;32m      2\u001b[0m \u001b[1;31m# Silly example data\u001b[0m\u001b[1;33m\u001b[0m\u001b[1;33m\u001b[0m\u001b[1;33m\u001b[0m\u001b[0m\n\u001b[0;32m      3\u001b[0m \u001b[0mX\u001b[0m \u001b[1;33m=\u001b[0m \u001b[0mnp\u001b[0m\u001b[1;33m.\u001b[0m\u001b[0mlinspace\u001b[0m\u001b[1;33m(\u001b[0m\u001b[1;36m0\u001b[0m\u001b[1;33m,\u001b[0m \u001b[1;36m1\u001b[0m\u001b[1;33m,\u001b[0m \u001b[0mnum\u001b[0m\u001b[1;33m=\u001b[0m\u001b[1;36m40\u001b[0m\u001b[1;33m,\u001b[0m \u001b[0mendpoint\u001b[0m\u001b[1;33m=\u001b[0m\u001b[1;32mTrue\u001b[0m\u001b[1;33m)\u001b[0m\u001b[1;33m\u001b[0m\u001b[1;33m\u001b[0m\u001b[0m\n\u001b[0;32m      4\u001b[0m \u001b[0mY\u001b[0m \u001b[1;33m=\u001b[0m \u001b[0mnp\u001b[0m\u001b[1;33m.\u001b[0m\u001b[0marray\u001b[0m\u001b[1;33m(\u001b[0m\u001b[1;33m[\u001b[0m\u001b[0mu\u001b[0m\u001b[1;33m(\u001b[0m\u001b[0mx\u001b[0m\u001b[1;33m,\u001b[0m\u001b[1;36m3\u001b[0m\u001b[1;33m)\u001b[0m \u001b[1;32mfor\u001b[0m \u001b[0mx\u001b[0m \u001b[1;32min\u001b[0m \u001b[0mX\u001b[0m\u001b[1;33m]\u001b[0m\u001b[1;33m)\u001b[0m\u001b[1;33m\u001b[0m\u001b[1;33m\u001b[0m\u001b[0m\n\u001b[0;32m      5\u001b[0m \u001b[1;33m\u001b[0m\u001b[0m\n",
      "\u001b[1;32m<ipython-input-9-dd74b3e63642>\u001b[0m in \u001b[0;36mu\u001b[1;34m(x, t)\u001b[0m\n\u001b[0;32m      5\u001b[0m \u001b[1;33m\u001b[0m\u001b[0m\n\u001b[0;32m      6\u001b[0m     \u001b[1;32mfor\u001b[0m \u001b[0mn\u001b[0m \u001b[1;32min\u001b[0m \u001b[0mrange\u001b[0m\u001b[1;33m(\u001b[0m\u001b[1;36m1\u001b[0m\u001b[1;33m,\u001b[0m\u001b[0mN\u001b[0m\u001b[1;33m)\u001b[0m\u001b[1;33m:\u001b[0m\u001b[1;33m\u001b[0m\u001b[1;33m\u001b[0m\u001b[0m\n\u001b[1;32m----> 7\u001b[1;33m         \u001b[0mtemp\u001b[0m \u001b[1;33m+=\u001b[0m \u001b[0mw_n\u001b[0m\u001b[1;33m[\u001b[0m\u001b[0mn\u001b[0m\u001b[1;33m]\u001b[0m\u001b[1;33m[\u001b[0m\u001b[0mt_step\u001b[0m\u001b[1;33m]\u001b[0m\u001b[1;33m*\u001b[0m\u001b[0mnp\u001b[0m\u001b[1;33m.\u001b[0m\u001b[0msin\u001b[0m\u001b[1;33m(\u001b[0m\u001b[0mn\u001b[0m\u001b[1;33m*\u001b[0m\u001b[0mnp\u001b[0m\u001b[1;33m.\u001b[0m\u001b[0mpi\u001b[0m\u001b[1;33m*\u001b[0m\u001b[0mx\u001b[0m\u001b[1;33m)\u001b[0m\u001b[1;33m\u001b[0m\u001b[1;33m\u001b[0m\u001b[0m\n\u001b[0m\u001b[0;32m      8\u001b[0m \u001b[1;33m\u001b[0m\u001b[0m\n\u001b[0;32m      9\u001b[0m     \u001b[1;32mreturn\u001b[0m \u001b[0mtemp\u001b[0m\u001b[1;33m\u001b[0m\u001b[1;33m\u001b[0m\u001b[0m\n",
      "\u001b[1;31mIndexError\u001b[0m: index 19999 is out of bounds for axis 0 with size 10001"
     ]
    }
   ],
   "source": [
    "u(0.8,10)\n",
    "# Silly example data\n",
    "X = np.linspace(0, 1, num=40, endpoint=True)\n",
    "Y = np.array([u(x,3) for x in X])\n",
    "\n",
    "# Make the plot\n",
    "plt.plot(X, Y, linewidth=3, linestyle=\"--\",\n",
    "         color=\"blue\", label=r\"Legend label $\\sin(x)$\")\n",
    "plt.xlabel(r\"Description of $x$ coordinate (units)\")\n",
    "plt.ylabel(r\"Description of $y$ coordinate (units)\")\n",
    "plt.title(r\"Title here (remove for papers)\")\n",
    "plt.xlim(0, 1)\n",
    "plt.ylim(-1.1, 1.1)\n",
    "plt.legend(loc=\"lower left\")\n",
    "plt.show()"
   ]
  },
  {
   "cell_type": "code",
   "execution_count": null,
   "metadata": {},
   "outputs": [],
   "source": []
  },
  {
   "cell_type": "code",
   "execution_count": null,
   "metadata": {},
   "outputs": [],
   "source": []
  },
  {
   "cell_type": "code",
   "execution_count": null,
   "metadata": {},
   "outputs": [],
   "source": []
  },
  {
   "cell_type": "markdown",
   "metadata": {},
   "source": [
    "### Example Coupled Time Dependence (Wave)"
   ]
  }
 ],
 "metadata": {
  "hide_input": false,
  "kernelspec": {
   "display_name": "Python 3",
   "language": "python",
   "name": "python3"
  },
  "language_info": {
   "codemirror_mode": {
    "name": "ipython",
    "version": 3
   },
   "file_extension": ".py",
   "mimetype": "text/x-python",
   "name": "python",
   "nbconvert_exporter": "python",
   "pygments_lexer": "ipython3",
   "version": "3.7.6"
  },
  "toc": {
   "base_numbering": 1,
   "nav_menu": {},
   "number_sections": true,
   "sideBar": true,
   "skip_h1_title": false,
   "title_cell": "Table of Contents",
   "title_sidebar": "Contents",
   "toc_cell": true,
   "toc_position": {},
   "toc_section_display": true,
   "toc_window_display": false
  },
  "varInspector": {
   "cols": {
    "lenName": 16,
    "lenType": 16,
    "lenVar": 40
   },
   "kernels_config": {
    "python": {
     "delete_cmd_postfix": "",
     "delete_cmd_prefix": "del ",
     "library": "var_list.py",
     "varRefreshCmd": "print(var_dic_list())"
    },
    "r": {
     "delete_cmd_postfix": ") ",
     "delete_cmd_prefix": "rm(",
     "library": "var_list.r",
     "varRefreshCmd": "cat(var_dic_list()) "
    }
   },
   "types_to_exclude": [
    "module",
    "function",
    "builtin_function_or_method",
    "instance",
    "_Feature"
   ],
   "window_display": false
  }
 },
 "nbformat": 4,
 "nbformat_minor": 4
}
